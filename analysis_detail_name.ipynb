{
 "cells": [
  {
   "cell_type": "code",
   "execution_count": 2,
   "outputs": [],
   "source": [
    "import glob\n",
    "import os\n",
    "import json\n",
    "\n",
    "file_list = glob.glob(os.path.join(\"data\",\"json\",\"*.json\"))\n",
    "\n",
    "competitions = list()\n",
    "for item in file_list:\n",
    "    with open(item, 'r') as fp:\n",
    "        competitions.append(json.load(fp))"
   ],
   "metadata": {
    "collapsed": false,
    "ExecuteTime": {
     "end_time": "2023-05-20T02:03:53.885802500Z",
     "start_time": "2023-05-20T02:03:52.991571400Z"
    }
   }
  },
  {
   "cell_type": "code",
   "execution_count": 3,
   "outputs": [
    {
     "data": {
      "text/plain": "41"
     },
     "execution_count": 3,
     "metadata": {},
     "output_type": "execute_result"
    }
   ],
   "source": [
    "len(competitions)"
   ],
   "metadata": {
    "collapsed": false,
    "ExecuteTime": {
     "end_time": "2023-05-20T02:03:53.903568200Z",
     "start_time": "2023-05-20T02:03:53.877470Z"
    }
   }
  },
  {
   "cell_type": "code",
   "execution_count": 4,
   "outputs": [
    {
     "name": "stdout",
     "output_type": "stream",
     "text": [
      "No detailed scores for 11th Annual Snowtown Invitational: 51 Beginner-No Test-Pre-Prelim Character Performan\n",
      "No detailed scores for 11th Annual Snowtown Invitational: 52 Beginner-Pre-Juvenile Lyrical Pop\n",
      "No detailed scores for 11th Annual Snowtown Invitational: 53 Preliminary-Pre-Juvenile Character Performance\n",
      "No detailed scores for 11th Annual Snowtown Invitational: 54 Junior-Senior Character Performance\n",
      "No detailed scores for 2022 Crossroads FSC Spring-tacular Competition: Junior Men SP\n",
      "No detailed scores for 2022 Magnolia Open: Intermediate Ladies Excel -- 210\n",
      "No detailed scores for 2022 Magnolia Open: Pre-Preliminary Boys Excel -- 134\n",
      "No detailed scores for 2022 Magnolia Open: Senior Ladies Excel -- 213\n",
      "No detailed scores for 2022 North Shore Open: 137 Junior Men\n",
      "No detailed scores for 2022 North Shore Open: 154 Junior Men FS\n",
      "No detailed scores for 2023 Albert Viviani Memorial Competition Deborah B: 10 Adult Bronze Emotional Performance\n",
      "No detailed scores for 2023 Albert Viviani Memorial Competition Deborah B: 11 Adult Silver Emotional Performance\n",
      "No detailed scores for 2023 Albert Viviani Memorial Competition Deborah B: 13 Masters Emotional Performance\n",
      "No detailed scores for 2023 Albert Viviani Memorial Competition Deborah B: 16 Adult Silver Lyrical Pop\n",
      "No detailed scores for 2023 Albert Viviani Memorial Competition Deborah B: 17 Adult Gold Lyrical Pop\n",
      "No detailed scores for 2023 Albert Viviani Memorial Competition Deborah B: 19 Adult Bronze Character Performance\n",
      "No detailed scores for 2023 Albert Viviani Memorial Competition Deborah B: 20 Adult Silver Character Performance\n",
      "No detailed scores for 2023 Albert Viviani Memorial Competition Deborah B: 45 Preliminary Lyrical Pop\n",
      "No detailed scores for 2023 Albert Viviani Memorial Competition Deborah B: 46 Pre-Juvenile Lyrical Pop\n",
      "No detailed scores for 2023 Albert Viviani Memorial Competition Deborah B: 52 Beginner Character Performance\n",
      "No detailed scores for 2023 Albert Viviani Memorial Competition Deborah B: 53 High Beginner Character Performance\n",
      "No detailed scores for 2023 Albert Viviani Memorial Competition Deborah B: 54 Preliminary Character Performance\n",
      "No detailed scores for 2023 Albert Viviani Memorial Competition Deborah B: 55 Pre-Juvenile Character Performance\n",
      "No detailed scores for 2023 Albert Viviani Memorial Competition Deborah B: 56 Intermediate Character Performance\n",
      "No detailed scores for 2023 Albert Viviani Memorial Competition Deborah B: 60 Preliminary Emotional Performance\n",
      "No detailed scores for 2023 Albert Viviani Memorial Competition Deborah B: 61 Intermediate Emotional Performance\n",
      "No detailed scores for 2023 Cleveland Invitational Championships: 65 Pre-Juvenile Girls\n",
      "No detailed scores for 2023 Cleveland Invitational Championships: 66 Preliminary Singles\n",
      "No detailed scores for 2023 Cleveland Invitational Championships: 74 Juvenile Girls\n",
      "No detailed scores for 2023 Cleveland Invitational Championships: 75 Open Juvenile Women\n",
      "No detailed scores for 2023 Cleveland Invitational Championships: 76 Intermediate Women\n",
      "No detailed scores for 2023 Cleveland Invitational Championships: 77 Intermediate Women\n",
      "No detailed scores for 2023 Columbus Invitational: 105 Beginner Character Performance\n",
      "No detailed scores for 2023 Columbus Invitational: 106 High Beginner Character Performance\n",
      "No detailed scores for 2023 Columbus Invitational: 108 Pre-Preliminary Character Performance\n",
      "No detailed scores for 2023 Columbus Invitational: 109 Preliminary Character Performance\n",
      "No detailed scores for 2023 Columbus Invitational: 110 Senior Character Performance\n",
      "No detailed scores for 2023 Columbus Invitational: 111 Adult Bronze Character Performance\n",
      "No detailed scores for 2023 Columbus Invitational: 333 Intermediate Interpretive\n",
      "No detailed scores for 2023 Columbus Invitational: 334 Masters Interpretive\n",
      "No detailed scores for 2023 Columbus Invitational: 335 Beginner Lyrical Pop\n",
      "No detailed scores for 2023 Columbus Invitational: 336 Pre-Preliminary Lyrical Pop\n",
      "No detailed scores for 2023 Columbus Invitational: 338 Pre-Preliminary Emotional Performance\n",
      "No detailed scores for 2023 Columbus Invitational: 339 Preliminary Emotional Performance\n",
      "No detailed scores for 2023 Columbus Invitational: 340 Adult Gold Emotional Performance\n",
      "No detailed scores for 2023 Columbus Invitational: 341 Masters Duets\n",
      "No detailed scores for 2023 Columbus Invitational: 342 No Test Interpretive\n",
      "No detailed scores for 2023 Columbus Invitational: 343 Pre-Preliminary Interpretive\n",
      "No detailed scores for 2023 Columbus Invitational: 344 Preliminary Interpretive\n",
      "No detailed scores for 2023 Columbus Invitational: 345 Pre-Juvenile Interpretive\n",
      "No detailed scores for 2023 Denver Invitational: 130 Pre-Juvenile Girls Spins Challenge\n",
      "No detailed scores for 2023 Denver Invitational: 132 Juvenile-Open Juvenile Spins\n",
      "No detailed scores for 2023 Denver Invitational: 134 Intermediate Women Spins Challenge\n",
      "No detailed scores for 2023 Denver Invitational: 136 Novice Women Spins Challenge\n",
      "No detailed scores for 2023 Denver Invitational: 138 Pre-Preliminary Spins Grp A\n",
      "No detailed scores for 2023 Denver Invitational: 140 Pre-Preliminary Spins Grp B\n",
      "No detailed scores for 2023 Denver Invitational: 142 Pre-Preliminary Spins Grp C\n",
      "No detailed scores for 2023 Denver Invitational: 144 Preliminary Spins Grp A\n",
      "No detailed scores for 2023 Denver Invitational: 146 Preliminary Spins Grp B\n",
      "No detailed scores for 2023 Denver Invitational: 148 Preliminary Spins Grp C\n",
      "No detailed scores for 2023 Denver Invitational: 150 Pre-Juvenile Jumps\n",
      "No detailed scores for 2023 Denver Invitational: 152 Pre-Preliminary Girls Jumps Challenge Grp A\n",
      "No detailed scores for 2023 Denver Invitational: 154 Pre-Preliminary Girls Jumps Challenge Grp B\n",
      "No detailed scores for 2023 Denver Invitational: 156 Pre-Preliminary Boys Jumps Challenge\n",
      "No detailed scores for 2023 Denver Invitational: 158 Preliminary Girls Jumps Challenge Grp A\n",
      "No detailed scores for 2023 Denver Invitational: 162 No-Test Girls Jumps Challenge Grp B\n",
      "No detailed scores for 2023 Denver Invitational: 160 No-Test Girls Jumps Challenge Grp A\n",
      "No detailed scores for 2023 Denver Invitational: 163 Preliminary Girls Jumps Challenge Grp B\n",
      "No detailed scores for 2023 Denver Invitational: 164 Preliminary Boys Jumps Challenge\n",
      "No detailed scores for 2023 Denver Invitational: 165 Spins No Test\n",
      "No detailed scores for 2023 Denver Invitational: 182 Novice Women Jumps Challenge\n",
      "No detailed scores for 2023 Denver Invitational: 183 Junior Women Jumps Challenge\n",
      "No detailed scores for 2023 Denver Invitational: 184 Intermediate Women Jumps Challenge\n",
      "No detailed scores for 2023 Denver Invitational: 185 Jumps Juvenile-Open Juvenile\n",
      "No detailed scores for 2023 Denver Invitational: 186 Junior Women Spins Challenge\n",
      "No detailed scores for 2023 Denver Invitational: 198 Senior Pairs FS\n",
      "No detailed scores for 2023 Fort Collins Classic: 120 Beginner Girls Spins Challenge\n",
      "No detailed scores for 2023 Fort Collins Classic: 121 High Beginner Girls Spins Challenge\n",
      "No detailed scores for 2023 Fort Collins Classic: 122 No-Test Boys Spins Challenge\n",
      "No detailed scores for 2023 Fort Collins Classic: 123 Pre-Preliminary Girls Spins Challenge\n",
      "No detailed scores for 2023 Fort Collins Classic: 124 Preliminary Girls Spins Challenge\n",
      "No detailed scores for 2023 Fort Collins Classic: 125 Pre-Juvenile Girls Spins Challenge\n",
      "No detailed scores for 2023 Fort Collins Classic: 126 Juvenile Girls Spins Challenge\n",
      "No detailed scores for 2023 Fort Collins Classic: 127 Intermediate Women Spins Challenge\n",
      "No detailed scores for 2023 Fort Collins Classic: 128 Junior Women Spins Challenge\n",
      "No detailed scores for 2023 Fort Collins Classic: 139 Adult Silver Women Spins Challenge\n",
      "No detailed scores for 2023 Houston Invitational: 025 Junior Women\n",
      "No detailed scores for 2023 Louisville Skating Academy Spring Invitationa: Adult Silver Women FS\n",
      "No detailed scores for 2023 Louisville Skating Academy Spring Invitationa: Novice Women SP\n",
      "No detailed scores for 2023 Louisville Skating Academy Spring Invitationa: Pre-Juvenile Girls Jumps Challenge\n",
      "No detailed scores for 2023 May Day Open and Compete USA: 108 Junior Men Excel\n",
      "No detailed scores for 2023 North Atlantic Open: 68 Excel Junior Women Free Skate\n",
      "No detailed scores for 2023 North Star Spring Classic: 35 Junior Women FS\n",
      "No detailed scores for 2023 SEGL and Skate Nashville: 1138 Intermediate Comedic Impressions\n",
      "No detailed scores for 2023 SEGL and Skate Nashville: 2139 Young Adult Character Performance\n",
      "No detailed scores for 2023 SEGL and Skate Nashville: 2140 Adult Pre-Bronze Character Performance\n",
      "No detailed scores for 2023 SEGL and Skate Nashville: 2143 Intermediate Interpretive\n",
      "No detailed scores for 2023 SEGL and Skate Nashville: 2144 Junior Interpretive\n",
      "No detailed scores for 2023 Skate Austin Bluebonnet Open: 022 Juvenile Pairs FS\n",
      "No detailed scores for 2023 Spring Funtastics: 001  Preliminary Spins\n",
      "No detailed scores for 2023 Spring Funtastics: 002 Pre-Juvenile Spins\n",
      "No detailed scores for 2023 Spring Funtastics: 003 Juvenile-Open Juvenile Spins\n",
      "No detailed scores for 2023 Spring Funtastics: 004 Intermediate Spins\n",
      "No detailed scores for 2023 Spring Funtastics: 005 Pre-Juvenile Jumps\n",
      "No detailed scores for 2023 Spring Funtastics: 006 Juvenile-Open Juvenile Jumps\n",
      "No detailed scores for 2023 Spring Funtastics: 007 Intermediate Jumps\n",
      "No detailed scores for 2023 Spring Funtastics: 060 Masters Emotional Performance Exhibition\n",
      "No detailed scores for 2023 Spring Funtastics: 069 Junior Duets Exhibition\n",
      "No detailed scores for 2023 Spring Funtastics: 081 Novice Choreographic Artistry\n",
      "No detailed scores for 2023 Sugar Skate: 012 Beginner Emotional Performance\n",
      "No detailed scores for 2023 Westchester Classic: 44 Novice Men FS\n",
      "No detailed scores for 36th Annual Florida Open Figure Skating Championsh: 1113 Pre-Juvenile Boys Excel\n",
      "No detailed scores for 48th Annual Howard E. Van Camp Invitational: 110 Pre-Gold Shadow Dance\n",
      "No detailed scores for 48th Annual Howard E. Van Camp Invitational: 147 Junior Women\n",
      "No detailed scores for Alamo Skate 2023: 15 Beginner Character Performance\n",
      "No detailed scores for Alamo Skate 2023: 16 Pre-Juvenile Character Performance\n",
      "No detailed scores for Alamo Skate 2023: 17 Novice Character Performance\n",
      "No detailed scores for Alamo Skate 2023: 18 Novice Choreographic Artistry\n",
      "No detailed scores for Alamo Skate 2023: 40 Novice Emotional Performance\n",
      "No detailed scores for Alamo Skate 2023: 41 Pre-Juvenile Emotional Performance\n",
      "No detailed scores for Alamo Skate 2023: 42 Adult Bronze Emotional Performance\n",
      "No detailed scores for Alamo Skate 2023: 43 No Test Emotional Performance\n",
      "No detailed scores for Crossroads FSC Spring - tacular Competition 2023: Pre-Juvenile Plus Boys Excel  (21)\n",
      "No detailed scores for May Day Open and Compete USA: 252 Junior Men FS\n",
      "No detailed scores for May Day Open and Compete USA: 253 Senior Ladies FS\n",
      "No detailed scores for Morris Open: Juvenile Boys Excel (29)\n",
      "No detailed scores for Morris Open: Senior Ladies FS (44)\n",
      "No detailed scores for Omaha Winterfest 2023: 57 - Juvenile Girls SP\n",
      "No detailed scores for Westchester Classic: 110 Novice Men SP\n",
      "No detailed scores for Westchester Classic: 138 Novice Men FS\n"
     ]
    }
   ],
   "source": [
    "import pandas as pd\n",
    "df = pd.DataFrame({\n",
    "    'competition': [],\n",
    "    'event': [],\n",
    "    'rank': [],\n",
    "    'name': [],\n",
    "    'total_base_value': [],\n",
    "    'total_element_score': [],\n",
    "    'total_component_score': [],\n",
    "    'total_segment_score':[]\n",
    "})\n",
    "count = 0\n",
    "for competition in competitions:\n",
    "    for event in competition['event']:\n",
    "        try:\n",
    "            detailed_scores = event['detailed_scores']\n",
    "        except Exception as e:\n",
    "            print(f\"No detailed scores for {event['competition']}: {event['program']}\")\n",
    "        performances = detailed_scores['performances']\n",
    "        for performance in performances:\n",
    "            # print(performance['metadata'])\n",
    "            df_row = [event['competition'],\n",
    "                      performance['metadata']['program'],\n",
    "                      performance['metadata']['rank'],\n",
    "                      performance['metadata']['name'],\n",
    "                      performance['metadata']['total_base_value'],\n",
    "                      performance['metadata']['total_element_score'],\n",
    "                      performance['metadata']['total_component_score'],\n",
    "                      performance['metadata']['total_segment_score'],\n",
    "                      ]\n",
    "            # print(df_row)\n",
    "            df.loc[count] = df_row\n",
    "            count += 1"
   ],
   "metadata": {
    "collapsed": false,
    "ExecuteTime": {
     "end_time": "2023-05-20T02:04:15.710465200Z",
     "start_time": "2023-05-20T02:03:53.910733500Z"
    }
   }
  },
  {
   "cell_type": "code",
   "execution_count": 15,
   "outputs": [
    {
     "data": {
      "text/plain": "                   competition  \\\n1123     2022 Southern CT Open   \n3986  2023 Westchester Classic   \n6522               Morris Open   \n\n                                                  event  rank  \\\n1123  143 Pre-Juvenile Plus Girls Excel Grp B / Free...     7   \n3986  31 Pre-Juvenile Plus Girls Excel Grp B / Free ...     2   \n6522  Pre-Juvenile Plus Girls Excel Grp B (40) / Fre...     2   \n\n                               name  total_base_value  total_element_score  \\\n1123  Sarah Bluberg, SC of New York               8.6                 8.06   \n3986  Sarah Bluberg, SC of New York              12.2                11.77   \n6522  Sarah Bluberg, SC of New York               9.9                 9.82   \n\n      total_component_score  total_segment_score  \n1123                   8.00                15.56  \n3986                  10.73                22.50  \n6522                  11.13                20.95  ",
      "text/html": "<div>\n<style scoped>\n    .dataframe tbody tr th:only-of-type {\n        vertical-align: middle;\n    }\n\n    .dataframe tbody tr th {\n        vertical-align: top;\n    }\n\n    .dataframe thead th {\n        text-align: right;\n    }\n</style>\n<table border=\"1\" class=\"dataframe\">\n  <thead>\n    <tr style=\"text-align: right;\">\n      <th></th>\n      <th>competition</th>\n      <th>event</th>\n      <th>rank</th>\n      <th>name</th>\n      <th>total_base_value</th>\n      <th>total_element_score</th>\n      <th>total_component_score</th>\n      <th>total_segment_score</th>\n    </tr>\n  </thead>\n  <tbody>\n    <tr>\n      <th>1123</th>\n      <td>2022 Southern CT Open</td>\n      <td>143 Pre-Juvenile Plus Girls Excel Grp B / Free...</td>\n      <td>7</td>\n      <td>Sarah Bluberg, SC of New York</td>\n      <td>8.6</td>\n      <td>8.06</td>\n      <td>8.00</td>\n      <td>15.56</td>\n    </tr>\n    <tr>\n      <th>3986</th>\n      <td>2023 Westchester Classic</td>\n      <td>31 Pre-Juvenile Plus Girls Excel Grp B / Free ...</td>\n      <td>2</td>\n      <td>Sarah Bluberg, SC of New York</td>\n      <td>12.2</td>\n      <td>11.77</td>\n      <td>10.73</td>\n      <td>22.50</td>\n    </tr>\n    <tr>\n      <th>6522</th>\n      <td>Morris Open</td>\n      <td>Pre-Juvenile Plus Girls Excel Grp B (40) / Fre...</td>\n      <td>2</td>\n      <td>Sarah Bluberg, SC of New York</td>\n      <td>9.9</td>\n      <td>9.82</td>\n      <td>11.13</td>\n      <td>20.95</td>\n    </tr>\n  </tbody>\n</table>\n</div>"
     },
     "execution_count": 15,
     "metadata": {},
     "output_type": "execute_result"
    }
   ],
   "source": [
    "event_watched = df[df['name'].str.contains('Bluberg')]\n",
    "event_watched"
   ],
   "metadata": {
    "collapsed": false,
    "ExecuteTime": {
     "end_time": "2023-05-20T02:22:16.763232200Z",
     "start_time": "2023-05-20T02:22:16.720230500Z"
    }
   }
  }
 ],
 "metadata": {
  "kernelspec": {
   "display_name": "Python 3",
   "language": "python",
   "name": "python3"
  },
  "language_info": {
   "codemirror_mode": {
    "name": "ipython",
    "version": 2
   },
   "file_extension": ".py",
   "mimetype": "text/x-python",
   "name": "python",
   "nbconvert_exporter": "python",
   "pygments_lexer": "ipython2",
   "version": "2.7.6"
  }
 },
 "nbformat": 4,
 "nbformat_minor": 0
}
