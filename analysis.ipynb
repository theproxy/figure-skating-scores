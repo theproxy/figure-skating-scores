{
 "cells": [
  {
   "cell_type": "code",
   "execution_count": 9,
   "outputs": [
    {
     "name": "stdout",
     "output_type": "stream",
     "text": [
      "Using cached file: data\\html\\ijs.usfigureskating.org\\%2Fleaderboard%2Fresults%2F2023%2F32243%2F\\index.asp\n"
     ]
    }
   ],
   "source": [
    "from scripts.parse_html import *\n",
    "url = 'https://ijs.usfigureskating.org/leaderboard/results/2023/32241/index.asp'\n",
    "url = 'https://ijs.usfigureskating.org/leaderboard/results/2023/32243/index.asp'\n",
    "content = get_html(url)\n",
    "data = parse_html_competition(content['file_path'])"
   ],
   "metadata": {
    "collapsed": false,
    "ExecuteTime": {
     "start_time": "2023-04-16T20:56:37.720893Z",
     "end_time": "2023-04-16T20:56:37.798571Z"
    }
   }
  },
  {
   "cell_type": "code",
   "execution_count": 10,
   "outputs": [
    {
     "name": "stdout",
     "output_type": "stream",
     "text": [
      "Using cached file: data\\html\\ijs.usfigureskating.org\\%2Fleaderboard%2Fresults%2F2023%2F32243%2F\\CAT001SEG001.html\n",
      "*** data\\html\\ijs.usfigureskating.org\\%2Fleaderboard%2Fresults%2F2023%2F32243%2F\\CAT001SEG001.html ***\n",
      "Using cached file: data\\html\\ijs.usfigureskating.org\\%2Fleaderboard%2Fresults%2F2023%2F32243%2F\\SEGM001.html\n",
      "Using cached file: data\\html\\ijs.usfigureskating.org\\%2Fleaderboard%2Fresults%2F2023%2F32243%2F\\CAT002SEG002.html\n",
      "*** data\\html\\ijs.usfigureskating.org\\%2Fleaderboard%2Fresults%2F2023%2F32243%2F\\CAT002SEG002.html ***\n",
      "Using cached file: data\\html\\ijs.usfigureskating.org\\%2Fleaderboard%2Fresults%2F2023%2F32243%2F\\SEGM002.html\n",
      "Using cached file: data\\html\\ijs.usfigureskating.org\\%2Fleaderboard%2Fresults%2F2023%2F32243%2F\\CAT003SEG003.html\n",
      "*** data\\html\\ijs.usfigureskating.org\\%2Fleaderboard%2Fresults%2F2023%2F32243%2F\\CAT003SEG003.html ***\n",
      "Using cached file: data\\html\\ijs.usfigureskating.org\\%2Fleaderboard%2Fresults%2F2023%2F32243%2F\\SEGM003.html\n",
      "Using cached file: data\\html\\ijs.usfigureskating.org\\%2Fleaderboard%2Fresults%2F2023%2F32243%2F\\CAT004SEG004.html\n",
      "*** data\\html\\ijs.usfigureskating.org\\%2Fleaderboard%2Fresults%2F2023%2F32243%2F\\CAT004SEG004.html ***\n",
      "Using cached file: data\\html\\ijs.usfigureskating.org\\%2Fleaderboard%2Fresults%2F2023%2F32243%2F\\SEGM004.html\n",
      "Using cached file: data\\html\\ijs.usfigureskating.org\\%2Fleaderboard%2Fresults%2F2023%2F32243%2F\\CAT005SEG005.html\n",
      "*** data\\html\\ijs.usfigureskating.org\\%2Fleaderboard%2Fresults%2F2023%2F32243%2F\\CAT005SEG005.html ***\n",
      "Using cached file: data\\html\\ijs.usfigureskating.org\\%2Fleaderboard%2Fresults%2F2023%2F32243%2F\\SEGM005.html\n",
      "Using cached file: data\\html\\ijs.usfigureskating.org\\%2Fleaderboard%2Fresults%2F2023%2F32243%2F\\CAT006SEG006.html\n",
      "*** data\\html\\ijs.usfigureskating.org\\%2Fleaderboard%2Fresults%2F2023%2F32243%2F\\CAT006SEG006.html ***\n",
      "Using cached file: data\\html\\ijs.usfigureskating.org\\%2Fleaderboard%2Fresults%2F2023%2F32243%2F\\SEGM006.html\n",
      "Using cached file: data\\html\\ijs.usfigureskating.org\\%2Fleaderboard%2Fresults%2F2023%2F32243%2F\\CAT007SEG007.html\n",
      "*** data\\html\\ijs.usfigureskating.org\\%2Fleaderboard%2Fresults%2F2023%2F32243%2F\\CAT007SEG007.html ***\n",
      "Using cached file: data\\html\\ijs.usfigureskating.org\\%2Fleaderboard%2Fresults%2F2023%2F32243%2F\\SEGM007.html\n",
      "Using cached file: data\\html\\ijs.usfigureskating.org\\%2Fleaderboard%2Fresults%2F2023%2F32243%2F\\CAT008SEG008.html\n",
      "*** data\\html\\ijs.usfigureskating.org\\%2Fleaderboard%2Fresults%2F2023%2F32243%2F\\CAT008SEG008.html ***\n",
      "Using cached file: data\\html\\ijs.usfigureskating.org\\%2Fleaderboard%2Fresults%2F2023%2F32243%2F\\SEGM008.html\n",
      "Using cached file: data\\html\\ijs.usfigureskating.org\\%2Fleaderboard%2Fresults%2F2023%2F32243%2F\\CAT009SEG009.html\n",
      "*** data\\html\\ijs.usfigureskating.org\\%2Fleaderboard%2Fresults%2F2023%2F32243%2F\\CAT009SEG009.html ***\n",
      "Using cached file: data\\html\\ijs.usfigureskating.org\\%2Fleaderboard%2Fresults%2F2023%2F32243%2F\\SEGM009.html\n",
      "Using cached file: data\\html\\ijs.usfigureskating.org\\%2Fleaderboard%2Fresults%2F2023%2F32243%2F\\CAT010SEG010.html\n",
      "*** data\\html\\ijs.usfigureskating.org\\%2Fleaderboard%2Fresults%2F2023%2F32243%2F\\CAT010SEG010.html ***\n",
      "Using cached file: data\\html\\ijs.usfigureskating.org\\%2Fleaderboard%2Fresults%2F2023%2F32243%2F\\SEGM010.html\n",
      "Using cached file: data\\html\\ijs.usfigureskating.org\\%2Fleaderboard%2Fresults%2F2023%2F32243%2F\\CAT011SEG011.html\n",
      "*** data\\html\\ijs.usfigureskating.org\\%2Fleaderboard%2Fresults%2F2023%2F32243%2F\\CAT011SEG011.html ***\n",
      "Using cached file: data\\html\\ijs.usfigureskating.org\\%2Fleaderboard%2Fresults%2F2023%2F32243%2F\\SEGM011.html\n",
      "Using cached file: data\\html\\ijs.usfigureskating.org\\%2Fleaderboard%2Fresults%2F2023%2F32243%2F\\CAT012SEG012.html\n",
      "*** data\\html\\ijs.usfigureskating.org\\%2Fleaderboard%2Fresults%2F2023%2F32243%2F\\CAT012SEG012.html ***\n",
      "Using cached file: data\\html\\ijs.usfigureskating.org\\%2Fleaderboard%2Fresults%2F2023%2F32243%2F\\SEGM012.html\n",
      "Using cached file: data\\html\\ijs.usfigureskating.org\\%2Fleaderboard%2Fresults%2F2023%2F32243%2F\\CAT013SEG013.html\n",
      "*** data\\html\\ijs.usfigureskating.org\\%2Fleaderboard%2Fresults%2F2023%2F32243%2F\\CAT013SEG013.html ***\n",
      "Using cached file: data\\html\\ijs.usfigureskating.org\\%2Fleaderboard%2Fresults%2F2023%2F32243%2F\\SEGM013.html\n",
      "Using cached file: data\\html\\ijs.usfigureskating.org\\%2Fleaderboard%2Fresults%2F2023%2F32243%2F\\CAT014SEG014.html\n",
      "*** data\\html\\ijs.usfigureskating.org\\%2Fleaderboard%2Fresults%2F2023%2F32243%2F\\CAT014SEG014.html ***\n",
      "Using cached file: data\\html\\ijs.usfigureskating.org\\%2Fleaderboard%2Fresults%2F2023%2F32243%2F\\SEGM014.html\n",
      "Using cached file: data\\html\\ijs.usfigureskating.org\\%2Fleaderboard%2Fresults%2F2023%2F32243%2F\\CAT015SEG015.html\n",
      "*** data\\html\\ijs.usfigureskating.org\\%2Fleaderboard%2Fresults%2F2023%2F32243%2F\\CAT015SEG015.html ***\n",
      "Using cached file: data\\html\\ijs.usfigureskating.org\\%2Fleaderboard%2Fresults%2F2023%2F32243%2F\\SEGM015.html\n",
      "Using cached file: data\\html\\ijs.usfigureskating.org\\%2Fleaderboard%2Fresults%2F2023%2F32243%2F\\CAT016SEG016.html\n",
      "*** data\\html\\ijs.usfigureskating.org\\%2Fleaderboard%2Fresults%2F2023%2F32243%2F\\CAT016SEG016.html ***\n",
      "Using cached file: data\\html\\ijs.usfigureskating.org\\%2Fleaderboard%2Fresults%2F2023%2F32243%2F\\SEGM016.html\n",
      "Using cached file: data\\html\\ijs.usfigureskating.org\\%2Fleaderboard%2Fresults%2F2023%2F32243%2F\\CAT017SEG017.html\n",
      "*** data\\html\\ijs.usfigureskating.org\\%2Fleaderboard%2Fresults%2F2023%2F32243%2F\\CAT017SEG017.html ***\n",
      "Using cached file: data\\html\\ijs.usfigureskating.org\\%2Fleaderboard%2Fresults%2F2023%2F32243%2F\\SEGM017.html\n",
      "Using cached file: data\\html\\ijs.usfigureskating.org\\%2Fleaderboard%2Fresults%2F2023%2F32243%2F\\CAT018SEG018.html\n",
      "*** data\\html\\ijs.usfigureskating.org\\%2Fleaderboard%2Fresults%2F2023%2F32243%2F\\CAT018SEG018.html ***\n",
      "Using cached file: data\\html\\ijs.usfigureskating.org\\%2Fleaderboard%2Fresults%2F2023%2F32243%2F\\SEGM018.html\n",
      "Using cached file: data\\html\\ijs.usfigureskating.org\\%2Fleaderboard%2Fresults%2F2023%2F32243%2F\\CAT019SEG019.html\n",
      "*** data\\html\\ijs.usfigureskating.org\\%2Fleaderboard%2Fresults%2F2023%2F32243%2F\\CAT019SEG019.html ***\n",
      "No key found, probably no detailed scores: 'href'\n",
      "Using cached file: data\\html\\ijs.usfigureskating.org\\%2Fleaderboard%2Fresults%2F2023%2F32243%2F\\CAT020SEG020.html\n",
      "*** data\\html\\ijs.usfigureskating.org\\%2Fleaderboard%2Fresults%2F2023%2F32243%2F\\CAT020SEG020.html ***\n",
      "Using cached file: data\\html\\ijs.usfigureskating.org\\%2Fleaderboard%2Fresults%2F2023%2F32243%2F\\SEGM020.html\n"
     ]
    }
   ],
   "source": [
    "programs = []\n",
    "for event in data['events']:\n",
    "    event_url = content['base'] + content['url_path'] + event['file']\n",
    "    event_file = get_html(event_url)\n",
    "    print(f\"*** {event_file['file_path']} ***\")\n",
    "\n",
    "    event_stuff = parse_html_program(event_file['file_path'], detailed=False)\n",
    "    if event_stuff['detailed'] != None:\n",
    "        event_detail_url = content['base'] + content['url_path'] + event_stuff['detailed']\n",
    "        get_html(event_detail_url)\n",
    "        detailed_event_data = parse_html_detailed_scores(os.path.join(content['dir_path'],event_stuff['detailed']))\n",
    "        programs.append(detailed_event_data)"
   ],
   "metadata": {
    "collapsed": false,
    "ExecuteTime": {
     "start_time": "2023-04-16T20:56:37.796566Z",
     "end_time": "2023-04-16T20:56:42.802412Z"
    }
   }
  },
  {
   "cell_type": "code",
   "execution_count": 17,
   "outputs": [
    {
     "data": {
      "text/plain": "{'file': 'data\\\\html\\\\ijs.usfigureskating.org\\\\%2Fleaderboard%2Fresults%2F2023%2F32243%2F\\\\SEGM003.html',\n 'performances': [{'metadata': {'competition': '2023 North Atlantic Open',\n    'name': 'Rylie Smith, SC of Boston',\n    'nation': '',\n    'program': '29 Adult Bronze Women Free Skate / Free Skate',\n    'rank': 1,\n    'starting_number': None,\n    'total_component_score': 10.76,\n    'total_deductions': 0.0,\n    'total_element_score': 6.1,\n    'total_segment_score': 16.86,\n    'total_base_value': 6.5,\n    'general_component_factor': 1.0},\n   'elements': [{'base_value': 1.1,\n     'credit_flag': '1',\n     'element_desc': 'CSpB',\n     'element_num': '1',\n     'goe': 0.0,\n     'info_flag': '',\n     'ref': '',\n     'scores_of_panel': 1.1,\n     'J1': 1.0,\n     'J2': 0.0,\n     'J3': -1.0,\n     'J4': 0.0,\n     'J5': 0.0,\n     'J6': None,\n     'J7': None,\n     'J8': None,\n     'J9': None,\n     'J10': None},\n    {'base_value': 1.0,\n     'credit_flag': '2',\n     'element_desc': '1F+1Loq',\n     'element_num': '2',\n     'goe': -0.05,\n     'info_flag': '',\n     'ref': '',\n     'scores_of_panel': 0.95,\n     'J1': -2.0,\n     'J2': -1.0,\n     'J3': -1.0,\n     'J4': 1.0,\n     'J5': -1.0,\n     'J6': None,\n     'J7': None,\n     'J8': None,\n     'J9': None,\n     'J10': None},\n    {'base_value': 2.0,\n     'credit_flag': '3',\n     'element_desc': 'ChSt1',\n     'element_num': '3',\n     'goe': -0.22,\n     'info_flag': '',\n     'ref': '',\n     'scores_of_panel': 1.78,\n     'J1': 0.0,\n     'J2': -1.0,\n     'J3': -1.0,\n     'J4': -1.0,\n     'J5': 0.0,\n     'J6': None,\n     'J7': None,\n     'J8': None,\n     'J9': None,\n     'J10': None},\n    {'base_value': 0.4,\n     'credit_flag': '4',\n     'element_desc': '1Lo<',\n     'element_num': '4',\n     'goe': -0.03,\n     'info_flag': '',\n     'ref': '',\n     'scores_of_panel': 0.37,\n     'J1': -1.0,\n     'J2': 0.0,\n     'J3': -1.0,\n     'J4': 1.0,\n     'J5': -2.0,\n     'J6': None,\n     'J7': None,\n     'J8': None,\n     'J9': None,\n     'J10': None},\n    {'base_value': 0.5,\n     'credit_flag': '5',\n     'element_desc': '1Fq',\n     'element_num': '5',\n     'goe': -0.05,\n     'info_flag': '',\n     'ref': '',\n     'scores_of_panel': 0.45,\n     'J1': -2.0,\n     'J2': -1.0,\n     'J3': -1.0,\n     'J4': 0.0,\n     'J5': -1.0,\n     'J6': None,\n     'J7': None,\n     'J8': None,\n     'J9': None,\n     'J10': None},\n    {'base_value': 0.4,\n     'credit_flag': '6',\n     'element_desc': '1S+1T<<',\n     'element_num': '6',\n     'goe': -0.05,\n     'info_flag': '',\n     'ref': '',\n     'scores_of_panel': 0.35,\n     'J1': -3.0,\n     'J2': -1.0,\n     'J3': -1.0,\n     'J4': -1.0,\n     'J5': -2.0,\n     'J6': None,\n     'J7': None,\n     'J8': None,\n     'J9': None,\n     'J10': None},\n    {'base_value': 1.1,\n     'credit_flag': '7',\n     'element_desc': 'SSpB',\n     'element_num': '7',\n     'goe': 0.0,\n     'info_flag': '',\n     'ref': '',\n     'scores_of_panel': 1.1,\n     'J1': 0.0,\n     'J2': 0.0,\n     'J3': -1.0,\n     'J4': 1.0,\n     'J5': 0.0,\n     'J6': None,\n     'J7': None,\n     'J8': None,\n     'J9': None,\n     'J10': None}],\n   'components': [{'component_desc': 'Composition',\n     'factor': 1.5,\n     'scores_of_panel': 2.25,\n     'ref': None,\n     'J1': 2.0,\n     'J2': 2.5,\n     'J3': 2.0,\n     'J4': 2.75,\n     'J5': 2.25,\n     'J6': None,\n     'J7': None,\n     'J8': None,\n     'J9': None},\n    {'component_desc': 'Presentation',\n     'factor': 1.5,\n     'scores_of_panel': 2.42,\n     'ref': None,\n     'J1': 2.0,\n     'J2': 2.5,\n     'J3': 2.25,\n     'J4': 2.75,\n     'J5': 2.5,\n     'J6': None,\n     'J7': None,\n     'J8': None,\n     'J9': None},\n    {'component_desc': 'Skating Skills',\n     'factor': 1.5,\n     'scores_of_panel': 2.5,\n     'ref': None,\n     'J1': 2.0,\n     'J2': 2.5,\n     'J3': 2.25,\n     'J4': 2.75,\n     'J5': 2.75,\n     'J6': None,\n     'J7': None,\n     'J8': None,\n     'J9': None}]},\n  {'metadata': {'competition': '2023 North Atlantic Open',\n    'name': 'Christina Butkiewicus, SC of Boston',\n    'nation': '',\n    'program': '29 Adult Bronze Women Free Skate / Free Skate',\n    'rank': 2,\n    'starting_number': None,\n    'total_component_score': 8.99,\n    'total_deductions': 0.0,\n    'total_element_score': 5.73,\n    'total_segment_score': 14.72,\n    'total_base_value': 6.13,\n    'general_component_factor': 1.0},\n   'elements': [{'base_value': 0.5,\n     'credit_flag': '1',\n     'element_desc': '1F+1T<<',\n     'element_num': '1',\n     'goe': -0.05,\n     'info_flag': '',\n     'ref': '',\n     'scores_of_panel': 0.45,\n     'J1': -1.0,\n     'J2': 0.0,\n     'J3': -2.0,\n     'J4': -1.0,\n     'J5': -1.0,\n     'J6': None,\n     'J7': None,\n     'J8': None,\n     'J9': None,\n     'J10': None},\n    {'base_value': 1.13,\n     'credit_flag': '2',\n     'element_desc': 'CoSpBV',\n     'element_num': '2',\n     'goe': -0.04,\n     'info_flag': '',\n     'ref': '',\n     'scores_of_panel': 1.09,\n     'J1': 0.0,\n     'J2': -2.0,\n     'J3': -1.0,\n     'J4': 0.0,\n     'J5': 0.0,\n     'J6': None,\n     'J7': None,\n     'J8': None,\n     'J9': None,\n     'J10': None},\n    {'base_value': 0.5,\n     'credit_flag': '3',\n     'element_desc': '1F',\n     'element_num': '3',\n     'goe': -0.05,\n     'info_flag': '',\n     'ref': '',\n     'scores_of_panel': 0.45,\n     'J1': 0.0,\n     'J2': -1.0,\n     'J3': -1.0,\n     'J4': -1.0,\n     'J5': -1.0,\n     'J6': None,\n     'J7': None,\n     'J8': None,\n     'J9': None,\n     'J10': None},\n    {'base_value': 2.0,\n     'credit_flag': '4',\n     'element_desc': 'ChSt1',\n     'element_num': '4',\n     'goe': -0.22,\n     'info_flag': '',\n     'ref': '',\n     'scores_of_panel': 1.78,\n     'J1': 0.0,\n     'J2': -1.0,\n     'J3': -1.0,\n     'J4': 0.0,\n     'J5': -1.0,\n     'J6': None,\n     'J7': None,\n     'J8': None,\n     'J9': None,\n     'J10': None},\n    {'base_value': 0.5,\n     'credit_flag': '5',\n     'element_desc': '1Lo',\n     'element_num': '5',\n     'goe': -0.05,\n     'info_flag': '',\n     'ref': '',\n     'scores_of_panel': 0.45,\n     'J1': -1.0,\n     'J2': -1.0,\n     'J3': -1.0,\n     'J4': -1.0,\n     'J5': -1.0,\n     'J6': None,\n     'J7': None,\n     'J8': None,\n     'J9': None,\n     'J10': None},\n    {'base_value': 0.4,\n     'credit_flag': '6',\n     'element_desc': '1S+1T<<',\n     'element_num': '6',\n     'goe': -0.03,\n     'info_flag': '',\n     'ref': '',\n     'scores_of_panel': 0.37,\n     'J1': -2.0,\n     'J2': 0.0,\n     'J3': -1.0,\n     'J4': 0.0,\n     'J5': -1.0,\n     'J6': None,\n     'J7': None,\n     'J8': None,\n     'J9': None,\n     'J10': None},\n    {'base_value': 1.1,\n     'credit_flag': '7',\n     'element_desc': 'SSpB',\n     'element_num': '7',\n     'goe': 0.04,\n     'info_flag': '',\n     'ref': '',\n     'scores_of_panel': 1.14,\n     'J1': 1.0,\n     'J2': 1.0,\n     'J3': -1.0,\n     'J4': 0.0,\n     'J5': 0.0,\n     'J6': None,\n     'J7': None,\n     'J8': None,\n     'J9': None,\n     'J10': None}],\n   'components': [{'component_desc': 'Composition',\n     'factor': 1.5,\n     'scores_of_panel': 2.08,\n     'ref': None,\n     'J1': 2.25,\n     'J2': 2.0,\n     'J3': 1.25,\n     'J4': 2.0,\n     'J5': 2.25,\n     'J6': None,\n     'J7': None,\n     'J8': None,\n     'J9': None},\n    {'component_desc': 'Presentation',\n     'factor': 1.5,\n     'scores_of_panel': 1.83,\n     'ref': None,\n     'J1': 2.25,\n     'J2': 1.0,\n     'J3': 1.5,\n     'J4': 2.25,\n     'J5': 1.75,\n     'J6': None,\n     'J7': None,\n     'J8': None,\n     'J9': None},\n    {'component_desc': 'Skating Skills',\n     'factor': 1.5,\n     'scores_of_panel': 2.08,\n     'ref': None,\n     'J1': 2.25,\n     'J2': 2.0,\n     'J3': 1.5,\n     'J4': 2.25,\n     'J5': 2.0,\n     'J6': None,\n     'J7': None,\n     'J8': None,\n     'J9': None}]}]}"
     },
     "execution_count": 17,
     "metadata": {},
     "output_type": "execute_result"
    }
   ],
   "source": [
    "programs[2]"
   ],
   "metadata": {
    "collapsed": false,
    "ExecuteTime": {
     "start_time": "2023-04-16T20:57:42.509329Z",
     "end_time": "2023-04-16T20:57:42.527822Z"
    }
   }
  },
  {
   "cell_type": "code",
   "execution_count": 13,
   "outputs": [
    {
     "data": {
      "text/plain": "[{'base_value': 1.2,\n  'credit_flag': '1',\n  'element_desc': '1F+1T+1Wz',\n  'element_num': '1',\n  'goe': -0.05,\n  'info_flag': '',\n  'ref': '',\n  'scores_of_panel': 1.15,\n  'J1': -1.0,\n  'J2': -1.0,\n  'J3': -1.0,\n  'J4': -2.0,\n  'J5': 2.0,\n  'J6': None,\n  'J7': None,\n  'J8': None,\n  'J9': None,\n  'J10': None},\n {'base_value': 1.1,\n  'credit_flag': '2',\n  'element_desc': 'SSpB',\n  'element_num': '2',\n  'goe': 0.18,\n  'info_flag': '',\n  'ref': '',\n  'scores_of_panel': 1.28,\n  'J1': 1.0,\n  'J2': 2.0,\n  'J3': 3.0,\n  'J4': 1.0,\n  'J5': 2.0,\n  'J6': None,\n  'J7': None,\n  'J8': None,\n  'J9': None,\n  'J10': None},\n {'base_value': 0.5,\n  'credit_flag': '3',\n  'element_desc': '1Lo',\n  'element_num': '3',\n  'goe': 0.05,\n  'info_flag': '',\n  'ref': '',\n  'scores_of_panel': 0.55,\n  'J1': 0.0,\n  'J2': 1.0,\n  'J3': 1.0,\n  'J4': 1.0,\n  'J5': 1.0,\n  'J6': None,\n  'J7': None,\n  'J8': None,\n  'J9': None,\n  'J10': None},\n {'base_value': 1.0,\n  'credit_flag': '4',\n  'element_desc': '1F+1Lo',\n  'element_num': '4',\n  'goe': 0.02,\n  'info_flag': '',\n  'ref': '',\n  'scores_of_panel': 1.02,\n  'J1': -1.0,\n  'J2': 0.0,\n  'J3': 1.0,\n  'J4': 0.0,\n  'J5': 1.0,\n  'J6': None,\n  'J7': None,\n  'J8': None,\n  'J9': None,\n  'J10': None},\n {'base_value': 0.4,\n  'credit_flag': '5',\n  'element_desc': '1S',\n  'element_num': '5',\n  'goe': 0.04,\n  'info_flag': '',\n  'ref': '',\n  'scores_of_panel': 0.44,\n  'J1': 1.0,\n  'J2': 0.0,\n  'J3': 1.0,\n  'J4': 1.0,\n  'J5': 1.0,\n  'J6': None,\n  'J7': None,\n  'J8': None,\n  'J9': None,\n  'J10': None},\n {'base_value': 1.0,\n  'credit_flag': '6',\n  'element_desc': 'USpB',\n  'element_num': '6',\n  'goe': 0.2,\n  'info_flag': '',\n  'ref': '',\n  'scores_of_panel': 1.2,\n  'J1': 1.0,\n  'J2': 2.0,\n  'J3': 3.0,\n  'J4': 1.0,\n  'J5': 3.0,\n  'J6': None,\n  'J7': None,\n  'J8': None,\n  'J9': None,\n  'J10': None}]"
     },
     "execution_count": 13,
     "metadata": {},
     "output_type": "execute_result"
    }
   ],
   "source": [
    "programs[1]['performances'][0]['elements']"
   ],
   "metadata": {
    "collapsed": false,
    "ExecuteTime": {
     "start_time": "2023-04-16T20:56:48.099751Z",
     "end_time": "2023-04-16T20:56:48.123271Z"
    }
   }
  }
 ],
 "metadata": {
  "kernelspec": {
   "display_name": "Python 3",
   "language": "python",
   "name": "python3"
  },
  "language_info": {
   "codemirror_mode": {
    "name": "ipython",
    "version": 2
   },
   "file_extension": ".py",
   "mimetype": "text/x-python",
   "name": "python",
   "nbconvert_exporter": "python",
   "pygments_lexer": "ipython2",
   "version": "2.7.6"
  }
 },
 "nbformat": 4,
 "nbformat_minor": 0
}
