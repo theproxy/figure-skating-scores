{
 "cells": [
  {
   "cell_type": "code",
   "execution_count": null,
   "outputs": [],
   "source": [
    "from scripts.parse_html import *\n",
    "url = 'https://ijs.usfigureskating.org/leaderboard/results/2023/32241/index.asp'\n",
    "url = 'https://ijs.usfigureskating.org/leaderboard/results/2023/32243/index.asp'\n",
    "url = 'http://ijs.usfigureskating.org/leaderboard/results/2022/30356/index.asp'\n",
    "url = 'https://ijs.usfigureskating.org/leaderboard/results/2022/30595/index.asp'\n",
    "content = get_html(url)\n",
    "data = parse_html_competition(content['file_path'])"
   ],
   "metadata": {
    "collapsed": false,
    "ExecuteTime": {
     "start_time": "2023-04-25T14:24:16.254470Z",
     "end_time": "2023-04-25T14:24:16.434687Z"
    }
   }
  },
  {
   "cell_type": "code",
   "execution_count": null,
   "outputs": [],
   "source": [
    "programs = []\n",
    "for event in data['events']:\n",
    "    event_url = content['base'] + content['url_path'] + event['file']\n",
    "    event_file = get_html(event_url)\n",
    "    print(f\"*** {event_file['file_path']} ***\")\n",
    "\n",
    "    event_stuff = parse_html_program(event_file['file_path'], detailed=False)\n",
    "    if event_stuff['detailed'] != None:\n",
    "        event_detail_url = content['base'] + content['url_path'] + event_stuff['detailed']\n",
    "        get_html(event_detail_url)\n",
    "        detailed_event_data = parse_html_detailed_scores(os.path.join(content['dir_path'],event_stuff['detailed']))\n",
    "        programs.append(detailed_event_data)"
   ],
   "metadata": {
    "collapsed": false,
    "ExecuteTime": {
     "start_time": "2023-04-25T14:24:16.433686Z",
     "end_time": "2023-04-25T14:24:26.449827Z"
    }
   }
  },
  {
   "cell_type": "code",
   "execution_count": null,
   "outputs": [],
   "source": [
    "programs"
   ],
   "metadata": {
    "collapsed": false,
    "ExecuteTime": {
     "start_time": "2023-04-25T14:24:26.452779Z",
     "end_time": "2023-04-25T14:24:27.437807Z"
    }
   }
  },
  {
   "cell_type": "code",
   "execution_count": null,
   "outputs": [],
   "source": [
    "programs[1]['performances'][0]"
   ],
   "metadata": {
    "collapsed": false,
    "ExecuteTime": {
     "start_time": "2023-04-25T14:25:13.575705Z",
     "end_time": "2023-04-25T14:25:13.633071Z"
    }
   }
  }
 ],
 "metadata": {
  "kernelspec": {
   "display_name": "Python 3",
   "language": "python",
   "name": "python3"
  },
  "language_info": {
   "codemirror_mode": {
    "name": "ipython",
    "version": 2
   },
   "file_extension": ".py",
   "mimetype": "text/x-python",
   "name": "python",
   "nbconvert_exporter": "python",
   "pygments_lexer": "ipython2",
   "version": "2.7.6"
  }
 },
 "nbformat": 4,
 "nbformat_minor": 0
}
