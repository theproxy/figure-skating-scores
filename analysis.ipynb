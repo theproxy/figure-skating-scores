{
 "cells": [
  {
   "cell_type": "code",
   "execution_count": null,
   "outputs": [],
   "source": [
    "from scripts.parse_html import *\n",
    "url = 'https://ijs.usfigureskating.org/leaderboard/results/2023/32241/index.asp'\n",
    "url = 'https://ijs.usfigureskating.org/leaderboard/results/2023/32243/index.asp'\n",
    "url = 'http://ijs.usfigureskating.org/leaderboard/results/2022/30356/index.asp'\n",
    "url = 'https://ijs.usfigureskating.org/leaderboard/results/2022/30595/index.asp'\n",
    "\n",
    "urls = \"\"\"\n",
    "#2023\n",
    "https://ijs.usfigureskating.org/leaderboard/results/2023/32241/index.asp #genesse Biennial Invitational\n",
    "https://ijs.usfigureskating.org/leaderboard/results/2023/32243/index.asp #north atlatnic\n",
    "#2022\n",
    "https://ijs.usfigureskating.org/leaderboard/results/2022/30862/index.asp # excel national festival\n",
    "https://ijs.usfigureskating.org/leaderboard/results/2022/30235/index.asp # 10th Annual Snowtown Invitational Competition\n",
    "https://ijs.usfigureskating.org/leaderboard/results/2022/30441/index.asp # 2022 Magnolia Open\n",
    "https://ijs.usfigureskating.org/leaderboard/results/2022/30348/index.asp # Morris Open\n",
    "# PDF??? Cardinal Classic 2022\n",
    "https://ijs.usfigureskating.org/leaderboard/results/2022/30455/index.asp # 35th Annual Florida Open Championships\n",
    "https://ijs.usfigureskating.org/leaderboard/results/2022/30340/index.asp # Crossroads FSC Spring‐tacular Competition\n",
    "https://ijs.usfigureskating.org/leaderboard/results/2022/30357/index.asp # Southern CT Open\n",
    "https://ijs.usfigureskating.org/leaderboard/results/2022/30408/index.asp # May Day Open and Compete USA\n",
    "http://ijs.usfigureskating.org/leaderboard/results/2022/30356/index.asp # North Shore Open\n",
    "https://ijs.usfigureskating.org/leaderboard/results/2022/30266/index.asp # Westchester Classic\n",
    "https://ijs.usfigureskating.org/leaderboard/results/2022/30595/index.asp # Colonial Open\n",
    "\"\"\".strip()"
   ],
   "metadata": {
    "collapsed": false,
    "ExecuteTime": {
     "start_time": "2023-04-25T17:54:46.918813Z",
     "end_time": "2023-04-25T17:54:46.918813Z"
    }
   }
  },
  {
   "cell_type": "code",
   "execution_count": null,
   "outputs": [],
   "source": [
    "import re\n",
    "def remove_comment(line):\n",
    "    m = re.match(r'^([^#]*)#(.*)$', line)\n",
    "    if m:  # The line contains a hash / comment\n",
    "        line = m.group(1)\n",
    "    return line\n",
    "url_list = []\n",
    "for url in urls.split('\\n'):\n",
    "    url_parsed = remove_comment(url)\n",
    "    if url_parsed != \"\":\n",
    "        url_list.append(url_parsed)\n",
    "url_list"
   ],
   "metadata": {
    "collapsed": false,
    "ExecuteTime": {
     "start_time": "2023-04-25T17:54:46.933722Z",
     "end_time": "2023-04-25T17:54:46.933722Z"
    }
   }
  },
  {
   "cell_type": "code",
   "execution_count": null,
   "outputs": [],
   "source": [
    "competitions = []\n",
    "for url in url_list:\n",
    "    competition = dict()\n",
    "    content = get_html(url)\n",
    "    data = parse_html_competition(content['file_path'])\n",
    "    competition['url'] = url\n",
    "    competition['meta'] = content\n",
    "    competition['data'] = data\n",
    "    competitions.append(competition)"
   ],
   "metadata": {
    "collapsed": false,
    "ExecuteTime": {
     "start_time": "2023-04-25T17:54:47.529761Z",
     "end_time": "2023-04-25T17:54:47.530760Z"
    }
   }
  },
  {
   "cell_type": "code",
   "execution_count": null,
   "outputs": [],
   "source": [
    "competition_tree = list()\n",
    "for competition in competitions:\n",
    "    competition_node = dict()\n",
    "    meta = competition['meta']\n",
    "    print(f\"****** {competition['data']['name']} ******\")\n",
    "    event_list = list()\n",
    "    for event in competition['data']['events']:\n",
    "        event_node = dict()\n",
    "        try:\n",
    "            event_url = meta['base'] + meta['url_path'] + event['file']\n",
    "        except Exception as e:\n",
    "            print(f\"Could not get event_url: {e}\")\n",
    "        event_file = get_html(event_url)\n",
    "        event_info = parse_html_program(event_file['file_path'], detailed=False)\n",
    "        if event_info['detailed'] != None:\n",
    "            event_detail_url = meta['base'] + meta['url_path'] + event_info['detailed']\n",
    "            detailed_file = get_html(event_detail_url)\n",
    "            event_detailed_info = parse_html_detailed_scores(detailed_file['file_path'])\n",
    "            event_info['detailed_scores'] = event_detailed_info\n",
    "        event_list.append(event_info)\n",
    "\n",
    "    competition_node['name'] = competition['data']['name']\n",
    "    competition_node['event'] = event_list\n",
    "    competition_tree.append(competition_node)\n"
   ],
   "metadata": {
    "collapsed": false,
    "ExecuteTime": {
     "start_time": "2023-04-25T18:10:11.103495Z",
     "end_time": "2023-04-25T18:10:11.103495Z"
    }
   }
  },
  {
   "cell_type": "code",
   "execution_count": null,
   "outputs": [],
   "source": [
    "competition_tree[0]['event'][0]['detailed_scores']['performances'][0]['metadata'].keys()"
   ],
   "metadata": {
    "collapsed": false,
    "ExecuteTime": {
     "start_time": "2023-04-25T18:14:08.494338Z",
     "end_time": "2023-04-25T18:14:08.522382Z"
    }
   }
  },
  {
   "cell_type": "code",
   "execution_count": null,
   "outputs": [],
   "source": [
    "# walk thru everything\n",
    "sum = 0\n",
    "for competition in competition_tree: # competition_tree[0]\n",
    "    for event in competition['event']: # competition_tree[0]['event'][0]\n",
    "        if 'detailed_scores' in event.keys():\n",
    "            # competition_tree[0]['event'][0]['detailed_scores']['performances'] -- detailed_scores not always exist\n",
    "            for program in event['detailed_scores']['performances']:\n",
    "                sum = sum + 1\n",
    "print(sum)"
   ],
   "metadata": {
    "collapsed": false,
    "ExecuteTime": {
     "start_time": "2023-04-25T18:18:34.620044Z",
     "end_time": "2023-04-25T18:18:34.633055Z"
    }
   }
  }
 ],
 "metadata": {
  "kernelspec": {
   "display_name": "Python 3",
   "language": "python",
   "name": "python3"
  },
  "language_info": {
   "codemirror_mode": {
    "name": "ipython",
    "version": 2
   },
   "file_extension": ".py",
   "mimetype": "text/x-python",
   "name": "python",
   "nbconvert_exporter": "python",
   "pygments_lexer": "ipython2",
   "version": "2.7.6"
  }
 },
 "nbformat": 4,
 "nbformat_minor": 0
}
