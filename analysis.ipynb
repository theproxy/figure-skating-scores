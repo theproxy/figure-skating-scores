{
 "cells": [
  {
   "cell_type": "code",
   "execution_count": null,
   "outputs": [],
   "source": [
    "import glob\n",
    "import os\n",
    "import json\n",
    "\n",
    "file_list = glob.glob(os.path.join(\"data\",\"json\",\"*.json\"))\n",
    "\n",
    "competitions = list()\n",
    "for item in file_list:\n",
    "    with open(item, 'r') as fp:\n",
    "        competitions.append(json.load(fp))"
   ],
   "metadata": {
    "collapsed": false,
    "ExecuteTime": {
     "start_time": "2023-04-26T15:33:15.699533Z",
     "end_time": "2023-04-26T15:33:15.910211Z"
    }
   }
  },
  {
   "cell_type": "code",
   "execution_count": null,
   "outputs": [],
   "source": [
    "import pandas as pd\n",
    "df = pd.DataFrame({\n",
    "    'competition': [],\n",
    "    'event': [],\n",
    "    'rank': [],\n",
    "    'total_base_value': [],\n",
    "    'total_element_score': [],\n",
    "    'total_component_score': [],\n",
    "    'total_segment_score':[]\n",
    "})\n",
    "count = 0\n",
    "for competition in competitions:\n",
    "    for event in competition['event']:\n",
    "        try:\n",
    "            detailed_scores = event['detailed_scores']\n",
    "        except Exception as e:\n",
    "            print(f\"No detailed scores for {event['competition']}: {event['program']}\")\n",
    "        performances = detailed_scores['performances']\n",
    "        for performance in performances:\n",
    "            # print(performance['metadata'])\n",
    "            df_row = [event['competition'],\n",
    "                      performance['metadata']['program'],\n",
    "                      performance['metadata']['rank'],\n",
    "                      performance['metadata']['total_base_value'],\n",
    "                      performance['metadata']['total_element_score'],\n",
    "                      performance['metadata']['total_component_score'],\n",
    "                      performance['metadata']['total_segment_score'],\n",
    "                      ]\n",
    "            # print(df_row)\n",
    "            df.loc[count] = df_row\n",
    "            count += 1"
   ],
   "metadata": {
    "collapsed": false,
    "ExecuteTime": {
     "start_time": "2023-04-26T16:52:26.780338Z",
     "end_time": "2023-04-26T16:52:30.299879Z"
    }
   }
  },
  {
   "cell_type": "code",
   "execution_count": null,
   "outputs": [],
   "source": [
    "df_sorted = df.sort_values(by=['event','rank'])\n",
    "df_sorted"
   ],
   "metadata": {
    "collapsed": false,
    "ExecuteTime": {
     "start_time": "2023-04-26T16:57:58.257030Z",
     "end_time": "2023-04-26T16:57:58.303908Z"
    }
   }
  },
  {
   "cell_type": "code",
   "execution_count": null,
   "outputs": [],
   "source": [
    "event_watched = df_sorted[df_sorted['event'].str.contains('Pre-Juvenile Plus Girls')]\n",
    "event_watched"
   ],
   "metadata": {
    "collapsed": false,
    "ExecuteTime": {
     "start_time": "2023-04-26T17:07:20.539766Z",
     "end_time": "2023-04-26T17:07:20.562601Z"
    }
   }
  },
  {
   "cell_type": "code",
   "execution_count": null,
   "outputs": [],
   "source": [
    "import itertools\n",
    "plot_df_lt3 = event_watched[event_watched['rank']<=3]\n",
    "plot_df_gt3 = event_watched[event_watched['rank']>3]\n",
    "list_lt3 = list(plot_df_lt3['total_base_value'])\n",
    "list_gt3 = list(plot_df_gt3['total_base_value'])\n",
    "\n",
    "# plot_df = pd.DataFrame((e for e in itertools.zip_longest(list_lt3,list_gt3)),columns=['top3','rest_of_field'])\n",
    "plot_df = pd.DataFrame((e for e in itertools.zip_longest(list_lt3,list_gt3)),columns=['top3','rest_of_field'])\n",
    "plot_df"
   ],
   "metadata": {
    "collapsed": false,
    "ExecuteTime": {
     "start_time": "2023-04-26T17:08:30.553421Z",
     "end_time": "2023-04-26T17:08:30.620996Z"
    }
   }
  },
  {
   "cell_type": "code",
   "execution_count": null,
   "outputs": [],
   "source": [
    "import plotly.express as px\n",
    "import plotly.graph_objects as go\n"
   ],
   "metadata": {
    "collapsed": false,
    "ExecuteTime": {
     "start_time": "2023-04-26T16:05:15.977382Z",
     "end_time": "2023-04-26T16:05:16.093835Z"
    }
   }
  },
  {
   "cell_type": "code",
   "execution_count": null,
   "outputs": [],
   "source": [],
   "metadata": {
    "collapsed": false
   }
  },
  {
   "cell_type": "code",
   "execution_count": null,
   "outputs": [],
   "source": [
    "fig = px.line(plot_df,y=['top3','rest_of_field'],title='Base Value for Pre-Juvenile Plus Girls')\n",
    "fig_widget = go.FigureWidget(fig)\n",
    "fig_widget.show()"
   ],
   "metadata": {
    "collapsed": false,
    "ExecuteTime": {
     "start_time": "2023-04-26T17:08:54.882338Z",
     "end_time": "2023-04-26T17:08:54.967079Z"
    }
   }
  }
 ],
 "metadata": {
  "kernelspec": {
   "display_name": "Python 3",
   "language": "python",
   "name": "python3"
  },
  "language_info": {
   "codemirror_mode": {
    "name": "ipython",
    "version": 2
   },
   "file_extension": ".py",
   "mimetype": "text/x-python",
   "name": "python",
   "nbconvert_exporter": "python",
   "pygments_lexer": "ipython2",
   "version": "2.7.6"
  }
 },
 "nbformat": 4,
 "nbformat_minor": 0
}
