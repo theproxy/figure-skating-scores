{
 "cells": [
  {
   "cell_type": "code",
   "execution_count": 30,
   "outputs": [],
   "source": [
    "import glob\n",
    "import os\n",
    "import json\n",
    "\n",
    "file_list = glob.glob(os.path.join(\"data\",\"json\",\"*.json\"))\n",
    "\n",
    "competitions = list()\n",
    "for item in file_list:\n",
    "    with open(item, 'r') as fp:\n",
    "        competitions.append(json.load(fp))"
   ],
   "metadata": {
    "collapsed": false,
    "ExecuteTime": {
     "start_time": "2023-04-29T08:54:02.548349Z",
     "end_time": "2023-04-29T08:54:03.463143Z"
    }
   }
  },
  {
   "cell_type": "code",
   "execution_count": 29,
   "outputs": [
    {
     "data": {
      "text/plain": "38"
     },
     "execution_count": 29,
     "metadata": {},
     "output_type": "execute_result"
    }
   ],
   "source": [
    "len(competitions)"
   ],
   "metadata": {
    "collapsed": false,
    "ExecuteTime": {
     "start_time": "2023-04-29T08:54:00.584193Z",
     "end_time": "2023-04-29T08:54:00.597223Z"
    }
   }
  },
  {
   "cell_type": "code",
   "execution_count": 31,
   "outputs": [
    {
     "name": "stdout",
     "output_type": "stream",
     "text": [
      "No detailed scores for 11th Annual Snowtown Invitational: 51 Beginner-No Test-Pre-Prelim Character Performan\n",
      "No detailed scores for 11th Annual Snowtown Invitational: 52 Beginner-Pre-Juvenile Lyrical Pop\n",
      "No detailed scores for 11th Annual Snowtown Invitational: 53 Preliminary-Pre-Juvenile Character Performance\n",
      "No detailed scores for 11th Annual Snowtown Invitational: 54 Junior-Senior Character Performance\n",
      "No detailed scores for 2022 Crossroads FSC Spring-tacular Competition: Junior Men SP\n",
      "No detailed scores for 2022 Magnolia Open: Intermediate Ladies Excel -- 210\n",
      "No detailed scores for 2022 Magnolia Open: Pre-Preliminary Boys Excel -- 134\n",
      "No detailed scores for 2022 Magnolia Open: Senior Ladies Excel -- 213\n",
      "No detailed scores for 2022 North Shore Open: 137 Junior Men\n",
      "No detailed scores for 2022 North Shore Open: 154 Junior Men FS\n",
      "No detailed scores for 2023 Albert Viviani Memorial Competition Deborah B: 10 Adult Bronze Emotional Performance\n",
      "No detailed scores for 2023 Albert Viviani Memorial Competition Deborah B: 11 Adult Silver Emotional Performance\n",
      "No detailed scores for 2023 Albert Viviani Memorial Competition Deborah B: 13 Masters Emotional Performance\n",
      "No detailed scores for 2023 Albert Viviani Memorial Competition Deborah B: 16 Adult Silver Lyrical Pop\n",
      "No detailed scores for 2023 Albert Viviani Memorial Competition Deborah B: 17 Adult Gold Lyrical Pop\n",
      "No detailed scores for 2023 Albert Viviani Memorial Competition Deborah B: 19 Adult Bronze Character Performance\n",
      "No detailed scores for 2023 Albert Viviani Memorial Competition Deborah B: 20 Adult Silver Character Performance\n",
      "No detailed scores for 2023 Albert Viviani Memorial Competition Deborah B: 45 Preliminary Lyrical Pop\n",
      "No detailed scores for 2023 Albert Viviani Memorial Competition Deborah B: 46 Pre-Juvenile Lyrical Pop\n",
      "No detailed scores for 2023 Albert Viviani Memorial Competition Deborah B: 52 Beginner Character Performance\n",
      "No detailed scores for 2023 Albert Viviani Memorial Competition Deborah B: 53 High Beginner Character Performance\n",
      "No detailed scores for 2023 Albert Viviani Memorial Competition Deborah B: 54 Preliminary Character Performance\n",
      "No detailed scores for 2023 Albert Viviani Memorial Competition Deborah B: 55 Pre-Juvenile Character Performance\n",
      "No detailed scores for 2023 Albert Viviani Memorial Competition Deborah B: 56 Intermediate Character Performance\n",
      "No detailed scores for 2023 Albert Viviani Memorial Competition Deborah B: 60 Preliminary Emotional Performance\n",
      "No detailed scores for 2023 Albert Viviani Memorial Competition Deborah B: 61 Intermediate Emotional Performance\n",
      "No detailed scores for 2023 Cleveland Invitational Championships: 65 Pre-Juvenile Girls\n",
      "No detailed scores for 2023 Cleveland Invitational Championships: 66 Preliminary Singles\n",
      "No detailed scores for 2023 Cleveland Invitational Championships: 74 Juvenile Girls\n",
      "No detailed scores for 2023 Cleveland Invitational Championships: 75 Open Juvenile Women\n",
      "No detailed scores for 2023 Cleveland Invitational Championships: 76 Intermediate Women\n",
      "No detailed scores for 2023 Cleveland Invitational Championships: 77 Intermediate Women\n",
      "No detailed scores for 2023 Columbus Invitational: 105 Beginner Character Performance\n",
      "No detailed scores for 2023 Columbus Invitational: 106 High Beginner Character Performance\n",
      "No detailed scores for 2023 Columbus Invitational: 108 Pre-Preliminary Character Performance\n",
      "No detailed scores for 2023 Columbus Invitational: 109 Preliminary Character Performance\n",
      "No detailed scores for 2023 Columbus Invitational: 110 Senior Character Performance\n",
      "No detailed scores for 2023 Columbus Invitational: 111 Adult Bronze Character Performance\n",
      "No detailed scores for 2023 Columbus Invitational: 333 Intermediate Interpretive\n",
      "No detailed scores for 2023 Columbus Invitational: 334 Masters Interpretive\n",
      "No detailed scores for 2023 Columbus Invitational: 335 Beginner Lyrical Pop\n",
      "No detailed scores for 2023 Columbus Invitational: 336 Pre-Preliminary Lyrical Pop\n",
      "No detailed scores for 2023 Columbus Invitational: 338 Pre-Preliminary Emotional Performance\n",
      "No detailed scores for 2023 Columbus Invitational: 339 Preliminary Emotional Performance\n",
      "No detailed scores for 2023 Columbus Invitational: 340 Adult Gold Emotional Performance\n",
      "No detailed scores for 2023 Columbus Invitational: 341 Masters Duets\n",
      "No detailed scores for 2023 Columbus Invitational: 342 No Test Interpretive\n",
      "No detailed scores for 2023 Columbus Invitational: 343 Pre-Preliminary Interpretive\n",
      "No detailed scores for 2023 Columbus Invitational: 344 Preliminary Interpretive\n",
      "No detailed scores for 2023 Columbus Invitational: 345 Pre-Juvenile Interpretive\n",
      "No detailed scores for 2023 Denver Invitational: 130 Pre-Juvenile Girls Spins Challenge\n",
      "No detailed scores for 2023 Denver Invitational: 132 Juvenile-Open Juvenile Spins\n",
      "No detailed scores for 2023 Denver Invitational: 134 Intermediate Women Spins Challenge\n",
      "No detailed scores for 2023 Denver Invitational: 136 Novice Women Spins Challenge\n",
      "No detailed scores for 2023 Denver Invitational: 138 Pre-Preliminary Spins Grp A\n",
      "No detailed scores for 2023 Denver Invitational: 140 Pre-Preliminary Spins Grp B\n",
      "No detailed scores for 2023 Denver Invitational: 142 Pre-Preliminary Spins Grp C\n",
      "No detailed scores for 2023 Denver Invitational: 144 Preliminary Spins Grp A\n",
      "No detailed scores for 2023 Denver Invitational: 146 Preliminary Spins Grp B\n",
      "No detailed scores for 2023 Denver Invitational: 148 Preliminary Spins Grp C\n",
      "No detailed scores for 2023 Denver Invitational: 150 Pre-Juvenile Jumps\n",
      "No detailed scores for 2023 Denver Invitational: 152 Pre-Preliminary Girls Jumps Challenge Grp A\n",
      "No detailed scores for 2023 Denver Invitational: 154 Pre-Preliminary Girls Jumps Challenge Grp B\n",
      "No detailed scores for 2023 Denver Invitational: 156 Pre-Preliminary Boys Jumps Challenge\n",
      "No detailed scores for 2023 Denver Invitational: 158 Preliminary Girls Jumps Challenge Grp A\n",
      "No detailed scores for 2023 Denver Invitational: 162 No-Test Girls Jumps Challenge Grp B\n",
      "No detailed scores for 2023 Denver Invitational: 160 No-Test Girls Jumps Challenge Grp A\n",
      "No detailed scores for 2023 Denver Invitational: 163 Preliminary Girls Jumps Challenge Grp B\n",
      "No detailed scores for 2023 Denver Invitational: 164 Preliminary Boys Jumps Challenge\n",
      "No detailed scores for 2023 Denver Invitational: 165 Spins No Test\n",
      "No detailed scores for 2023 Denver Invitational: 182 Novice Women Jumps Challenge\n",
      "No detailed scores for 2023 Denver Invitational: 183 Junior Women Jumps Challenge\n",
      "No detailed scores for 2023 Denver Invitational: 184 Intermediate Women Jumps Challenge\n",
      "No detailed scores for 2023 Denver Invitational: 185 Jumps Juvenile-Open Juvenile\n",
      "No detailed scores for 2023 Denver Invitational: 186 Junior Women Spins Challenge\n",
      "No detailed scores for 2023 Denver Invitational: 198 Senior Pairs FS\n",
      "No detailed scores for 2023 Fort Collins Classic: 120 Beginner Girls Spins Challenge\n",
      "No detailed scores for 2023 Fort Collins Classic: 121 High Beginner Girls Spins Challenge\n",
      "No detailed scores for 2023 Fort Collins Classic: 122 No-Test Boys Spins Challenge\n",
      "No detailed scores for 2023 Fort Collins Classic: 123 Pre-Preliminary Girls Spins Challenge\n",
      "No detailed scores for 2023 Fort Collins Classic: 124 Preliminary Girls Spins Challenge\n",
      "No detailed scores for 2023 Fort Collins Classic: 125 Pre-Juvenile Girls Spins Challenge\n",
      "No detailed scores for 2023 Fort Collins Classic: 126 Juvenile Girls Spins Challenge\n",
      "No detailed scores for 2023 Fort Collins Classic: 127 Intermediate Women Spins Challenge\n",
      "No detailed scores for 2023 Fort Collins Classic: 128 Junior Women Spins Challenge\n",
      "No detailed scores for 2023 Fort Collins Classic: 139 Adult Silver Women Spins Challenge\n",
      "No detailed scores for 2023 Houston Invitational: 025 Junior Women\n",
      "No detailed scores for 2023 Louisville Skating Academy Spring Invitationa: Adult Silver Women FS\n",
      "No detailed scores for 2023 Louisville Skating Academy Spring Invitationa: Novice Women SP\n",
      "No detailed scores for 2023 Louisville Skating Academy Spring Invitationa: Pre-Juvenile Girls Jumps Challenge\n",
      "No detailed scores for 2023 North Atlantic Open: 68 Excel Junior Women Free Skate\n",
      "No detailed scores for 2023 SEGL and Skate Nashville: 1138 Intermediate Comedic Impressions\n",
      "No detailed scores for 2023 SEGL and Skate Nashville: 2139 Young Adult Character Performance\n",
      "No detailed scores for 2023 SEGL and Skate Nashville: 2140 Adult Pre-Bronze Character Performance\n",
      "No detailed scores for 2023 SEGL and Skate Nashville: 2143 Intermediate Interpretive\n",
      "No detailed scores for 2023 SEGL and Skate Nashville: 2144 Junior Interpretive\n",
      "No detailed scores for 2023 Skate Austin Bluebonnet Open: 022 Juvenile Pairs FS\n",
      "No detailed scores for 2023 Spring Funtastics: 001  Preliminary Spins\n",
      "No detailed scores for 2023 Spring Funtastics: 002 Pre-Juvenile Spins\n",
      "No detailed scores for 2023 Spring Funtastics: 003 Juvenile-Open Juvenile Spins\n",
      "No detailed scores for 2023 Spring Funtastics: 004 Intermediate Spins\n",
      "No detailed scores for 2023 Spring Funtastics: 005 Pre-Juvenile Jumps\n",
      "No detailed scores for 2023 Spring Funtastics: 006 Juvenile-Open Juvenile Jumps\n",
      "No detailed scores for 2023 Spring Funtastics: 007 Intermediate Jumps\n",
      "No detailed scores for 2023 Spring Funtastics: 060 Masters Emotional Performance Exhibition\n",
      "No detailed scores for 2023 Spring Funtastics: 069 Junior Duets Exhibition\n",
      "No detailed scores for 2023 Spring Funtastics: 081 Novice Choreographic Artistry\n",
      "No detailed scores for 2023 Sugar Skate: 012 Beginner Emotional Performance\n",
      "No detailed scores for 36th Annual Florida Open Figure Skating Championsh: 1113 Pre-Juvenile Boys Excel\n",
      "No detailed scores for 48th Annual Howard E. Van Camp Invitational: 110 Pre-Gold Shadow Dance\n",
      "No detailed scores for 48th Annual Howard E. Van Camp Invitational: 147 Junior Women\n",
      "No detailed scores for Alamo Skate 2023: 15 Beginner Character Performance\n",
      "No detailed scores for Alamo Skate 2023: 16 Pre-Juvenile Character Performance\n",
      "No detailed scores for Alamo Skate 2023: 17 Novice Character Performance\n",
      "No detailed scores for Alamo Skate 2023: 18 Novice Choreographic Artistry\n",
      "No detailed scores for Alamo Skate 2023: 40 Novice Emotional Performance\n",
      "No detailed scores for Alamo Skate 2023: 41 Pre-Juvenile Emotional Performance\n",
      "No detailed scores for Alamo Skate 2023: 42 Adult Bronze Emotional Performance\n",
      "No detailed scores for Alamo Skate 2023: 43 No Test Emotional Performance\n",
      "No detailed scores for Crossroads FSC Spring - tacular Competition 2023: Pre-Juvenile Plus Boys Excel  (21)\n",
      "No detailed scores for May Day Open and Compete USA: 252 Junior Men FS\n",
      "No detailed scores for May Day Open and Compete USA: 253 Senior Ladies FS\n",
      "No detailed scores for Morris Open: Juvenile Boys Excel (29)\n",
      "No detailed scores for Morris Open: Senior Ladies FS (44)\n",
      "No detailed scores for Omaha Winterfest 2023: 57 - Juvenile Girls SP\n",
      "No detailed scores for Westchester Classic: 110 Novice Men SP\n",
      "No detailed scores for Westchester Classic: 138 Novice Men FS\n"
     ]
    }
   ],
   "source": [
    "import pandas as pd\n",
    "df = pd.DataFrame({\n",
    "    'competition': [],\n",
    "    'event': [],\n",
    "    'rank': [],\n",
    "    'name': [],\n",
    "    'total_base_value': [],\n",
    "    'total_element_score': [],\n",
    "    'total_component_score': [],\n",
    "    'total_segment_score':[]\n",
    "})\n",
    "count = 0\n",
    "for competition in competitions:\n",
    "    for event in competition['event']:\n",
    "        try:\n",
    "            detailed_scores = event['detailed_scores']\n",
    "        except Exception as e:\n",
    "            print(f\"No detailed scores for {event['competition']}: {event['program']}\")\n",
    "        performances = detailed_scores['performances']\n",
    "        for performance in performances:\n",
    "            # print(performance['metadata'])\n",
    "            df_row = [event['competition'],\n",
    "                      performance['metadata']['program'],\n",
    "                      performance['metadata']['rank'],\n",
    "                      performance['metadata']['name'],\n",
    "                      performance['metadata']['total_base_value'],\n",
    "                      performance['metadata']['total_element_score'],\n",
    "                      performance['metadata']['total_component_score'],\n",
    "                      performance['metadata']['total_segment_score'],\n",
    "                      ]\n",
    "            # print(df_row)\n",
    "            df.loc[count] = df_row\n",
    "            count += 1"
   ],
   "metadata": {
    "collapsed": false,
    "ExecuteTime": {
     "start_time": "2023-04-29T08:54:10.663313Z",
     "end_time": "2023-04-29T08:54:31.538996Z"
    }
   }
  },
  {
   "cell_type": "code",
   "execution_count": 32,
   "outputs": [
    {
     "data": {
      "text/plain": "                            competition  \\\n2856  2023 Skate Austin Bluebonnet Open   \n2857  2023 Skate Austin Bluebonnet Open   \n2858  2023 Skate Austin Bluebonnet Open   \n2859  2023 Skate Austin Bluebonnet Open   \n2860  2023 Skate Austin Bluebonnet Open   \n...                                 ...   \n6052                        Morris Open   \n6053                        Morris Open   \n6054                        Morris Open   \n6055                        Morris Open   \n6056                        Morris Open   \n\n                                                  event  rank  \\\n2856          001 Intermediate Women SP / Short Program     1   \n2857          001 Intermediate Women SP / Short Program     2   \n2858          001 Intermediate Women SP / Short Program     3   \n2859          001 Intermediate Women SP / Short Program     4   \n2860          001 Intermediate Women SP / Short Program     5   \n...                                                 ...   ...   \n6052  Silver Solo Pattern Dance (SDS) (18-21) / P2 T...     2   \n6053  Silver Solo Pattern Dance (SDS) (18-21) / P2 T...     3   \n6054  Silver Solo Pattern Dance (SDS) (18-21) / P2 T...     4   \n6055  Silver Solo Pattern Dance (SDS) (18-21) / P2 T...     5   \n6056  Silver Solo Pattern Dance (SDS) (18-21) / P2 T...     6   \n\n                                     name  total_base_value  \\\n2856           Carol McKinnis, Dallas FSC             17.38   \n2857    Maria Sidorova, Oklahoma City FSC             13.68   \n2858  Lola Hagbo, Memorial FSC Of Houston             15.94   \n2859              Adelina Toy, Dallas FSC             12.86   \n2860        Kathy Xinyi Xi, SC of Houston             13.48   \n...                                   ...               ...   \n6052                      Milly Wasserman             10.00   \n6053                        Jacquelyn Lee             10.00   \n6054                          Taapti Rana             10.00   \n6055                          Ellie Stone             10.00   \n6056                        Michelle Chen             10.00   \n\n      total_element_score  total_component_score  total_segment_score  \n2856                17.07                  13.19                29.26  \n2857                12.81                  13.04                25.85  \n2858                13.93                  12.82                25.75  \n2859                11.58                  13.27                24.85  \n2860                11.89                  12.91                24.30  \n...                   ...                    ...                  ...  \n6052                11.25                  19.59                30.84  \n6053                11.50                  18.42                29.92  \n6054                10.75                  18.84                29.59  \n6055                10.75                  17.64                28.39  \n6056                 9.25                  14.81                24.06  \n\n[6380 rows x 8 columns]",
      "text/html": "<div>\n<style scoped>\n    .dataframe tbody tr th:only-of-type {\n        vertical-align: middle;\n    }\n\n    .dataframe tbody tr th {\n        vertical-align: top;\n    }\n\n    .dataframe thead th {\n        text-align: right;\n    }\n</style>\n<table border=\"1\" class=\"dataframe\">\n  <thead>\n    <tr style=\"text-align: right;\">\n      <th></th>\n      <th>competition</th>\n      <th>event</th>\n      <th>rank</th>\n      <th>name</th>\n      <th>total_base_value</th>\n      <th>total_element_score</th>\n      <th>total_component_score</th>\n      <th>total_segment_score</th>\n    </tr>\n  </thead>\n  <tbody>\n    <tr>\n      <th>2856</th>\n      <td>2023 Skate Austin Bluebonnet Open</td>\n      <td>001 Intermediate Women SP / Short Program</td>\n      <td>1</td>\n      <td>Carol McKinnis, Dallas FSC</td>\n      <td>17.38</td>\n      <td>17.07</td>\n      <td>13.19</td>\n      <td>29.26</td>\n    </tr>\n    <tr>\n      <th>2857</th>\n      <td>2023 Skate Austin Bluebonnet Open</td>\n      <td>001 Intermediate Women SP / Short Program</td>\n      <td>2</td>\n      <td>Maria Sidorova, Oklahoma City FSC</td>\n      <td>13.68</td>\n      <td>12.81</td>\n      <td>13.04</td>\n      <td>25.85</td>\n    </tr>\n    <tr>\n      <th>2858</th>\n      <td>2023 Skate Austin Bluebonnet Open</td>\n      <td>001 Intermediate Women SP / Short Program</td>\n      <td>3</td>\n      <td>Lola Hagbo, Memorial FSC Of Houston</td>\n      <td>15.94</td>\n      <td>13.93</td>\n      <td>12.82</td>\n      <td>25.75</td>\n    </tr>\n    <tr>\n      <th>2859</th>\n      <td>2023 Skate Austin Bluebonnet Open</td>\n      <td>001 Intermediate Women SP / Short Program</td>\n      <td>4</td>\n      <td>Adelina Toy, Dallas FSC</td>\n      <td>12.86</td>\n      <td>11.58</td>\n      <td>13.27</td>\n      <td>24.85</td>\n    </tr>\n    <tr>\n      <th>2860</th>\n      <td>2023 Skate Austin Bluebonnet Open</td>\n      <td>001 Intermediate Women SP / Short Program</td>\n      <td>5</td>\n      <td>Kathy Xinyi Xi, SC of Houston</td>\n      <td>13.48</td>\n      <td>11.89</td>\n      <td>12.91</td>\n      <td>24.30</td>\n    </tr>\n    <tr>\n      <th>...</th>\n      <td>...</td>\n      <td>...</td>\n      <td>...</td>\n      <td>...</td>\n      <td>...</td>\n      <td>...</td>\n      <td>...</td>\n      <td>...</td>\n    </tr>\n    <tr>\n      <th>6052</th>\n      <td>Morris Open</td>\n      <td>Silver Solo Pattern Dance (SDS) (18-21) / P2 T...</td>\n      <td>2</td>\n      <td>Milly Wasserman</td>\n      <td>10.00</td>\n      <td>11.25</td>\n      <td>19.59</td>\n      <td>30.84</td>\n    </tr>\n    <tr>\n      <th>6053</th>\n      <td>Morris Open</td>\n      <td>Silver Solo Pattern Dance (SDS) (18-21) / P2 T...</td>\n      <td>3</td>\n      <td>Jacquelyn Lee</td>\n      <td>10.00</td>\n      <td>11.50</td>\n      <td>18.42</td>\n      <td>29.92</td>\n    </tr>\n    <tr>\n      <th>6054</th>\n      <td>Morris Open</td>\n      <td>Silver Solo Pattern Dance (SDS) (18-21) / P2 T...</td>\n      <td>4</td>\n      <td>Taapti Rana</td>\n      <td>10.00</td>\n      <td>10.75</td>\n      <td>18.84</td>\n      <td>29.59</td>\n    </tr>\n    <tr>\n      <th>6055</th>\n      <td>Morris Open</td>\n      <td>Silver Solo Pattern Dance (SDS) (18-21) / P2 T...</td>\n      <td>5</td>\n      <td>Ellie Stone</td>\n      <td>10.00</td>\n      <td>10.75</td>\n      <td>17.64</td>\n      <td>28.39</td>\n    </tr>\n    <tr>\n      <th>6056</th>\n      <td>Morris Open</td>\n      <td>Silver Solo Pattern Dance (SDS) (18-21) / P2 T...</td>\n      <td>6</td>\n      <td>Michelle Chen</td>\n      <td>10.00</td>\n      <td>9.25</td>\n      <td>14.81</td>\n      <td>24.06</td>\n    </tr>\n  </tbody>\n</table>\n<p>6380 rows × 8 columns</p>\n</div>"
     },
     "execution_count": 32,
     "metadata": {},
     "output_type": "execute_result"
    }
   ],
   "source": [
    "df_sorted = df.sort_values(by=['event','rank'])\n",
    "df_sorted"
   ],
   "metadata": {
    "collapsed": false,
    "ExecuteTime": {
     "start_time": "2023-04-29T08:54:35.267597Z",
     "end_time": "2023-04-29T08:54:35.333873Z"
    }
   }
  },
  {
   "cell_type": "code",
   "execution_count": 64,
   "outputs": [
    {
     "data": {
      "text/plain": "                             competition  \\\n1004               2022 Southern CT Open   \n1007               2022 Southern CT Open   \n568         2022 Excel National Festival   \n777                2022 North Shore Open   \n780                2022 North Shore Open   \n784                2022 North Shore Open   \n822                2022 North Shore Open   \n825                2022 North Shore Open   \n1091               2022 Southern CT Open   \n1092               2022 Southern CT Open   \n633         2022 Excel National Festival   \n943                2022 North Shore Open   \n962                2022 North Shore Open   \n221                   2022 Colonial Open   \n226                   2022 Colonial Open   \n229                   2022 Colonial Open   \n235                   2022 Colonial Open   \n324                   2022 Colonial Open   \n336                   2022 Colonial Open   \n337                   2022 Colonial Open   \n339                   2022 Colonial Open   \n371                   2022 Colonial Open   \n3661  23rd Genesee Biennial Invitational   \n2499            2023 North Atlantic Open   \n2505            2023 North Atlantic Open   \n2513            2023 North Atlantic Open   \n2515            2023 North Atlantic Open   \n2519            2023 North Atlantic Open   \n2523            2023 North Atlantic Open   \n2528            2023 North Atlantic Open   \n\n                                                  event  rank  \\\n1004         109 Juvenile Plus Girls Excel / Free Skate     6   \n1007         109 Juvenile Plus Girls Excel / Free Skate     9   \n568           11-Excel Juvenile Plus Girls / Free Skate    13   \n777   120 Preliminary Plus Girls Excel Grp A / Free ...     2   \n780   120 Preliminary Plus Girls Excel Grp A / Free ...     5   \n784   121 Preliminary Plus Girls Excel Grp B / Free ...     3   \n822    128 Juvenile Plus Girls Excel Grp A / Free Skate     1   \n825    128 Juvenile Plus Girls Excel Grp A / Free Skate     4   \n1091  137 Preliminary Plus Girls Excel Grp A / Free ...    10   \n1092  137 Preliminary Plus Girls Excel Grp A / Free ...    11   \n633                  14-Excel Junior Women / Free Skate    17   \n943                148 Novice Ladies Excel / Free Skate     9   \n962                156 Junior Ladies Excel / Free Skate     2   \n221   216 Preliminary Plus Girls Excel Grp A / Free ...     2   \n226   217 Preliminary Plus Girls Excel Grp B / Free ...     1   \n229   217 Preliminary Plus Girls Excel Grp B / Free ...     4   \n235                220 Preliminary Boys FS / Free Skate     2   \n324          233 Juvenile Plus Girls Excel / Free Skate     1   \n336          233 Juvenile Plus Girls Excel / Free Skate    13   \n337          233 Juvenile Plus Girls Excel / Free Skate    14   \n339          233 Juvenile Plus Girls Excel / Free Skate    16   \n371                237 Junior Ladies Excel / Free Skate     4   \n3661       34 Preliminary Plus Girls Excel / Free Skate     6   \n2499  43 Excel Pre-Preliminary Girls FS Grp B / Free...     4   \n2505  44 Excel Preliminary Girls Free Skate Grp A / ...     4   \n2513  59 Excel Preliminary Plus Girls Free Skate / F...     4   \n2515  59 Excel Preliminary Plus Girls Free Skate / F...     6   \n2519  61 Excel Pre-Juvenile Plus Girls Free Skate / ...     1   \n2523  63 Excel Juvenile Plus Girls Free Skate / Free...     1   \n2528  65 Excel Intermediate Women Free Skate / Free ...     2   \n\n                                     name  total_base_value  \\\n1004    Charlotte Dezotell, Gate City FSC             10.43   \n1007          Mia Yakuboff, Gate City FSC             11.00   \n568           Mia Yakuboff, Gate City FSC             11.68   \n777            Alyssa Chan, Gate City FSC             10.48   \n780            Mallory Lee, Gate City FSC              8.40   \n784         Kelsey Cochran, Gate City FSC              8.74   \n822           Mia Yakuboff, Gate City FSC             13.58   \n825     Charlotte Dezotell, Gate City FSC             11.76   \n1091           Mallory Lee, Gate City FSC              9.48   \n1092           Alyssa Chan, Gate City FSC              8.54   \n633      Genevieve Gratton, Gate City FSC             17.50   \n943          Shreya Khanal, Gate City FSC              9.86   \n962      Genevieve Gratton, Gate City FSC             22.31   \n221            Mallory Lee, Gate City FSC             10.50   \n226            Alyssa Chan, Gate City FSC             10.18   \n229         Kelsey Cochran, Gate City FSC              8.76   \n235        Geoffrey Seiden, Gate City FSC              8.44   \n324           Mia Yakuboff, Gate City FSC             13.03   \n336     Charlotte Dezotell, Gate City FSC             11.93   \n337   Katherine Grace Bond, Gate City FSC              9.63   \n339          Vera Sergeeva, Gate City FSC             12.19   \n371      Genevieve Gratton, Gate City FSC             17.99   \n3661           Emily Brown, Gate City FSC              8.86   \n2499           Ava Weadick, Gate City FSC              7.71   \n2505       Estella Maynard, Gate City FSC              6.48   \n2513            Leela Chan, Gate City FSC              8.88   \n2515           Emily Brown, Gate City FSC              5.86   \n2519           Alyssa Chan, Gate City FSC             10.58   \n2523          Mia Yakuboff, Gate City FSC             13.77   \n2528         Vera Sergeeva, Gate City FSC             13.34   \n\n      total_element_score  total_component_score  total_segment_score  \n1004                10.10                  16.57                26.67  \n1007                10.67                  14.05                24.72  \n568                 11.93                  16.35                28.28  \n777                 10.55                  10.50                21.05  \n780                  8.28                   9.19                17.47  \n784                  7.44                   8.58                15.52  \n822                 14.34                  18.85                33.19  \n825                 11.78                  16.78                28.06  \n1091                 8.90                   7.66                16.56  \n1092                 7.83                   7.53                14.86  \n633                 16.43                  26.91                42.34  \n943                  8.59                  17.14                25.73  \n962                 21.83                  28.79                50.62  \n221                 10.11                   9.31                19.42  \n226                 10.27                  10.64                20.91  \n229                  7.95                   9.14                17.09  \n235                  8.31                   9.56                17.37  \n324                 13.43                  18.04                31.47  \n336                 10.84                  15.62                25.46  \n337                  9.48                  16.35                25.33  \n339                 10.68                  13.85                23.53  \n371                 17.44                  29.06                46.50  \n3661                 7.88                   7.69                15.07  \n2499                 7.47                   7.19                14.66  \n2505                 6.86                   7.44                13.30  \n2513                 8.76                   9.96                17.72  \n2515                 6.04                   9.44                15.48  \n2519                 9.63                  10.80                20.43  \n2523                13.94                  16.58                30.52  \n2528                14.59                  20.88                34.97  ",
      "text/html": "<div>\n<style scoped>\n    .dataframe tbody tr th:only-of-type {\n        vertical-align: middle;\n    }\n\n    .dataframe tbody tr th {\n        vertical-align: top;\n    }\n\n    .dataframe thead th {\n        text-align: right;\n    }\n</style>\n<table border=\"1\" class=\"dataframe\">\n  <thead>\n    <tr style=\"text-align: right;\">\n      <th></th>\n      <th>competition</th>\n      <th>event</th>\n      <th>rank</th>\n      <th>name</th>\n      <th>total_base_value</th>\n      <th>total_element_score</th>\n      <th>total_component_score</th>\n      <th>total_segment_score</th>\n    </tr>\n  </thead>\n  <tbody>\n    <tr>\n      <th>1004</th>\n      <td>2022 Southern CT Open</td>\n      <td>109 Juvenile Plus Girls Excel / Free Skate</td>\n      <td>6</td>\n      <td>Charlotte Dezotell, Gate City FSC</td>\n      <td>10.43</td>\n      <td>10.10</td>\n      <td>16.57</td>\n      <td>26.67</td>\n    </tr>\n    <tr>\n      <th>1007</th>\n      <td>2022 Southern CT Open</td>\n      <td>109 Juvenile Plus Girls Excel / Free Skate</td>\n      <td>9</td>\n      <td>Mia Yakuboff, Gate City FSC</td>\n      <td>11.00</td>\n      <td>10.67</td>\n      <td>14.05</td>\n      <td>24.72</td>\n    </tr>\n    <tr>\n      <th>568</th>\n      <td>2022 Excel National Festival</td>\n      <td>11-Excel Juvenile Plus Girls / Free Skate</td>\n      <td>13</td>\n      <td>Mia Yakuboff, Gate City FSC</td>\n      <td>11.68</td>\n      <td>11.93</td>\n      <td>16.35</td>\n      <td>28.28</td>\n    </tr>\n    <tr>\n      <th>777</th>\n      <td>2022 North Shore Open</td>\n      <td>120 Preliminary Plus Girls Excel Grp A / Free ...</td>\n      <td>2</td>\n      <td>Alyssa Chan, Gate City FSC</td>\n      <td>10.48</td>\n      <td>10.55</td>\n      <td>10.50</td>\n      <td>21.05</td>\n    </tr>\n    <tr>\n      <th>780</th>\n      <td>2022 North Shore Open</td>\n      <td>120 Preliminary Plus Girls Excel Grp A / Free ...</td>\n      <td>5</td>\n      <td>Mallory Lee, Gate City FSC</td>\n      <td>8.40</td>\n      <td>8.28</td>\n      <td>9.19</td>\n      <td>17.47</td>\n    </tr>\n    <tr>\n      <th>784</th>\n      <td>2022 North Shore Open</td>\n      <td>121 Preliminary Plus Girls Excel Grp B / Free ...</td>\n      <td>3</td>\n      <td>Kelsey Cochran, Gate City FSC</td>\n      <td>8.74</td>\n      <td>7.44</td>\n      <td>8.58</td>\n      <td>15.52</td>\n    </tr>\n    <tr>\n      <th>822</th>\n      <td>2022 North Shore Open</td>\n      <td>128 Juvenile Plus Girls Excel Grp A / Free Skate</td>\n      <td>1</td>\n      <td>Mia Yakuboff, Gate City FSC</td>\n      <td>13.58</td>\n      <td>14.34</td>\n      <td>18.85</td>\n      <td>33.19</td>\n    </tr>\n    <tr>\n      <th>825</th>\n      <td>2022 North Shore Open</td>\n      <td>128 Juvenile Plus Girls Excel Grp A / Free Skate</td>\n      <td>4</td>\n      <td>Charlotte Dezotell, Gate City FSC</td>\n      <td>11.76</td>\n      <td>11.78</td>\n      <td>16.78</td>\n      <td>28.06</td>\n    </tr>\n    <tr>\n      <th>1091</th>\n      <td>2022 Southern CT Open</td>\n      <td>137 Preliminary Plus Girls Excel Grp A / Free ...</td>\n      <td>10</td>\n      <td>Mallory Lee, Gate City FSC</td>\n      <td>9.48</td>\n      <td>8.90</td>\n      <td>7.66</td>\n      <td>16.56</td>\n    </tr>\n    <tr>\n      <th>1092</th>\n      <td>2022 Southern CT Open</td>\n      <td>137 Preliminary Plus Girls Excel Grp A / Free ...</td>\n      <td>11</td>\n      <td>Alyssa Chan, Gate City FSC</td>\n      <td>8.54</td>\n      <td>7.83</td>\n      <td>7.53</td>\n      <td>14.86</td>\n    </tr>\n    <tr>\n      <th>633</th>\n      <td>2022 Excel National Festival</td>\n      <td>14-Excel Junior Women / Free Skate</td>\n      <td>17</td>\n      <td>Genevieve Gratton, Gate City FSC</td>\n      <td>17.50</td>\n      <td>16.43</td>\n      <td>26.91</td>\n      <td>42.34</td>\n    </tr>\n    <tr>\n      <th>943</th>\n      <td>2022 North Shore Open</td>\n      <td>148 Novice Ladies Excel / Free Skate</td>\n      <td>9</td>\n      <td>Shreya Khanal, Gate City FSC</td>\n      <td>9.86</td>\n      <td>8.59</td>\n      <td>17.14</td>\n      <td>25.73</td>\n    </tr>\n    <tr>\n      <th>962</th>\n      <td>2022 North Shore Open</td>\n      <td>156 Junior Ladies Excel / Free Skate</td>\n      <td>2</td>\n      <td>Genevieve Gratton, Gate City FSC</td>\n      <td>22.31</td>\n      <td>21.83</td>\n      <td>28.79</td>\n      <td>50.62</td>\n    </tr>\n    <tr>\n      <th>221</th>\n      <td>2022 Colonial Open</td>\n      <td>216 Preliminary Plus Girls Excel Grp A / Free ...</td>\n      <td>2</td>\n      <td>Mallory Lee, Gate City FSC</td>\n      <td>10.50</td>\n      <td>10.11</td>\n      <td>9.31</td>\n      <td>19.42</td>\n    </tr>\n    <tr>\n      <th>226</th>\n      <td>2022 Colonial Open</td>\n      <td>217 Preliminary Plus Girls Excel Grp B / Free ...</td>\n      <td>1</td>\n      <td>Alyssa Chan, Gate City FSC</td>\n      <td>10.18</td>\n      <td>10.27</td>\n      <td>10.64</td>\n      <td>20.91</td>\n    </tr>\n    <tr>\n      <th>229</th>\n      <td>2022 Colonial Open</td>\n      <td>217 Preliminary Plus Girls Excel Grp B / Free ...</td>\n      <td>4</td>\n      <td>Kelsey Cochran, Gate City FSC</td>\n      <td>8.76</td>\n      <td>7.95</td>\n      <td>9.14</td>\n      <td>17.09</td>\n    </tr>\n    <tr>\n      <th>235</th>\n      <td>2022 Colonial Open</td>\n      <td>220 Preliminary Boys FS / Free Skate</td>\n      <td>2</td>\n      <td>Geoffrey Seiden, Gate City FSC</td>\n      <td>8.44</td>\n      <td>8.31</td>\n      <td>9.56</td>\n      <td>17.37</td>\n    </tr>\n    <tr>\n      <th>324</th>\n      <td>2022 Colonial Open</td>\n      <td>233 Juvenile Plus Girls Excel / Free Skate</td>\n      <td>1</td>\n      <td>Mia Yakuboff, Gate City FSC</td>\n      <td>13.03</td>\n      <td>13.43</td>\n      <td>18.04</td>\n      <td>31.47</td>\n    </tr>\n    <tr>\n      <th>336</th>\n      <td>2022 Colonial Open</td>\n      <td>233 Juvenile Plus Girls Excel / Free Skate</td>\n      <td>13</td>\n      <td>Charlotte Dezotell, Gate City FSC</td>\n      <td>11.93</td>\n      <td>10.84</td>\n      <td>15.62</td>\n      <td>25.46</td>\n    </tr>\n    <tr>\n      <th>337</th>\n      <td>2022 Colonial Open</td>\n      <td>233 Juvenile Plus Girls Excel / Free Skate</td>\n      <td>14</td>\n      <td>Katherine Grace Bond, Gate City FSC</td>\n      <td>9.63</td>\n      <td>9.48</td>\n      <td>16.35</td>\n      <td>25.33</td>\n    </tr>\n    <tr>\n      <th>339</th>\n      <td>2022 Colonial Open</td>\n      <td>233 Juvenile Plus Girls Excel / Free Skate</td>\n      <td>16</td>\n      <td>Vera Sergeeva, Gate City FSC</td>\n      <td>12.19</td>\n      <td>10.68</td>\n      <td>13.85</td>\n      <td>23.53</td>\n    </tr>\n    <tr>\n      <th>371</th>\n      <td>2022 Colonial Open</td>\n      <td>237 Junior Ladies Excel / Free Skate</td>\n      <td>4</td>\n      <td>Genevieve Gratton, Gate City FSC</td>\n      <td>17.99</td>\n      <td>17.44</td>\n      <td>29.06</td>\n      <td>46.50</td>\n    </tr>\n    <tr>\n      <th>3661</th>\n      <td>23rd Genesee Biennial Invitational</td>\n      <td>34 Preliminary Plus Girls Excel / Free Skate</td>\n      <td>6</td>\n      <td>Emily Brown, Gate City FSC</td>\n      <td>8.86</td>\n      <td>7.88</td>\n      <td>7.69</td>\n      <td>15.07</td>\n    </tr>\n    <tr>\n      <th>2499</th>\n      <td>2023 North Atlantic Open</td>\n      <td>43 Excel Pre-Preliminary Girls FS Grp B / Free...</td>\n      <td>4</td>\n      <td>Ava Weadick, Gate City FSC</td>\n      <td>7.71</td>\n      <td>7.47</td>\n      <td>7.19</td>\n      <td>14.66</td>\n    </tr>\n    <tr>\n      <th>2505</th>\n      <td>2023 North Atlantic Open</td>\n      <td>44 Excel Preliminary Girls Free Skate Grp A / ...</td>\n      <td>4</td>\n      <td>Estella Maynard, Gate City FSC</td>\n      <td>6.48</td>\n      <td>6.86</td>\n      <td>7.44</td>\n      <td>13.30</td>\n    </tr>\n    <tr>\n      <th>2513</th>\n      <td>2023 North Atlantic Open</td>\n      <td>59 Excel Preliminary Plus Girls Free Skate / F...</td>\n      <td>4</td>\n      <td>Leela Chan, Gate City FSC</td>\n      <td>8.88</td>\n      <td>8.76</td>\n      <td>9.96</td>\n      <td>17.72</td>\n    </tr>\n    <tr>\n      <th>2515</th>\n      <td>2023 North Atlantic Open</td>\n      <td>59 Excel Preliminary Plus Girls Free Skate / F...</td>\n      <td>6</td>\n      <td>Emily Brown, Gate City FSC</td>\n      <td>5.86</td>\n      <td>6.04</td>\n      <td>9.44</td>\n      <td>15.48</td>\n    </tr>\n    <tr>\n      <th>2519</th>\n      <td>2023 North Atlantic Open</td>\n      <td>61 Excel Pre-Juvenile Plus Girls Free Skate / ...</td>\n      <td>1</td>\n      <td>Alyssa Chan, Gate City FSC</td>\n      <td>10.58</td>\n      <td>9.63</td>\n      <td>10.80</td>\n      <td>20.43</td>\n    </tr>\n    <tr>\n      <th>2523</th>\n      <td>2023 North Atlantic Open</td>\n      <td>63 Excel Juvenile Plus Girls Free Skate / Free...</td>\n      <td>1</td>\n      <td>Mia Yakuboff, Gate City FSC</td>\n      <td>13.77</td>\n      <td>13.94</td>\n      <td>16.58</td>\n      <td>30.52</td>\n    </tr>\n    <tr>\n      <th>2528</th>\n      <td>2023 North Atlantic Open</td>\n      <td>65 Excel Intermediate Women Free Skate / Free ...</td>\n      <td>2</td>\n      <td>Vera Sergeeva, Gate City FSC</td>\n      <td>13.34</td>\n      <td>14.59</td>\n      <td>20.88</td>\n      <td>34.97</td>\n    </tr>\n  </tbody>\n</table>\n</div>"
     },
     "execution_count": 64,
     "metadata": {},
     "output_type": "execute_result"
    }
   ],
   "source": [
    "event_watched = df_sorted[df_sorted['name'].str.contains('Gate City')]\n",
    "event_watched"
   ],
   "metadata": {
    "collapsed": false,
    "ExecuteTime": {
     "start_time": "2023-04-29T09:09:11.621865Z",
     "end_time": "2023-04-29T09:09:11.667243Z"
    }
   }
  },
  {
   "cell_type": "code",
   "execution_count": 65,
   "outputs": [
    {
     "data": {
      "text/plain": "     top3  rest_of_field\n0   10.48          10.43\n1    8.74          11.00\n2   13.58          11.68\n3   22.31           8.40\n4   10.50          11.76\n5   10.18           9.48\n6    8.44           8.54\n7   13.03          17.50\n8   10.58           9.86\n9   13.77           8.76\n10  13.34          11.93\n11    NaN           9.63\n12    NaN          12.19\n13    NaN          17.99\n14    NaN           8.86\n15    NaN           7.71\n16    NaN           6.48\n17    NaN           8.88\n18    NaN           5.86",
      "text/html": "<div>\n<style scoped>\n    .dataframe tbody tr th:only-of-type {\n        vertical-align: middle;\n    }\n\n    .dataframe tbody tr th {\n        vertical-align: top;\n    }\n\n    .dataframe thead th {\n        text-align: right;\n    }\n</style>\n<table border=\"1\" class=\"dataframe\">\n  <thead>\n    <tr style=\"text-align: right;\">\n      <th></th>\n      <th>top3</th>\n      <th>rest_of_field</th>\n    </tr>\n  </thead>\n  <tbody>\n    <tr>\n      <th>0</th>\n      <td>10.48</td>\n      <td>10.43</td>\n    </tr>\n    <tr>\n      <th>1</th>\n      <td>8.74</td>\n      <td>11.00</td>\n    </tr>\n    <tr>\n      <th>2</th>\n      <td>13.58</td>\n      <td>11.68</td>\n    </tr>\n    <tr>\n      <th>3</th>\n      <td>22.31</td>\n      <td>8.40</td>\n    </tr>\n    <tr>\n      <th>4</th>\n      <td>10.50</td>\n      <td>11.76</td>\n    </tr>\n    <tr>\n      <th>5</th>\n      <td>10.18</td>\n      <td>9.48</td>\n    </tr>\n    <tr>\n      <th>6</th>\n      <td>8.44</td>\n      <td>8.54</td>\n    </tr>\n    <tr>\n      <th>7</th>\n      <td>13.03</td>\n      <td>17.50</td>\n    </tr>\n    <tr>\n      <th>8</th>\n      <td>10.58</td>\n      <td>9.86</td>\n    </tr>\n    <tr>\n      <th>9</th>\n      <td>13.77</td>\n      <td>8.76</td>\n    </tr>\n    <tr>\n      <th>10</th>\n      <td>13.34</td>\n      <td>11.93</td>\n    </tr>\n    <tr>\n      <th>11</th>\n      <td>NaN</td>\n      <td>9.63</td>\n    </tr>\n    <tr>\n      <th>12</th>\n      <td>NaN</td>\n      <td>12.19</td>\n    </tr>\n    <tr>\n      <th>13</th>\n      <td>NaN</td>\n      <td>17.99</td>\n    </tr>\n    <tr>\n      <th>14</th>\n      <td>NaN</td>\n      <td>8.86</td>\n    </tr>\n    <tr>\n      <th>15</th>\n      <td>NaN</td>\n      <td>7.71</td>\n    </tr>\n    <tr>\n      <th>16</th>\n      <td>NaN</td>\n      <td>6.48</td>\n    </tr>\n    <tr>\n      <th>17</th>\n      <td>NaN</td>\n      <td>8.88</td>\n    </tr>\n    <tr>\n      <th>18</th>\n      <td>NaN</td>\n      <td>5.86</td>\n    </tr>\n  </tbody>\n</table>\n</div>"
     },
     "execution_count": 65,
     "metadata": {},
     "output_type": "execute_result"
    }
   ],
   "source": [
    "import itertools\n",
    "plot_df_lt3 = event_watched[event_watched['rank']<=3]\n",
    "plot_df_gt3 = event_watched[event_watched['rank']>3]\n",
    "list_lt3 = list(plot_df_lt3['total_base_value'])\n",
    "list_gt3 = list(plot_df_gt3['total_base_value'])\n",
    "\n",
    "# plot_df = pd.DataFrame((e for e in itertools.zip_longest(list_lt3,list_gt3)),columns=['top3','rest_of_field'])\n",
    "plot_df = pd.DataFrame((e for e in itertools.zip_longest(list_lt3,list_gt3)),columns=['top3','rest_of_field'])\n",
    "plot_df"
   ],
   "metadata": {
    "collapsed": false,
    "ExecuteTime": {
     "start_time": "2023-04-29T09:10:36.850808Z",
     "end_time": "2023-04-29T09:10:36.870870Z"
    }
   }
  },
  {
   "cell_type": "code",
   "execution_count": 66,
   "outputs": [
    {
     "data": {
      "application/vnd.plotly.v1+json": {
       "data": [
        {
         "hovertemplate": "variable=top3<br>index=%{x}<br>value=%{y}<extra></extra>",
         "legendgroup": "top3",
         "line": {
          "color": "#636efa",
          "dash": "solid"
         },
         "marker": {
          "symbol": "circle"
         },
         "mode": "lines",
         "name": "top3",
         "orientation": "v",
         "showlegend": true,
         "x": [
          0,
          1,
          2,
          3,
          4,
          5,
          6,
          7,
          8,
          9,
          10,
          11,
          12,
          13,
          14,
          15,
          16,
          17,
          18
         ],
         "xaxis": "x",
         "y": [
          10.48,
          8.74,
          13.58,
          22.31,
          10.5,
          10.18,
          8.44,
          13.03,
          10.58,
          13.77,
          13.34,
          null,
          null,
          null,
          null,
          null,
          null,
          null,
          null
         ],
         "yaxis": "y",
         "type": "scatter",
         "uid": "0094e588-3111-490e-acf0-88408a9d86c6"
        },
        {
         "hovertemplate": "variable=rest_of_field<br>index=%{x}<br>value=%{y}<extra></extra>",
         "legendgroup": "rest_of_field",
         "line": {
          "color": "#EF553B",
          "dash": "solid"
         },
         "marker": {
          "symbol": "circle"
         },
         "mode": "lines",
         "name": "rest_of_field",
         "orientation": "v",
         "showlegend": true,
         "x": [
          0,
          1,
          2,
          3,
          4,
          5,
          6,
          7,
          8,
          9,
          10,
          11,
          12,
          13,
          14,
          15,
          16,
          17,
          18
         ],
         "xaxis": "x",
         "y": [
          10.43,
          11.0,
          11.68,
          8.4,
          11.76,
          9.48,
          8.54,
          17.5,
          9.86,
          8.76,
          11.93,
          9.63,
          12.19,
          17.99,
          8.86,
          7.71,
          6.48,
          8.88,
          5.86
         ],
         "yaxis": "y",
         "type": "scatter",
         "uid": "37891138-1016-47f1-9351-a07dafe8b2cc"
        }
       ],
       "layout": {
        "legend": {
         "title": {
          "text": "variable"
         },
         "tracegroupgap": 0
        },
        "template": {
         "data": {
          "barpolar": [
           {
            "marker": {
             "line": {
              "color": "rgb(17,17,17)",
              "width": 0.5
             },
             "pattern": {
              "fillmode": "overlay",
              "size": 10,
              "solidity": 0.2
             }
            },
            "type": "barpolar"
           }
          ],
          "bar": [
           {
            "error_x": {
             "color": "#f2f5fa"
            },
            "error_y": {
             "color": "#f2f5fa"
            },
            "marker": {
             "line": {
              "color": "rgb(17,17,17)",
              "width": 0.5
             },
             "pattern": {
              "fillmode": "overlay",
              "size": 10,
              "solidity": 0.2
             }
            },
            "type": "bar"
           }
          ],
          "carpet": [
           {
            "aaxis": {
             "endlinecolor": "#A2B1C6",
             "gridcolor": "#506784",
             "linecolor": "#506784",
             "minorgridcolor": "#506784",
             "startlinecolor": "#A2B1C6"
            },
            "baxis": {
             "endlinecolor": "#A2B1C6",
             "gridcolor": "#506784",
             "linecolor": "#506784",
             "minorgridcolor": "#506784",
             "startlinecolor": "#A2B1C6"
            },
            "type": "carpet"
           }
          ],
          "choropleth": [
           {
            "colorbar": {
             "outlinewidth": 0,
             "ticks": ""
            },
            "type": "choropleth"
           }
          ],
          "contourcarpet": [
           {
            "colorbar": {
             "outlinewidth": 0,
             "ticks": ""
            },
            "type": "contourcarpet"
           }
          ],
          "contour": [
           {
            "colorbar": {
             "outlinewidth": 0,
             "ticks": ""
            },
            "colorscale": [
             [
              0.0,
              "#0d0887"
             ],
             [
              0.1111111111111111,
              "#46039f"
             ],
             [
              0.2222222222222222,
              "#7201a8"
             ],
             [
              0.3333333333333333,
              "#9c179e"
             ],
             [
              0.4444444444444444,
              "#bd3786"
             ],
             [
              0.5555555555555556,
              "#d8576b"
             ],
             [
              0.6666666666666666,
              "#ed7953"
             ],
             [
              0.7777777777777778,
              "#fb9f3a"
             ],
             [
              0.8888888888888888,
              "#fdca26"
             ],
             [
              1.0,
              "#f0f921"
             ]
            ],
            "type": "contour"
           }
          ],
          "heatmapgl": [
           {
            "colorbar": {
             "outlinewidth": 0,
             "ticks": ""
            },
            "colorscale": [
             [
              0.0,
              "#0d0887"
             ],
             [
              0.1111111111111111,
              "#46039f"
             ],
             [
              0.2222222222222222,
              "#7201a8"
             ],
             [
              0.3333333333333333,
              "#9c179e"
             ],
             [
              0.4444444444444444,
              "#bd3786"
             ],
             [
              0.5555555555555556,
              "#d8576b"
             ],
             [
              0.6666666666666666,
              "#ed7953"
             ],
             [
              0.7777777777777778,
              "#fb9f3a"
             ],
             [
              0.8888888888888888,
              "#fdca26"
             ],
             [
              1.0,
              "#f0f921"
             ]
            ],
            "type": "heatmapgl"
           }
          ],
          "heatmap": [
           {
            "colorbar": {
             "outlinewidth": 0,
             "ticks": ""
            },
            "colorscale": [
             [
              0.0,
              "#0d0887"
             ],
             [
              0.1111111111111111,
              "#46039f"
             ],
             [
              0.2222222222222222,
              "#7201a8"
             ],
             [
              0.3333333333333333,
              "#9c179e"
             ],
             [
              0.4444444444444444,
              "#bd3786"
             ],
             [
              0.5555555555555556,
              "#d8576b"
             ],
             [
              0.6666666666666666,
              "#ed7953"
             ],
             [
              0.7777777777777778,
              "#fb9f3a"
             ],
             [
              0.8888888888888888,
              "#fdca26"
             ],
             [
              1.0,
              "#f0f921"
             ]
            ],
            "type": "heatmap"
           }
          ],
          "histogram2dcontour": [
           {
            "colorbar": {
             "outlinewidth": 0,
             "ticks": ""
            },
            "colorscale": [
             [
              0.0,
              "#0d0887"
             ],
             [
              0.1111111111111111,
              "#46039f"
             ],
             [
              0.2222222222222222,
              "#7201a8"
             ],
             [
              0.3333333333333333,
              "#9c179e"
             ],
             [
              0.4444444444444444,
              "#bd3786"
             ],
             [
              0.5555555555555556,
              "#d8576b"
             ],
             [
              0.6666666666666666,
              "#ed7953"
             ],
             [
              0.7777777777777778,
              "#fb9f3a"
             ],
             [
              0.8888888888888888,
              "#fdca26"
             ],
             [
              1.0,
              "#f0f921"
             ]
            ],
            "type": "histogram2dcontour"
           }
          ],
          "histogram2d": [
           {
            "colorbar": {
             "outlinewidth": 0,
             "ticks": ""
            },
            "colorscale": [
             [
              0.0,
              "#0d0887"
             ],
             [
              0.1111111111111111,
              "#46039f"
             ],
             [
              0.2222222222222222,
              "#7201a8"
             ],
             [
              0.3333333333333333,
              "#9c179e"
             ],
             [
              0.4444444444444444,
              "#bd3786"
             ],
             [
              0.5555555555555556,
              "#d8576b"
             ],
             [
              0.6666666666666666,
              "#ed7953"
             ],
             [
              0.7777777777777778,
              "#fb9f3a"
             ],
             [
              0.8888888888888888,
              "#fdca26"
             ],
             [
              1.0,
              "#f0f921"
             ]
            ],
            "type": "histogram2d"
           }
          ],
          "histogram": [
           {
            "marker": {
             "pattern": {
              "fillmode": "overlay",
              "size": 10,
              "solidity": 0.2
             }
            },
            "type": "histogram"
           }
          ],
          "mesh3d": [
           {
            "colorbar": {
             "outlinewidth": 0,
             "ticks": ""
            },
            "type": "mesh3d"
           }
          ],
          "parcoords": [
           {
            "line": {
             "colorbar": {
              "outlinewidth": 0,
              "ticks": ""
             }
            },
            "type": "parcoords"
           }
          ],
          "pie": [
           {
            "automargin": true,
            "type": "pie"
           }
          ],
          "scatter3d": [
           {
            "line": {
             "colorbar": {
              "outlinewidth": 0,
              "ticks": ""
             }
            },
            "marker": {
             "colorbar": {
              "outlinewidth": 0,
              "ticks": ""
             }
            },
            "type": "scatter3d"
           }
          ],
          "scattercarpet": [
           {
            "marker": {
             "colorbar": {
              "outlinewidth": 0,
              "ticks": ""
             }
            },
            "type": "scattercarpet"
           }
          ],
          "scattergeo": [
           {
            "marker": {
             "colorbar": {
              "outlinewidth": 0,
              "ticks": ""
             }
            },
            "type": "scattergeo"
           }
          ],
          "scattergl": [
           {
            "marker": {
             "line": {
              "color": "#283442"
             }
            },
            "type": "scattergl"
           }
          ],
          "scattermapbox": [
           {
            "marker": {
             "colorbar": {
              "outlinewidth": 0,
              "ticks": ""
             }
            },
            "type": "scattermapbox"
           }
          ],
          "scatterpolargl": [
           {
            "marker": {
             "colorbar": {
              "outlinewidth": 0,
              "ticks": ""
             }
            },
            "type": "scatterpolargl"
           }
          ],
          "scatterpolar": [
           {
            "marker": {
             "colorbar": {
              "outlinewidth": 0,
              "ticks": ""
             }
            },
            "type": "scatterpolar"
           }
          ],
          "scatter": [
           {
            "marker": {
             "line": {
              "color": "#283442"
             }
            },
            "type": "scatter"
           }
          ],
          "scatterternary": [
           {
            "marker": {
             "colorbar": {
              "outlinewidth": 0,
              "ticks": ""
             }
            },
            "type": "scatterternary"
           }
          ],
          "surface": [
           {
            "colorbar": {
             "outlinewidth": 0,
             "ticks": ""
            },
            "colorscale": [
             [
              0.0,
              "#0d0887"
             ],
             [
              0.1111111111111111,
              "#46039f"
             ],
             [
              0.2222222222222222,
              "#7201a8"
             ],
             [
              0.3333333333333333,
              "#9c179e"
             ],
             [
              0.4444444444444444,
              "#bd3786"
             ],
             [
              0.5555555555555556,
              "#d8576b"
             ],
             [
              0.6666666666666666,
              "#ed7953"
             ],
             [
              0.7777777777777778,
              "#fb9f3a"
             ],
             [
              0.8888888888888888,
              "#fdca26"
             ],
             [
              1.0,
              "#f0f921"
             ]
            ],
            "type": "surface"
           }
          ],
          "table": [
           {
            "cells": {
             "fill": {
              "color": "#506784"
             },
             "line": {
              "color": "rgb(17,17,17)"
             }
            },
            "header": {
             "fill": {
              "color": "#2a3f5f"
             },
             "line": {
              "color": "rgb(17,17,17)"
             }
            },
            "type": "table"
           }
          ]
         },
         "layout": {
          "annotationdefaults": {
           "arrowcolor": "#f2f5fa",
           "arrowhead": 0,
           "arrowwidth": 1
          },
          "autotypenumbers": "strict",
          "coloraxis": {
           "colorbar": {
            "outlinewidth": 0,
            "ticks": ""
           }
          },
          "colorscale": {
           "diverging": [
            [
             0,
             "#8e0152"
            ],
            [
             0.1,
             "#c51b7d"
            ],
            [
             0.2,
             "#de77ae"
            ],
            [
             0.3,
             "#f1b6da"
            ],
            [
             0.4,
             "#fde0ef"
            ],
            [
             0.5,
             "#f7f7f7"
            ],
            [
             0.6,
             "#e6f5d0"
            ],
            [
             0.7,
             "#b8e186"
            ],
            [
             0.8,
             "#7fbc41"
            ],
            [
             0.9,
             "#4d9221"
            ],
            [
             1,
             "#276419"
            ]
           ],
           "sequential": [
            [
             0.0,
             "#0d0887"
            ],
            [
             0.1111111111111111,
             "#46039f"
            ],
            [
             0.2222222222222222,
             "#7201a8"
            ],
            [
             0.3333333333333333,
             "#9c179e"
            ],
            [
             0.4444444444444444,
             "#bd3786"
            ],
            [
             0.5555555555555556,
             "#d8576b"
            ],
            [
             0.6666666666666666,
             "#ed7953"
            ],
            [
             0.7777777777777778,
             "#fb9f3a"
            ],
            [
             0.8888888888888888,
             "#fdca26"
            ],
            [
             1.0,
             "#f0f921"
            ]
           ],
           "sequentialminus": [
            [
             0.0,
             "#0d0887"
            ],
            [
             0.1111111111111111,
             "#46039f"
            ],
            [
             0.2222222222222222,
             "#7201a8"
            ],
            [
             0.3333333333333333,
             "#9c179e"
            ],
            [
             0.4444444444444444,
             "#bd3786"
            ],
            [
             0.5555555555555556,
             "#d8576b"
            ],
            [
             0.6666666666666666,
             "#ed7953"
            ],
            [
             0.7777777777777778,
             "#fb9f3a"
            ],
            [
             0.8888888888888888,
             "#fdca26"
            ],
            [
             1.0,
             "#f0f921"
            ]
           ]
          },
          "colorway": [
           "#636efa",
           "#EF553B",
           "#00cc96",
           "#ab63fa",
           "#FFA15A",
           "#19d3f3",
           "#FF6692",
           "#B6E880",
           "#FF97FF",
           "#FECB52"
          ],
          "font": {
           "color": "#f2f5fa"
          },
          "geo": {
           "bgcolor": "rgb(17,17,17)",
           "lakecolor": "rgb(17,17,17)",
           "landcolor": "rgb(17,17,17)",
           "showlakes": true,
           "showland": true,
           "subunitcolor": "#506784"
          },
          "hoverlabel": {
           "align": "left"
          },
          "hovermode": "closest",
          "mapbox": {
           "style": "dark"
          },
          "paper_bgcolor": "rgb(17,17,17)",
          "plot_bgcolor": "rgb(17,17,17)",
          "polar": {
           "angularaxis": {
            "gridcolor": "#506784",
            "linecolor": "#506784",
            "ticks": ""
           },
           "bgcolor": "rgb(17,17,17)",
           "radialaxis": {
            "gridcolor": "#506784",
            "linecolor": "#506784",
            "ticks": ""
           }
          },
          "scene": {
           "xaxis": {
            "backgroundcolor": "rgb(17,17,17)",
            "gridcolor": "#506784",
            "gridwidth": 2,
            "linecolor": "#506784",
            "showbackground": true,
            "ticks": "",
            "zerolinecolor": "#C8D4E3"
           },
           "yaxis": {
            "backgroundcolor": "rgb(17,17,17)",
            "gridcolor": "#506784",
            "gridwidth": 2,
            "linecolor": "#506784",
            "showbackground": true,
            "ticks": "",
            "zerolinecolor": "#C8D4E3"
           },
           "zaxis": {
            "backgroundcolor": "rgb(17,17,17)",
            "gridcolor": "#506784",
            "gridwidth": 2,
            "linecolor": "#506784",
            "showbackground": true,
            "ticks": "",
            "zerolinecolor": "#C8D4E3"
           }
          },
          "shapedefaults": {
           "line": {
            "color": "#f2f5fa"
           }
          },
          "sliderdefaults": {
           "bgcolor": "#C8D4E3",
           "bordercolor": "rgb(17,17,17)",
           "borderwidth": 1,
           "tickwidth": 0
          },
          "ternary": {
           "aaxis": {
            "gridcolor": "#506784",
            "linecolor": "#506784",
            "ticks": ""
           },
           "baxis": {
            "gridcolor": "#506784",
            "linecolor": "#506784",
            "ticks": ""
           },
           "bgcolor": "rgb(17,17,17)",
           "caxis": {
            "gridcolor": "#506784",
            "linecolor": "#506784",
            "ticks": ""
           }
          },
          "title": {
           "x": 0.05
          },
          "updatemenudefaults": {
           "bgcolor": "#506784",
           "borderwidth": 0
          },
          "xaxis": {
           "automargin": true,
           "gridcolor": "#283442",
           "linecolor": "#506784",
           "ticks": "",
           "title": {
            "standoff": 15
           },
           "zerolinecolor": "#283442",
           "zerolinewidth": 2
          },
          "yaxis": {
           "automargin": true,
           "gridcolor": "#283442",
           "linecolor": "#506784",
           "ticks": "",
           "title": {
            "standoff": 15
           },
           "zerolinecolor": "#283442",
           "zerolinewidth": 2
          }
         }
        },
        "title": {
         "text": "Base Value for Intermediate Ladies"
        },
        "xaxis": {
         "anchor": "y",
         "domain": [
          0.0,
          1.0
         ],
         "title": {
          "text": "index"
         }
        },
        "yaxis": {
         "anchor": "x",
         "domain": [
          0.0,
          1.0
         ],
         "title": {
          "text": "value"
         }
        }
       },
       "config": {
        "plotlyServerURL": "https://plot.ly"
       }
      },
      "text/html": "<div>                            <div id=\"b0860dfb-00f1-4c55-a39b-5b043301d733\" class=\"plotly-graph-div\" style=\"height:525px; width:100%;\"></div>            <script type=\"text/javascript\">                require([\"plotly\"], function(Plotly) {                    window.PLOTLYENV=window.PLOTLYENV || {};                                    if (document.getElementById(\"b0860dfb-00f1-4c55-a39b-5b043301d733\")) {                    Plotly.newPlot(                        \"b0860dfb-00f1-4c55-a39b-5b043301d733\",                        [{\"hovertemplate\":\"variable=top3<br>index=%{x}<br>value=%{y}<extra></extra>\",\"legendgroup\":\"top3\",\"line\":{\"color\":\"#636efa\",\"dash\":\"solid\"},\"marker\":{\"symbol\":\"circle\"},\"mode\":\"lines\",\"name\":\"top3\",\"orientation\":\"v\",\"showlegend\":true,\"x\":[0,1,2,3,4,5,6,7,8,9,10,11,12,13,14,15,16,17,18],\"xaxis\":\"x\",\"y\":[10.48,8.74,13.58,22.31,10.5,10.18,8.44,13.03,10.58,13.77,13.34,null,null,null,null,null,null,null,null],\"yaxis\":\"y\",\"type\":\"scatter\",\"uid\":\"0094e588-3111-490e-acf0-88408a9d86c6\"},{\"hovertemplate\":\"variable=rest_of_field<br>index=%{x}<br>value=%{y}<extra></extra>\",\"legendgroup\":\"rest_of_field\",\"line\":{\"color\":\"#EF553B\",\"dash\":\"solid\"},\"marker\":{\"symbol\":\"circle\"},\"mode\":\"lines\",\"name\":\"rest_of_field\",\"orientation\":\"v\",\"showlegend\":true,\"x\":[0,1,2,3,4,5,6,7,8,9,10,11,12,13,14,15,16,17,18],\"xaxis\":\"x\",\"y\":[10.43,11.0,11.68,8.4,11.76,9.48,8.54,17.5,9.86,8.76,11.93,9.63,12.19,17.99,8.86,7.71,6.48,8.88,5.86],\"yaxis\":\"y\",\"type\":\"scatter\",\"uid\":\"37891138-1016-47f1-9351-a07dafe8b2cc\"}],                        {\"legend\":{\"title\":{\"text\":\"variable\"},\"tracegroupgap\":0},\"template\":{\"data\":{\"barpolar\":[{\"marker\":{\"line\":{\"color\":\"rgb(17,17,17)\",\"width\":0.5},\"pattern\":{\"fillmode\":\"overlay\",\"size\":10,\"solidity\":0.2}},\"type\":\"barpolar\"}],\"bar\":[{\"error_x\":{\"color\":\"#f2f5fa\"},\"error_y\":{\"color\":\"#f2f5fa\"},\"marker\":{\"line\":{\"color\":\"rgb(17,17,17)\",\"width\":0.5},\"pattern\":{\"fillmode\":\"overlay\",\"size\":10,\"solidity\":0.2}},\"type\":\"bar\"}],\"carpet\":[{\"aaxis\":{\"endlinecolor\":\"#A2B1C6\",\"gridcolor\":\"#506784\",\"linecolor\":\"#506784\",\"minorgridcolor\":\"#506784\",\"startlinecolor\":\"#A2B1C6\"},\"baxis\":{\"endlinecolor\":\"#A2B1C6\",\"gridcolor\":\"#506784\",\"linecolor\":\"#506784\",\"minorgridcolor\":\"#506784\",\"startlinecolor\":\"#A2B1C6\"},\"type\":\"carpet\"}],\"choropleth\":[{\"colorbar\":{\"outlinewidth\":0,\"ticks\":\"\"},\"type\":\"choropleth\"}],\"contourcarpet\":[{\"colorbar\":{\"outlinewidth\":0,\"ticks\":\"\"},\"type\":\"contourcarpet\"}],\"contour\":[{\"colorbar\":{\"outlinewidth\":0,\"ticks\":\"\"},\"colorscale\":[[0.0,\"#0d0887\"],[0.1111111111111111,\"#46039f\"],[0.2222222222222222,\"#7201a8\"],[0.3333333333333333,\"#9c179e\"],[0.4444444444444444,\"#bd3786\"],[0.5555555555555556,\"#d8576b\"],[0.6666666666666666,\"#ed7953\"],[0.7777777777777778,\"#fb9f3a\"],[0.8888888888888888,\"#fdca26\"],[1.0,\"#f0f921\"]],\"type\":\"contour\"}],\"heatmapgl\":[{\"colorbar\":{\"outlinewidth\":0,\"ticks\":\"\"},\"colorscale\":[[0.0,\"#0d0887\"],[0.1111111111111111,\"#46039f\"],[0.2222222222222222,\"#7201a8\"],[0.3333333333333333,\"#9c179e\"],[0.4444444444444444,\"#bd3786\"],[0.5555555555555556,\"#d8576b\"],[0.6666666666666666,\"#ed7953\"],[0.7777777777777778,\"#fb9f3a\"],[0.8888888888888888,\"#fdca26\"],[1.0,\"#f0f921\"]],\"type\":\"heatmapgl\"}],\"heatmap\":[{\"colorbar\":{\"outlinewidth\":0,\"ticks\":\"\"},\"colorscale\":[[0.0,\"#0d0887\"],[0.1111111111111111,\"#46039f\"],[0.2222222222222222,\"#7201a8\"],[0.3333333333333333,\"#9c179e\"],[0.4444444444444444,\"#bd3786\"],[0.5555555555555556,\"#d8576b\"],[0.6666666666666666,\"#ed7953\"],[0.7777777777777778,\"#fb9f3a\"],[0.8888888888888888,\"#fdca26\"],[1.0,\"#f0f921\"]],\"type\":\"heatmap\"}],\"histogram2dcontour\":[{\"colorbar\":{\"outlinewidth\":0,\"ticks\":\"\"},\"colorscale\":[[0.0,\"#0d0887\"],[0.1111111111111111,\"#46039f\"],[0.2222222222222222,\"#7201a8\"],[0.3333333333333333,\"#9c179e\"],[0.4444444444444444,\"#bd3786\"],[0.5555555555555556,\"#d8576b\"],[0.6666666666666666,\"#ed7953\"],[0.7777777777777778,\"#fb9f3a\"],[0.8888888888888888,\"#fdca26\"],[1.0,\"#f0f921\"]],\"type\":\"histogram2dcontour\"}],\"histogram2d\":[{\"colorbar\":{\"outlinewidth\":0,\"ticks\":\"\"},\"colorscale\":[[0.0,\"#0d0887\"],[0.1111111111111111,\"#46039f\"],[0.2222222222222222,\"#7201a8\"],[0.3333333333333333,\"#9c179e\"],[0.4444444444444444,\"#bd3786\"],[0.5555555555555556,\"#d8576b\"],[0.6666666666666666,\"#ed7953\"],[0.7777777777777778,\"#fb9f3a\"],[0.8888888888888888,\"#fdca26\"],[1.0,\"#f0f921\"]],\"type\":\"histogram2d\"}],\"histogram\":[{\"marker\":{\"pattern\":{\"fillmode\":\"overlay\",\"size\":10,\"solidity\":0.2}},\"type\":\"histogram\"}],\"mesh3d\":[{\"colorbar\":{\"outlinewidth\":0,\"ticks\":\"\"},\"type\":\"mesh3d\"}],\"parcoords\":[{\"line\":{\"colorbar\":{\"outlinewidth\":0,\"ticks\":\"\"}},\"type\":\"parcoords\"}],\"pie\":[{\"automargin\":true,\"type\":\"pie\"}],\"scatter3d\":[{\"line\":{\"colorbar\":{\"outlinewidth\":0,\"ticks\":\"\"}},\"marker\":{\"colorbar\":{\"outlinewidth\":0,\"ticks\":\"\"}},\"type\":\"scatter3d\"}],\"scattercarpet\":[{\"marker\":{\"colorbar\":{\"outlinewidth\":0,\"ticks\":\"\"}},\"type\":\"scattercarpet\"}],\"scattergeo\":[{\"marker\":{\"colorbar\":{\"outlinewidth\":0,\"ticks\":\"\"}},\"type\":\"scattergeo\"}],\"scattergl\":[{\"marker\":{\"line\":{\"color\":\"#283442\"}},\"type\":\"scattergl\"}],\"scattermapbox\":[{\"marker\":{\"colorbar\":{\"outlinewidth\":0,\"ticks\":\"\"}},\"type\":\"scattermapbox\"}],\"scatterpolargl\":[{\"marker\":{\"colorbar\":{\"outlinewidth\":0,\"ticks\":\"\"}},\"type\":\"scatterpolargl\"}],\"scatterpolar\":[{\"marker\":{\"colorbar\":{\"outlinewidth\":0,\"ticks\":\"\"}},\"type\":\"scatterpolar\"}],\"scatter\":[{\"marker\":{\"line\":{\"color\":\"#283442\"}},\"type\":\"scatter\"}],\"scatterternary\":[{\"marker\":{\"colorbar\":{\"outlinewidth\":0,\"ticks\":\"\"}},\"type\":\"scatterternary\"}],\"surface\":[{\"colorbar\":{\"outlinewidth\":0,\"ticks\":\"\"},\"colorscale\":[[0.0,\"#0d0887\"],[0.1111111111111111,\"#46039f\"],[0.2222222222222222,\"#7201a8\"],[0.3333333333333333,\"#9c179e\"],[0.4444444444444444,\"#bd3786\"],[0.5555555555555556,\"#d8576b\"],[0.6666666666666666,\"#ed7953\"],[0.7777777777777778,\"#fb9f3a\"],[0.8888888888888888,\"#fdca26\"],[1.0,\"#f0f921\"]],\"type\":\"surface\"}],\"table\":[{\"cells\":{\"fill\":{\"color\":\"#506784\"},\"line\":{\"color\":\"rgb(17,17,17)\"}},\"header\":{\"fill\":{\"color\":\"#2a3f5f\"},\"line\":{\"color\":\"rgb(17,17,17)\"}},\"type\":\"table\"}]},\"layout\":{\"annotationdefaults\":{\"arrowcolor\":\"#f2f5fa\",\"arrowhead\":0,\"arrowwidth\":1},\"autotypenumbers\":\"strict\",\"coloraxis\":{\"colorbar\":{\"outlinewidth\":0,\"ticks\":\"\"}},\"colorscale\":{\"diverging\":[[0,\"#8e0152\"],[0.1,\"#c51b7d\"],[0.2,\"#de77ae\"],[0.3,\"#f1b6da\"],[0.4,\"#fde0ef\"],[0.5,\"#f7f7f7\"],[0.6,\"#e6f5d0\"],[0.7,\"#b8e186\"],[0.8,\"#7fbc41\"],[0.9,\"#4d9221\"],[1,\"#276419\"]],\"sequential\":[[0.0,\"#0d0887\"],[0.1111111111111111,\"#46039f\"],[0.2222222222222222,\"#7201a8\"],[0.3333333333333333,\"#9c179e\"],[0.4444444444444444,\"#bd3786\"],[0.5555555555555556,\"#d8576b\"],[0.6666666666666666,\"#ed7953\"],[0.7777777777777778,\"#fb9f3a\"],[0.8888888888888888,\"#fdca26\"],[1.0,\"#f0f921\"]],\"sequentialminus\":[[0.0,\"#0d0887\"],[0.1111111111111111,\"#46039f\"],[0.2222222222222222,\"#7201a8\"],[0.3333333333333333,\"#9c179e\"],[0.4444444444444444,\"#bd3786\"],[0.5555555555555556,\"#d8576b\"],[0.6666666666666666,\"#ed7953\"],[0.7777777777777778,\"#fb9f3a\"],[0.8888888888888888,\"#fdca26\"],[1.0,\"#f0f921\"]]},\"colorway\":[\"#636efa\",\"#EF553B\",\"#00cc96\",\"#ab63fa\",\"#FFA15A\",\"#19d3f3\",\"#FF6692\",\"#B6E880\",\"#FF97FF\",\"#FECB52\"],\"font\":{\"color\":\"#f2f5fa\"},\"geo\":{\"bgcolor\":\"rgb(17,17,17)\",\"lakecolor\":\"rgb(17,17,17)\",\"landcolor\":\"rgb(17,17,17)\",\"showlakes\":true,\"showland\":true,\"subunitcolor\":\"#506784\"},\"hoverlabel\":{\"align\":\"left\"},\"hovermode\":\"closest\",\"mapbox\":{\"style\":\"dark\"},\"paper_bgcolor\":\"rgb(17,17,17)\",\"plot_bgcolor\":\"rgb(17,17,17)\",\"polar\":{\"angularaxis\":{\"gridcolor\":\"#506784\",\"linecolor\":\"#506784\",\"ticks\":\"\"},\"bgcolor\":\"rgb(17,17,17)\",\"radialaxis\":{\"gridcolor\":\"#506784\",\"linecolor\":\"#506784\",\"ticks\":\"\"}},\"scene\":{\"xaxis\":{\"backgroundcolor\":\"rgb(17,17,17)\",\"gridcolor\":\"#506784\",\"gridwidth\":2,\"linecolor\":\"#506784\",\"showbackground\":true,\"ticks\":\"\",\"zerolinecolor\":\"#C8D4E3\"},\"yaxis\":{\"backgroundcolor\":\"rgb(17,17,17)\",\"gridcolor\":\"#506784\",\"gridwidth\":2,\"linecolor\":\"#506784\",\"showbackground\":true,\"ticks\":\"\",\"zerolinecolor\":\"#C8D4E3\"},\"zaxis\":{\"backgroundcolor\":\"rgb(17,17,17)\",\"gridcolor\":\"#506784\",\"gridwidth\":2,\"linecolor\":\"#506784\",\"showbackground\":true,\"ticks\":\"\",\"zerolinecolor\":\"#C8D4E3\"}},\"shapedefaults\":{\"line\":{\"color\":\"#f2f5fa\"}},\"sliderdefaults\":{\"bgcolor\":\"#C8D4E3\",\"bordercolor\":\"rgb(17,17,17)\",\"borderwidth\":1,\"tickwidth\":0},\"ternary\":{\"aaxis\":{\"gridcolor\":\"#506784\",\"linecolor\":\"#506784\",\"ticks\":\"\"},\"baxis\":{\"gridcolor\":\"#506784\",\"linecolor\":\"#506784\",\"ticks\":\"\"},\"bgcolor\":\"rgb(17,17,17)\",\"caxis\":{\"gridcolor\":\"#506784\",\"linecolor\":\"#506784\",\"ticks\":\"\"}},\"title\":{\"x\":0.05},\"updatemenudefaults\":{\"bgcolor\":\"#506784\",\"borderwidth\":0},\"xaxis\":{\"automargin\":true,\"gridcolor\":\"#283442\",\"linecolor\":\"#506784\",\"ticks\":\"\",\"title\":{\"standoff\":15},\"zerolinecolor\":\"#283442\",\"zerolinewidth\":2},\"yaxis\":{\"automargin\":true,\"gridcolor\":\"#283442\",\"linecolor\":\"#506784\",\"ticks\":\"\",\"title\":{\"standoff\":15},\"zerolinecolor\":\"#283442\",\"zerolinewidth\":2}}},\"title\":{\"text\":\"Base Value for Intermediate Ladies\"},\"xaxis\":{\"anchor\":\"y\",\"domain\":[0.0,1.0],\"title\":{\"text\":\"index\"}},\"yaxis\":{\"anchor\":\"x\",\"domain\":[0.0,1.0],\"title\":{\"text\":\"value\"}}},                        {\"responsive\": true}                    ).then(function(){\n                            \nvar gd = document.getElementById('b0860dfb-00f1-4c55-a39b-5b043301d733');\nvar x = new MutationObserver(function (mutations, observer) {{\n        var display = window.getComputedStyle(gd).display;\n        if (!display || display === 'none') {{\n            console.log([gd, 'removed!']);\n            Plotly.purge(gd);\n            observer.disconnect();\n        }}\n}});\n\n// Listen for the removal of the full notebook cells\nvar notebookContainer = gd.closest('#notebook-container');\nif (notebookContainer) {{\n    x.observe(notebookContainer, {childList: true});\n}}\n\n// Listen for the clearing of the current output cell\nvar outputEl = gd.closest('.output');\nif (outputEl) {{\n    x.observe(outputEl, {childList: true});\n}}\n\n                        })                };                });            </script>        </div>"
     },
     "metadata": {},
     "output_type": "display_data"
    }
   ],
   "source": [
    "import plotly.express as px\n",
    "import plotly.graph_objects as go\n",
    "\n",
    "fig = px.line(plot_df,y=['top3','rest_of_field'],title='Base Value for Intermediate Ladies')\n",
    "fig_widget = go.FigureWidget(fig)\n",
    "fig_widget.show()"
   ],
   "metadata": {
    "collapsed": false,
    "ExecuteTime": {
     "start_time": "2023-04-29T09:10:41.229965Z",
     "end_time": "2023-04-29T09:10:41.346245Z"
    }
   }
  },
  {
   "cell_type": "code",
   "execution_count": null,
   "outputs": [],
   "source": [
    "event_watched = df_sorted[df_sorted['event'].str.contains('Preliminary Plus Girls Excel')]\n",
    "event_watched"
   ],
   "metadata": {
    "collapsed": false,
    "ExecuteTime": {
     "start_time": "2023-04-29T08:49:28.727252Z",
     "end_time": "2023-04-29T08:49:28.771665Z"
    }
   }
  },
  {
   "cell_type": "code",
   "execution_count": null,
   "outputs": [],
   "source": [
    "plot_df_lt3 = event_watched[event_watched['rank']<=3]\n",
    "plot_df_gt3 = event_watched[event_watched['rank']>3]\n",
    "list_lt3 = list(plot_df_lt3['total_base_value'])\n",
    "list_gt3 = list(plot_df_gt3['total_base_value'])\n",
    "\n",
    "# plot_df = pd.DataFrame((e for e in itertools.zip_longest(list_lt3,list_gt3)),columns=['top3','rest_of_field'])\n",
    "plot_df = pd.DataFrame((e for e in itertools.zip_longest(list_lt3,list_gt3)),columns=['top3','rest_of_field'])\n",
    "plot_df\n",
    "fig = px.line(plot_df,y=['top3','rest_of_field'],title='Base Value for Preliminary Plus Girls')\n",
    "fig_widget = go.FigureWidget(fig)\n",
    "fig_widget.show()"
   ],
   "metadata": {
    "collapsed": false,
    "ExecuteTime": {
     "start_time": "2023-04-29T08:49:28.727252Z",
     "end_time": "2023-04-29T08:49:28.771665Z"
    }
   }
  }
 ],
 "metadata": {
  "kernelspec": {
   "display_name": "Python 3",
   "language": "python",
   "name": "python3"
  },
  "language_info": {
   "codemirror_mode": {
    "name": "ipython",
    "version": 2
   },
   "file_extension": ".py",
   "mimetype": "text/x-python",
   "name": "python",
   "nbconvert_exporter": "python",
   "pygments_lexer": "ipython2",
   "version": "2.7.6"
  }
 },
 "nbformat": 4,
 "nbformat_minor": 0
}
