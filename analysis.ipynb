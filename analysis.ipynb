{
 "cells": [
  {
   "cell_type": "code",
   "execution_count": 39,
   "outputs": [],
   "source": [
    "import glob\n",
    "import os\n",
    "import json\n",
    "\n",
    "file_list = glob.glob(os.path.join(\"data\",\"json\",\"*.json\"))\n",
    "\n",
    "competitions = list()\n",
    "for item in file_list:\n",
    "    with open(item, 'r') as fp:\n",
    "        competitions.append(json.load(fp))"
   ],
   "metadata": {
    "collapsed": false,
    "ExecuteTime": {
     "start_time": "2023-05-03T23:09:06.279936Z",
     "end_time": "2023-05-03T23:09:07.033760Z"
    }
   }
  },
  {
   "cell_type": "code",
   "execution_count": 40,
   "outputs": [
    {
     "data": {
      "text/plain": "40"
     },
     "execution_count": 40,
     "metadata": {},
     "output_type": "execute_result"
    }
   ],
   "source": [
    "len(competitions)"
   ],
   "metadata": {
    "collapsed": false,
    "ExecuteTime": {
     "start_time": "2023-05-03T23:09:07.037315Z",
     "end_time": "2023-05-03T23:09:07.050654Z"
    }
   }
  },
  {
   "cell_type": "code",
   "execution_count": 41,
   "outputs": [
    {
     "name": "stdout",
     "output_type": "stream",
     "text": [
      "No detailed scores for 11th Annual Snowtown Invitational: 51 Beginner-No Test-Pre-Prelim Character Performan\n",
      "No detailed scores for 11th Annual Snowtown Invitational: 52 Beginner-Pre-Juvenile Lyrical Pop\n",
      "No detailed scores for 11th Annual Snowtown Invitational: 53 Preliminary-Pre-Juvenile Character Performance\n",
      "No detailed scores for 11th Annual Snowtown Invitational: 54 Junior-Senior Character Performance\n",
      "No detailed scores for 2022 Crossroads FSC Spring-tacular Competition: Junior Men SP\n",
      "No detailed scores for 2022 Magnolia Open: Intermediate Ladies Excel -- 210\n",
      "No detailed scores for 2022 Magnolia Open: Pre-Preliminary Boys Excel -- 134\n",
      "No detailed scores for 2022 Magnolia Open: Senior Ladies Excel -- 213\n",
      "No detailed scores for 2022 North Shore Open: 137 Junior Men\n",
      "No detailed scores for 2022 North Shore Open: 154 Junior Men FS\n",
      "No detailed scores for 2023 Albert Viviani Memorial Competition Deborah B: 10 Adult Bronze Emotional Performance\n",
      "No detailed scores for 2023 Albert Viviani Memorial Competition Deborah B: 11 Adult Silver Emotional Performance\n",
      "No detailed scores for 2023 Albert Viviani Memorial Competition Deborah B: 13 Masters Emotional Performance\n",
      "No detailed scores for 2023 Albert Viviani Memorial Competition Deborah B: 16 Adult Silver Lyrical Pop\n",
      "No detailed scores for 2023 Albert Viviani Memorial Competition Deborah B: 17 Adult Gold Lyrical Pop\n",
      "No detailed scores for 2023 Albert Viviani Memorial Competition Deborah B: 19 Adult Bronze Character Performance\n",
      "No detailed scores for 2023 Albert Viviani Memorial Competition Deborah B: 20 Adult Silver Character Performance\n",
      "No detailed scores for 2023 Albert Viviani Memorial Competition Deborah B: 45 Preliminary Lyrical Pop\n",
      "No detailed scores for 2023 Albert Viviani Memorial Competition Deborah B: 46 Pre-Juvenile Lyrical Pop\n",
      "No detailed scores for 2023 Albert Viviani Memorial Competition Deborah B: 52 Beginner Character Performance\n",
      "No detailed scores for 2023 Albert Viviani Memorial Competition Deborah B: 53 High Beginner Character Performance\n",
      "No detailed scores for 2023 Albert Viviani Memorial Competition Deborah B: 54 Preliminary Character Performance\n",
      "No detailed scores for 2023 Albert Viviani Memorial Competition Deborah B: 55 Pre-Juvenile Character Performance\n",
      "No detailed scores for 2023 Albert Viviani Memorial Competition Deborah B: 56 Intermediate Character Performance\n",
      "No detailed scores for 2023 Albert Viviani Memorial Competition Deborah B: 60 Preliminary Emotional Performance\n",
      "No detailed scores for 2023 Albert Viviani Memorial Competition Deborah B: 61 Intermediate Emotional Performance\n",
      "No detailed scores for 2023 Cleveland Invitational Championships: 65 Pre-Juvenile Girls\n",
      "No detailed scores for 2023 Cleveland Invitational Championships: 66 Preliminary Singles\n",
      "No detailed scores for 2023 Cleveland Invitational Championships: 74 Juvenile Girls\n",
      "No detailed scores for 2023 Cleveland Invitational Championships: 75 Open Juvenile Women\n",
      "No detailed scores for 2023 Cleveland Invitational Championships: 76 Intermediate Women\n",
      "No detailed scores for 2023 Cleveland Invitational Championships: 77 Intermediate Women\n",
      "No detailed scores for 2023 Columbus Invitational: 105 Beginner Character Performance\n",
      "No detailed scores for 2023 Columbus Invitational: 106 High Beginner Character Performance\n",
      "No detailed scores for 2023 Columbus Invitational: 108 Pre-Preliminary Character Performance\n",
      "No detailed scores for 2023 Columbus Invitational: 109 Preliminary Character Performance\n",
      "No detailed scores for 2023 Columbus Invitational: 110 Senior Character Performance\n",
      "No detailed scores for 2023 Columbus Invitational: 111 Adult Bronze Character Performance\n",
      "No detailed scores for 2023 Columbus Invitational: 333 Intermediate Interpretive\n",
      "No detailed scores for 2023 Columbus Invitational: 334 Masters Interpretive\n",
      "No detailed scores for 2023 Columbus Invitational: 335 Beginner Lyrical Pop\n",
      "No detailed scores for 2023 Columbus Invitational: 336 Pre-Preliminary Lyrical Pop\n",
      "No detailed scores for 2023 Columbus Invitational: 338 Pre-Preliminary Emotional Performance\n",
      "No detailed scores for 2023 Columbus Invitational: 339 Preliminary Emotional Performance\n",
      "No detailed scores for 2023 Columbus Invitational: 340 Adult Gold Emotional Performance\n",
      "No detailed scores for 2023 Columbus Invitational: 341 Masters Duets\n",
      "No detailed scores for 2023 Columbus Invitational: 342 No Test Interpretive\n",
      "No detailed scores for 2023 Columbus Invitational: 343 Pre-Preliminary Interpretive\n",
      "No detailed scores for 2023 Columbus Invitational: 344 Preliminary Interpretive\n",
      "No detailed scores for 2023 Columbus Invitational: 345 Pre-Juvenile Interpretive\n",
      "No detailed scores for 2023 Denver Invitational: 130 Pre-Juvenile Girls Spins Challenge\n",
      "No detailed scores for 2023 Denver Invitational: 132 Juvenile-Open Juvenile Spins\n",
      "No detailed scores for 2023 Denver Invitational: 134 Intermediate Women Spins Challenge\n",
      "No detailed scores for 2023 Denver Invitational: 136 Novice Women Spins Challenge\n",
      "No detailed scores for 2023 Denver Invitational: 138 Pre-Preliminary Spins Grp A\n",
      "No detailed scores for 2023 Denver Invitational: 140 Pre-Preliminary Spins Grp B\n",
      "No detailed scores for 2023 Denver Invitational: 142 Pre-Preliminary Spins Grp C\n",
      "No detailed scores for 2023 Denver Invitational: 144 Preliminary Spins Grp A\n",
      "No detailed scores for 2023 Denver Invitational: 146 Preliminary Spins Grp B\n",
      "No detailed scores for 2023 Denver Invitational: 148 Preliminary Spins Grp C\n",
      "No detailed scores for 2023 Denver Invitational: 150 Pre-Juvenile Jumps\n",
      "No detailed scores for 2023 Denver Invitational: 152 Pre-Preliminary Girls Jumps Challenge Grp A\n",
      "No detailed scores for 2023 Denver Invitational: 154 Pre-Preliminary Girls Jumps Challenge Grp B\n",
      "No detailed scores for 2023 Denver Invitational: 156 Pre-Preliminary Boys Jumps Challenge\n",
      "No detailed scores for 2023 Denver Invitational: 158 Preliminary Girls Jumps Challenge Grp A\n",
      "No detailed scores for 2023 Denver Invitational: 162 No-Test Girls Jumps Challenge Grp B\n",
      "No detailed scores for 2023 Denver Invitational: 160 No-Test Girls Jumps Challenge Grp A\n",
      "No detailed scores for 2023 Denver Invitational: 163 Preliminary Girls Jumps Challenge Grp B\n",
      "No detailed scores for 2023 Denver Invitational: 164 Preliminary Boys Jumps Challenge\n",
      "No detailed scores for 2023 Denver Invitational: 165 Spins No Test\n",
      "No detailed scores for 2023 Denver Invitational: 182 Novice Women Jumps Challenge\n",
      "No detailed scores for 2023 Denver Invitational: 183 Junior Women Jumps Challenge\n",
      "No detailed scores for 2023 Denver Invitational: 184 Intermediate Women Jumps Challenge\n",
      "No detailed scores for 2023 Denver Invitational: 185 Jumps Juvenile-Open Juvenile\n",
      "No detailed scores for 2023 Denver Invitational: 186 Junior Women Spins Challenge\n",
      "No detailed scores for 2023 Denver Invitational: 198 Senior Pairs FS\n",
      "No detailed scores for 2023 Fort Collins Classic: 120 Beginner Girls Spins Challenge\n",
      "No detailed scores for 2023 Fort Collins Classic: 121 High Beginner Girls Spins Challenge\n",
      "No detailed scores for 2023 Fort Collins Classic: 122 No-Test Boys Spins Challenge\n",
      "No detailed scores for 2023 Fort Collins Classic: 123 Pre-Preliminary Girls Spins Challenge\n",
      "No detailed scores for 2023 Fort Collins Classic: 124 Preliminary Girls Spins Challenge\n",
      "No detailed scores for 2023 Fort Collins Classic: 125 Pre-Juvenile Girls Spins Challenge\n",
      "No detailed scores for 2023 Fort Collins Classic: 126 Juvenile Girls Spins Challenge\n",
      "No detailed scores for 2023 Fort Collins Classic: 127 Intermediate Women Spins Challenge\n",
      "No detailed scores for 2023 Fort Collins Classic: 128 Junior Women Spins Challenge\n",
      "No detailed scores for 2023 Fort Collins Classic: 139 Adult Silver Women Spins Challenge\n",
      "No detailed scores for 2023 Houston Invitational: 025 Junior Women\n",
      "No detailed scores for 2023 Louisville Skating Academy Spring Invitationa: Adult Silver Women FS\n",
      "No detailed scores for 2023 Louisville Skating Academy Spring Invitationa: Novice Women SP\n",
      "No detailed scores for 2023 Louisville Skating Academy Spring Invitationa: Pre-Juvenile Girls Jumps Challenge\n",
      "No detailed scores for 2023 North Atlantic Open: 68 Excel Junior Women Free Skate\n",
      "No detailed scores for 2023 North Star Spring Classic: 35 Junior Women FS\n",
      "No detailed scores for 2023 SEGL and Skate Nashville: 1138 Intermediate Comedic Impressions\n",
      "No detailed scores for 2023 SEGL and Skate Nashville: 2139 Young Adult Character Performance\n",
      "No detailed scores for 2023 SEGL and Skate Nashville: 2140 Adult Pre-Bronze Character Performance\n",
      "No detailed scores for 2023 SEGL and Skate Nashville: 2143 Intermediate Interpretive\n",
      "No detailed scores for 2023 SEGL and Skate Nashville: 2144 Junior Interpretive\n",
      "No detailed scores for 2023 Skate Austin Bluebonnet Open: 022 Juvenile Pairs FS\n",
      "No detailed scores for 2023 Spring Funtastics: 001  Preliminary Spins\n",
      "No detailed scores for 2023 Spring Funtastics: 002 Pre-Juvenile Spins\n",
      "No detailed scores for 2023 Spring Funtastics: 003 Juvenile-Open Juvenile Spins\n",
      "No detailed scores for 2023 Spring Funtastics: 004 Intermediate Spins\n",
      "No detailed scores for 2023 Spring Funtastics: 005 Pre-Juvenile Jumps\n",
      "No detailed scores for 2023 Spring Funtastics: 006 Juvenile-Open Juvenile Jumps\n",
      "No detailed scores for 2023 Spring Funtastics: 007 Intermediate Jumps\n",
      "No detailed scores for 2023 Spring Funtastics: 060 Masters Emotional Performance Exhibition\n",
      "No detailed scores for 2023 Spring Funtastics: 069 Junior Duets Exhibition\n",
      "No detailed scores for 2023 Spring Funtastics: 081 Novice Choreographic Artistry\n",
      "No detailed scores for 2023 Sugar Skate: 012 Beginner Emotional Performance\n",
      "No detailed scores for 2023 Westchester Classic: 44 Novice Men FS\n",
      "No detailed scores for 36th Annual Florida Open Figure Skating Championsh: 1113 Pre-Juvenile Boys Excel\n",
      "No detailed scores for 48th Annual Howard E. Van Camp Invitational: 110 Pre-Gold Shadow Dance\n",
      "No detailed scores for 48th Annual Howard E. Van Camp Invitational: 147 Junior Women\n",
      "No detailed scores for Alamo Skate 2023: 15 Beginner Character Performance\n",
      "No detailed scores for Alamo Skate 2023: 16 Pre-Juvenile Character Performance\n",
      "No detailed scores for Alamo Skate 2023: 17 Novice Character Performance\n",
      "No detailed scores for Alamo Skate 2023: 18 Novice Choreographic Artistry\n",
      "No detailed scores for Alamo Skate 2023: 40 Novice Emotional Performance\n",
      "No detailed scores for Alamo Skate 2023: 41 Pre-Juvenile Emotional Performance\n",
      "No detailed scores for Alamo Skate 2023: 42 Adult Bronze Emotional Performance\n",
      "No detailed scores for Alamo Skate 2023: 43 No Test Emotional Performance\n",
      "No detailed scores for Crossroads FSC Spring - tacular Competition 2023: Pre-Juvenile Plus Boys Excel  (21)\n",
      "No detailed scores for May Day Open and Compete USA: 252 Junior Men FS\n",
      "No detailed scores for May Day Open and Compete USA: 253 Senior Ladies FS\n",
      "No detailed scores for Morris Open: Juvenile Boys Excel (29)\n",
      "No detailed scores for Morris Open: Senior Ladies FS (44)\n",
      "No detailed scores for Omaha Winterfest 2023: 57 - Juvenile Girls SP\n",
      "No detailed scores for Westchester Classic: 110 Novice Men SP\n",
      "No detailed scores for Westchester Classic: 138 Novice Men FS\n"
     ]
    }
   ],
   "source": [
    "import pandas as pd\n",
    "df = pd.DataFrame({\n",
    "    'competition': [],\n",
    "    'event': [],\n",
    "    'rank': [],\n",
    "    'name': [],\n",
    "    'total_base_value': [],\n",
    "    'total_element_score': [],\n",
    "    'total_component_score': [],\n",
    "    'total_segment_score':[]\n",
    "})\n",
    "count = 0\n",
    "for competition in competitions:\n",
    "    for event in competition['event']:\n",
    "        try:\n",
    "            detailed_scores = event['detailed_scores']\n",
    "        except Exception as e:\n",
    "            print(f\"No detailed scores for {event['competition']}: {event['program']}\")\n",
    "        performances = detailed_scores['performances']\n",
    "        for performance in performances:\n",
    "            # print(performance['metadata'])\n",
    "            df_row = [event['competition'],\n",
    "                      performance['metadata']['program'],\n",
    "                      performance['metadata']['rank'],\n",
    "                      performance['metadata']['name'],\n",
    "                      performance['metadata']['total_base_value'],\n",
    "                      performance['metadata']['total_element_score'],\n",
    "                      performance['metadata']['total_component_score'],\n",
    "                      performance['metadata']['total_segment_score'],\n",
    "                      ]\n",
    "            # print(df_row)\n",
    "            df.loc[count] = df_row\n",
    "            count += 1"
   ],
   "metadata": {
    "collapsed": false,
    "ExecuteTime": {
     "start_time": "2023-05-03T23:09:07.055065Z",
     "end_time": "2023-05-03T23:09:27.702181Z"
    }
   }
  },
  {
   "cell_type": "code",
   "execution_count": 42,
   "outputs": [
    {
     "data": {
      "text/plain": "                            competition  \\\n2958  2023 Skate Austin Bluebonnet Open   \n2959  2023 Skate Austin Bluebonnet Open   \n2960  2023 Skate Austin Bluebonnet Open   \n2961  2023 Skate Austin Bluebonnet Open   \n2962  2023 Skate Austin Bluebonnet Open   \n...                                 ...   \n6293                        Morris Open   \n6294                        Morris Open   \n6295                        Morris Open   \n6296                        Morris Open   \n6297                        Morris Open   \n\n                                                  event  rank  \\\n2958          001 Intermediate Women SP / Short Program     1   \n2959          001 Intermediate Women SP / Short Program     2   \n2960          001 Intermediate Women SP / Short Program     3   \n2961          001 Intermediate Women SP / Short Program     4   \n2962          001 Intermediate Women SP / Short Program     5   \n...                                                 ...   ...   \n6293  Silver Solo Pattern Dance (SDS) (18-21) / P2 T...     2   \n6294  Silver Solo Pattern Dance (SDS) (18-21) / P2 T...     3   \n6295  Silver Solo Pattern Dance (SDS) (18-21) / P2 T...     4   \n6296  Silver Solo Pattern Dance (SDS) (18-21) / P2 T...     5   \n6297  Silver Solo Pattern Dance (SDS) (18-21) / P2 T...     6   \n\n                                     name  total_base_value  \\\n2958           Carol McKinnis, Dallas FSC             17.38   \n2959    Maria Sidorova, Oklahoma City FSC             13.68   \n2960  Lola Hagbo, Memorial FSC Of Houston             15.94   \n2961              Adelina Toy, Dallas FSC             12.86   \n2962        Kathy Xinyi Xi, SC of Houston             13.48   \n...                                   ...               ...   \n6293                      Milly Wasserman             10.00   \n6294                        Jacquelyn Lee             10.00   \n6295                          Taapti Rana             10.00   \n6296                          Ellie Stone             10.00   \n6297                        Michelle Chen             10.00   \n\n      total_element_score  total_component_score  total_segment_score  \n2958                17.07                  13.19                29.26  \n2959                12.81                  13.04                25.85  \n2960                13.93                  12.82                25.75  \n2961                11.58                  13.27                24.85  \n2962                11.89                  12.91                24.30  \n...                   ...                    ...                  ...  \n6293                11.25                  19.59                30.84  \n6294                11.50                  18.42                29.92  \n6295                10.75                  18.84                29.59  \n6296                10.75                  17.64                28.39  \n6297                 9.25                  14.81                24.06  \n\n[6621 rows x 8 columns]",
      "text/html": "<div>\n<style scoped>\n    .dataframe tbody tr th:only-of-type {\n        vertical-align: middle;\n    }\n\n    .dataframe tbody tr th {\n        vertical-align: top;\n    }\n\n    .dataframe thead th {\n        text-align: right;\n    }\n</style>\n<table border=\"1\" class=\"dataframe\">\n  <thead>\n    <tr style=\"text-align: right;\">\n      <th></th>\n      <th>competition</th>\n      <th>event</th>\n      <th>rank</th>\n      <th>name</th>\n      <th>total_base_value</th>\n      <th>total_element_score</th>\n      <th>total_component_score</th>\n      <th>total_segment_score</th>\n    </tr>\n  </thead>\n  <tbody>\n    <tr>\n      <th>2958</th>\n      <td>2023 Skate Austin Bluebonnet Open</td>\n      <td>001 Intermediate Women SP / Short Program</td>\n      <td>1</td>\n      <td>Carol McKinnis, Dallas FSC</td>\n      <td>17.38</td>\n      <td>17.07</td>\n      <td>13.19</td>\n      <td>29.26</td>\n    </tr>\n    <tr>\n      <th>2959</th>\n      <td>2023 Skate Austin Bluebonnet Open</td>\n      <td>001 Intermediate Women SP / Short Program</td>\n      <td>2</td>\n      <td>Maria Sidorova, Oklahoma City FSC</td>\n      <td>13.68</td>\n      <td>12.81</td>\n      <td>13.04</td>\n      <td>25.85</td>\n    </tr>\n    <tr>\n      <th>2960</th>\n      <td>2023 Skate Austin Bluebonnet Open</td>\n      <td>001 Intermediate Women SP / Short Program</td>\n      <td>3</td>\n      <td>Lola Hagbo, Memorial FSC Of Houston</td>\n      <td>15.94</td>\n      <td>13.93</td>\n      <td>12.82</td>\n      <td>25.75</td>\n    </tr>\n    <tr>\n      <th>2961</th>\n      <td>2023 Skate Austin Bluebonnet Open</td>\n      <td>001 Intermediate Women SP / Short Program</td>\n      <td>4</td>\n      <td>Adelina Toy, Dallas FSC</td>\n      <td>12.86</td>\n      <td>11.58</td>\n      <td>13.27</td>\n      <td>24.85</td>\n    </tr>\n    <tr>\n      <th>2962</th>\n      <td>2023 Skate Austin Bluebonnet Open</td>\n      <td>001 Intermediate Women SP / Short Program</td>\n      <td>5</td>\n      <td>Kathy Xinyi Xi, SC of Houston</td>\n      <td>13.48</td>\n      <td>11.89</td>\n      <td>12.91</td>\n      <td>24.30</td>\n    </tr>\n    <tr>\n      <th>...</th>\n      <td>...</td>\n      <td>...</td>\n      <td>...</td>\n      <td>...</td>\n      <td>...</td>\n      <td>...</td>\n      <td>...</td>\n      <td>...</td>\n    </tr>\n    <tr>\n      <th>6293</th>\n      <td>Morris Open</td>\n      <td>Silver Solo Pattern Dance (SDS) (18-21) / P2 T...</td>\n      <td>2</td>\n      <td>Milly Wasserman</td>\n      <td>10.00</td>\n      <td>11.25</td>\n      <td>19.59</td>\n      <td>30.84</td>\n    </tr>\n    <tr>\n      <th>6294</th>\n      <td>Morris Open</td>\n      <td>Silver Solo Pattern Dance (SDS) (18-21) / P2 T...</td>\n      <td>3</td>\n      <td>Jacquelyn Lee</td>\n      <td>10.00</td>\n      <td>11.50</td>\n      <td>18.42</td>\n      <td>29.92</td>\n    </tr>\n    <tr>\n      <th>6295</th>\n      <td>Morris Open</td>\n      <td>Silver Solo Pattern Dance (SDS) (18-21) / P2 T...</td>\n      <td>4</td>\n      <td>Taapti Rana</td>\n      <td>10.00</td>\n      <td>10.75</td>\n      <td>18.84</td>\n      <td>29.59</td>\n    </tr>\n    <tr>\n      <th>6296</th>\n      <td>Morris Open</td>\n      <td>Silver Solo Pattern Dance (SDS) (18-21) / P2 T...</td>\n      <td>5</td>\n      <td>Ellie Stone</td>\n      <td>10.00</td>\n      <td>10.75</td>\n      <td>17.64</td>\n      <td>28.39</td>\n    </tr>\n    <tr>\n      <th>6297</th>\n      <td>Morris Open</td>\n      <td>Silver Solo Pattern Dance (SDS) (18-21) / P2 T...</td>\n      <td>6</td>\n      <td>Michelle Chen</td>\n      <td>10.00</td>\n      <td>9.25</td>\n      <td>14.81</td>\n      <td>24.06</td>\n    </tr>\n  </tbody>\n</table>\n<p>6621 rows × 8 columns</p>\n</div>"
     },
     "execution_count": 42,
     "metadata": {},
     "output_type": "execute_result"
    }
   ],
   "source": [
    "df_sorted = df.sort_values(by=['event','rank'])\n",
    "df_sorted"
   ],
   "metadata": {
    "collapsed": false,
    "ExecuteTime": {
     "start_time": "2023-05-03T23:09:27.711187Z",
     "end_time": "2023-05-03T23:09:27.773274Z"
    }
   }
  },
  {
   "cell_type": "code",
   "execution_count": 50,
   "outputs": [
    {
     "data": {
      "text/plain": "            competition                                              event  \\\n220  2022 Colonial Open  216 Preliminary Plus Girls Excel Grp A / Free ...   \n221  2022 Colonial Open  216 Preliminary Plus Girls Excel Grp A / Free ...   \n222  2022 Colonial Open  216 Preliminary Plus Girls Excel Grp A / Free ...   \n223  2022 Colonial Open  216 Preliminary Plus Girls Excel Grp A / Free ...   \n224  2022 Colonial Open  216 Preliminary Plus Girls Excel Grp A / Free ...   \n225  2022 Colonial Open  216 Preliminary Plus Girls Excel Grp A / Free ...   \n226  2022 Colonial Open  217 Preliminary Plus Girls Excel Grp B / Free ...   \n227  2022 Colonial Open  217 Preliminary Plus Girls Excel Grp B / Free ...   \n228  2022 Colonial Open  217 Preliminary Plus Girls Excel Grp B / Free ...   \n229  2022 Colonial Open  217 Preliminary Plus Girls Excel Grp B / Free ...   \n230  2022 Colonial Open  217 Preliminary Plus Girls Excel Grp B / Free ...   \n231  2022 Colonial Open  217 Preliminary Plus Girls Excel Grp B / Free ...   \n232  2022 Colonial Open       218 Preliminary Plus Boys Excel / Free Skate   \n\n     rank                                           name  total_base_value  \\\n220     1                   Eloise Woolf, SC of New York             10.30   \n221     2                     Mallory Lee, Gate City FSC             10.50   \n222     3                 Audrey Fortunato, Colonial FSC              9.16   \n223     4                  Madelyn Carella, SC of Boston              9.18   \n224     5                   Alice Marcotte, Colonial FSC             10.00   \n225     6                  Micca Mikhaylov, SC of Boston              9.78   \n226     1                     Alyssa Chan, Gate City FSC             10.18   \n227     2  Sophie Fernandez, Connecticut Skating Academy              9.41   \n228     3   Sophie Kopetsky, Connecticut Skating Academy              9.70   \n229     4                  Kelsey Cochran, Gate City FSC              8.76   \n230     5     Sabrina Halle, Connecticut Skating Academy              9.03   \n231     6                Adriana Formica, SC of New York              6.98   \n232     1                 Torin Fambrough, Elite Edge SC              9.58   \n\n     total_element_score  total_component_score  total_segment_score  \n220                 9.91                  10.81                20.72  \n221                10.11                   9.31                19.42  \n222                 8.78                  11.06                19.34  \n223                 8.90                  10.64                19.04  \n224                 9.60                   9.32                18.92  \n225                 9.02                   8.57                17.59  \n226                10.27                  10.64                20.91  \n227                 8.92                  10.52                19.44  \n228                 8.94                   9.62                18.06  \n229                 7.95                   9.14                17.09  \n230                 8.15                   8.22                16.37  \n231                 5.67                   6.84                12.51  \n232                 9.50                   8.24                17.74  ",
      "text/html": "<div>\n<style scoped>\n    .dataframe tbody tr th:only-of-type {\n        vertical-align: middle;\n    }\n\n    .dataframe tbody tr th {\n        vertical-align: top;\n    }\n\n    .dataframe thead th {\n        text-align: right;\n    }\n</style>\n<table border=\"1\" class=\"dataframe\">\n  <thead>\n    <tr style=\"text-align: right;\">\n      <th></th>\n      <th>competition</th>\n      <th>event</th>\n      <th>rank</th>\n      <th>name</th>\n      <th>total_base_value</th>\n      <th>total_element_score</th>\n      <th>total_component_score</th>\n      <th>total_segment_score</th>\n    </tr>\n  </thead>\n  <tbody>\n    <tr>\n      <th>220</th>\n      <td>2022 Colonial Open</td>\n      <td>216 Preliminary Plus Girls Excel Grp A / Free ...</td>\n      <td>1</td>\n      <td>Eloise Woolf, SC of New York</td>\n      <td>10.30</td>\n      <td>9.91</td>\n      <td>10.81</td>\n      <td>20.72</td>\n    </tr>\n    <tr>\n      <th>221</th>\n      <td>2022 Colonial Open</td>\n      <td>216 Preliminary Plus Girls Excel Grp A / Free ...</td>\n      <td>2</td>\n      <td>Mallory Lee, Gate City FSC</td>\n      <td>10.50</td>\n      <td>10.11</td>\n      <td>9.31</td>\n      <td>19.42</td>\n    </tr>\n    <tr>\n      <th>222</th>\n      <td>2022 Colonial Open</td>\n      <td>216 Preliminary Plus Girls Excel Grp A / Free ...</td>\n      <td>3</td>\n      <td>Audrey Fortunato, Colonial FSC</td>\n      <td>9.16</td>\n      <td>8.78</td>\n      <td>11.06</td>\n      <td>19.34</td>\n    </tr>\n    <tr>\n      <th>223</th>\n      <td>2022 Colonial Open</td>\n      <td>216 Preliminary Plus Girls Excel Grp A / Free ...</td>\n      <td>4</td>\n      <td>Madelyn Carella, SC of Boston</td>\n      <td>9.18</td>\n      <td>8.90</td>\n      <td>10.64</td>\n      <td>19.04</td>\n    </tr>\n    <tr>\n      <th>224</th>\n      <td>2022 Colonial Open</td>\n      <td>216 Preliminary Plus Girls Excel Grp A / Free ...</td>\n      <td>5</td>\n      <td>Alice Marcotte, Colonial FSC</td>\n      <td>10.00</td>\n      <td>9.60</td>\n      <td>9.32</td>\n      <td>18.92</td>\n    </tr>\n    <tr>\n      <th>225</th>\n      <td>2022 Colonial Open</td>\n      <td>216 Preliminary Plus Girls Excel Grp A / Free ...</td>\n      <td>6</td>\n      <td>Micca Mikhaylov, SC of Boston</td>\n      <td>9.78</td>\n      <td>9.02</td>\n      <td>8.57</td>\n      <td>17.59</td>\n    </tr>\n    <tr>\n      <th>226</th>\n      <td>2022 Colonial Open</td>\n      <td>217 Preliminary Plus Girls Excel Grp B / Free ...</td>\n      <td>1</td>\n      <td>Alyssa Chan, Gate City FSC</td>\n      <td>10.18</td>\n      <td>10.27</td>\n      <td>10.64</td>\n      <td>20.91</td>\n    </tr>\n    <tr>\n      <th>227</th>\n      <td>2022 Colonial Open</td>\n      <td>217 Preliminary Plus Girls Excel Grp B / Free ...</td>\n      <td>2</td>\n      <td>Sophie Fernandez, Connecticut Skating Academy</td>\n      <td>9.41</td>\n      <td>8.92</td>\n      <td>10.52</td>\n      <td>19.44</td>\n    </tr>\n    <tr>\n      <th>228</th>\n      <td>2022 Colonial Open</td>\n      <td>217 Preliminary Plus Girls Excel Grp B / Free ...</td>\n      <td>3</td>\n      <td>Sophie Kopetsky, Connecticut Skating Academy</td>\n      <td>9.70</td>\n      <td>8.94</td>\n      <td>9.62</td>\n      <td>18.06</td>\n    </tr>\n    <tr>\n      <th>229</th>\n      <td>2022 Colonial Open</td>\n      <td>217 Preliminary Plus Girls Excel Grp B / Free ...</td>\n      <td>4</td>\n      <td>Kelsey Cochran, Gate City FSC</td>\n      <td>8.76</td>\n      <td>7.95</td>\n      <td>9.14</td>\n      <td>17.09</td>\n    </tr>\n    <tr>\n      <th>230</th>\n      <td>2022 Colonial Open</td>\n      <td>217 Preliminary Plus Girls Excel Grp B / Free ...</td>\n      <td>5</td>\n      <td>Sabrina Halle, Connecticut Skating Academy</td>\n      <td>9.03</td>\n      <td>8.15</td>\n      <td>8.22</td>\n      <td>16.37</td>\n    </tr>\n    <tr>\n      <th>231</th>\n      <td>2022 Colonial Open</td>\n      <td>217 Preliminary Plus Girls Excel Grp B / Free ...</td>\n      <td>6</td>\n      <td>Adriana Formica, SC of New York</td>\n      <td>6.98</td>\n      <td>5.67</td>\n      <td>6.84</td>\n      <td>12.51</td>\n    </tr>\n    <tr>\n      <th>232</th>\n      <td>2022 Colonial Open</td>\n      <td>218 Preliminary Plus Boys Excel / Free Skate</td>\n      <td>1</td>\n      <td>Torin Fambrough, Elite Edge SC</td>\n      <td>9.58</td>\n      <td>9.50</td>\n      <td>8.24</td>\n      <td>17.74</td>\n    </tr>\n  </tbody>\n</table>\n</div>"
     },
     "execution_count": 50,
     "metadata": {},
     "output_type": "execute_result"
    }
   ],
   "source": [
    "df_competition = df_sorted[df_sorted['competition'].str.contains('Colonial')]\n",
    "event_watched = df_competition[df_competition['event'].str.contains('Preliminary Plus')]\n",
    "event_watched"
   ],
   "metadata": {
    "collapsed": false,
    "ExecuteTime": {
     "start_time": "2023-05-03T23:10:21.011266Z",
     "end_time": "2023-05-03T23:10:21.045692Z"
    }
   }
  },
  {
   "cell_type": "code",
   "execution_count": 44,
   "outputs": [
    {
     "data": {
      "text/plain": "      top3  rest_of_field\n0    12.24          12.46\n1     7.97          12.36\n2    14.11          11.42\n3    13.82          10.22\n4    12.33           9.05\n..     ...            ...\n154    NaN          20.14\n155    NaN          16.16\n156    NaN          26.79\n157    NaN          20.52\n158    NaN          24.83\n\n[159 rows x 2 columns]",
      "text/html": "<div>\n<style scoped>\n    .dataframe tbody tr th:only-of-type {\n        vertical-align: middle;\n    }\n\n    .dataframe tbody tr th {\n        vertical-align: top;\n    }\n\n    .dataframe thead th {\n        text-align: right;\n    }\n</style>\n<table border=\"1\" class=\"dataframe\">\n  <thead>\n    <tr style=\"text-align: right;\">\n      <th></th>\n      <th>top3</th>\n      <th>rest_of_field</th>\n    </tr>\n  </thead>\n  <tbody>\n    <tr>\n      <th>0</th>\n      <td>12.24</td>\n      <td>12.46</td>\n    </tr>\n    <tr>\n      <th>1</th>\n      <td>7.97</td>\n      <td>12.36</td>\n    </tr>\n    <tr>\n      <th>2</th>\n      <td>14.11</td>\n      <td>11.42</td>\n    </tr>\n    <tr>\n      <th>3</th>\n      <td>13.82</td>\n      <td>10.22</td>\n    </tr>\n    <tr>\n      <th>4</th>\n      <td>12.33</td>\n      <td>9.05</td>\n    </tr>\n    <tr>\n      <th>...</th>\n      <td>...</td>\n      <td>...</td>\n    </tr>\n    <tr>\n      <th>154</th>\n      <td>NaN</td>\n      <td>20.14</td>\n    </tr>\n    <tr>\n      <th>155</th>\n      <td>NaN</td>\n      <td>16.16</td>\n    </tr>\n    <tr>\n      <th>156</th>\n      <td>NaN</td>\n      <td>26.79</td>\n    </tr>\n    <tr>\n      <th>157</th>\n      <td>NaN</td>\n      <td>20.52</td>\n    </tr>\n    <tr>\n      <th>158</th>\n      <td>NaN</td>\n      <td>24.83</td>\n    </tr>\n  </tbody>\n</table>\n<p>159 rows × 2 columns</p>\n</div>"
     },
     "execution_count": 44,
     "metadata": {},
     "output_type": "execute_result"
    }
   ],
   "source": [
    "import itertools\n",
    "plot_df_lt3 = event_watched[event_watched['rank']<=3]\n",
    "plot_df_gt3 = event_watched[event_watched['rank']>3]\n",
    "list_lt3 = list(plot_df_lt3['total_base_value'])\n",
    "list_gt3 = list(plot_df_gt3['total_base_value'])\n",
    "\n",
    "# plot_df = pd.DataFrame((e for e in itertools.zip_longest(list_lt3,list_gt3)),columns=['top3','rest_of_field'])\n",
    "plot_df = pd.DataFrame((e for e in itertools.zip_longest(list_lt3,list_gt3)),columns=['top3','rest_of_field'])\n",
    "plot_df"
   ],
   "metadata": {
    "collapsed": false,
    "ExecuteTime": {
     "start_time": "2023-05-03T23:09:27.834402Z",
     "end_time": "2023-05-03T23:09:27.993500Z"
    }
   }
  },
  {
   "cell_type": "code",
   "execution_count": 45,
   "outputs": [
    {
     "data": {
      "application/vnd.plotly.v1+json": {
       "data": [
        {
         "hovertemplate": "variable=top3<br>index=%{x}<br>value=%{y}<extra></extra>",
         "legendgroup": "top3",
         "line": {
          "color": "#636efa",
          "dash": "solid"
         },
         "marker": {
          "symbol": "circle"
         },
         "mode": "lines",
         "name": "top3",
         "orientation": "v",
         "showlegend": true,
         "x": [
          0,
          1,
          2,
          3,
          4,
          5,
          6,
          7,
          8,
          9,
          10,
          11,
          12,
          13,
          14,
          15,
          16,
          17,
          18,
          19,
          20,
          21,
          22,
          23,
          24,
          25,
          26,
          27,
          28,
          29,
          30,
          31,
          32,
          33,
          34,
          35,
          36,
          37,
          38,
          39,
          40,
          41,
          42,
          43,
          44,
          45,
          46,
          47,
          48,
          49,
          50,
          51,
          52,
          53,
          54,
          55,
          56,
          57,
          58,
          59,
          60,
          61,
          62,
          63,
          64,
          65,
          66,
          67,
          68,
          69,
          70,
          71,
          72,
          73,
          74,
          75,
          76,
          77,
          78,
          79,
          80,
          81,
          82,
          83,
          84,
          85,
          86,
          87,
          88,
          89,
          90,
          91,
          92,
          93,
          94,
          95,
          96,
          97,
          98,
          99,
          100,
          101,
          102,
          103,
          104,
          105,
          106,
          107,
          108,
          109,
          110,
          111,
          112,
          113,
          114,
          115,
          116,
          117,
          118,
          119,
          120,
          121,
          122,
          123,
          124,
          125,
          126,
          127,
          128,
          129,
          130,
          131,
          132,
          133,
          134,
          135,
          136,
          137,
          138,
          139,
          140,
          141,
          142,
          143,
          144,
          145,
          146,
          147,
          148,
          149,
          150,
          151,
          152,
          153,
          154,
          155,
          156,
          157,
          158
         ],
         "xaxis": "x",
         "y": [
          12.24,
          7.97,
          14.11,
          13.82,
          12.33,
          18.75,
          21.66,
          22.62,
          15.48,
          15.8,
          13.58,
          14.76,
          14.2,
          15.14,
          14.9,
          14.9,
          14.4,
          20.5,
          12.84,
          9.68,
          18.9,
          20.5,
          18.3,
          23.5,
          19.8,
          18.76,
          21.1,
          20.25,
          18.57,
          21.12,
          17.93,
          19.89,
          29.12,
          23.33,
          28.4,
          10.3,
          10.5,
          9.16,
          10.18,
          9.41,
          9.7,
          9.58,
          10.3,
          12.54,
          8.44,
          23.68,
          22.54,
          19.48,
          29.01,
          25.6,
          24.31,
          48.63,
          46.95,
          35.35,
          50.83,
          40.4,
          40.82,
          28.35,
          20.78,
          19.71,
          27.72,
          20.14,
          21.21,
          51.23,
          37.52,
          13.8,
          12.1,
          10.98,
          10.7,
          10.0,
          11.34,
          12.2,
          11.3,
          11.7,
          11.82,
          10.35,
          10.36,
          9.26,
          8.31,
          7.3,
          13.03,
          12.61,
          11.83,
          39.95,
          27.43,
          32.93,
          49.1,
          37.76,
          39.96,
          18.12,
          20.02,
          18.9,
          20.38,
          22.65,
          21.41,
          29.24,
          30.78,
          22.84,
          null,
          null,
          null,
          null,
          null,
          null,
          null,
          null,
          null,
          null,
          null,
          null,
          null,
          null,
          null,
          null,
          null,
          null,
          null,
          null,
          null,
          null,
          null,
          null,
          null,
          null,
          null,
          null,
          null,
          null,
          null,
          null,
          null,
          null,
          null,
          null,
          null,
          null,
          null,
          null,
          null,
          null,
          null,
          null,
          null,
          null,
          null,
          null,
          null,
          null,
          null,
          null,
          null,
          null,
          null,
          null,
          null,
          null,
          null,
          null,
          null
         ],
         "yaxis": "y",
         "type": "scatter",
         "uid": "13b5c4b8-0ece-4683-9973-33e311288d9a"
        },
        {
         "hovertemplate": "variable=rest_of_field<br>index=%{x}<br>value=%{y}<extra></extra>",
         "legendgroup": "rest_of_field",
         "line": {
          "color": "#EF553B",
          "dash": "solid"
         },
         "marker": {
          "symbol": "circle"
         },
         "mode": "lines",
         "name": "rest_of_field",
         "orientation": "v",
         "showlegend": true,
         "x": [
          0,
          1,
          2,
          3,
          4,
          5,
          6,
          7,
          8,
          9,
          10,
          11,
          12,
          13,
          14,
          15,
          16,
          17,
          18,
          19,
          20,
          21,
          22,
          23,
          24,
          25,
          26,
          27,
          28,
          29,
          30,
          31,
          32,
          33,
          34,
          35,
          36,
          37,
          38,
          39,
          40,
          41,
          42,
          43,
          44,
          45,
          46,
          47,
          48,
          49,
          50,
          51,
          52,
          53,
          54,
          55,
          56,
          57,
          58,
          59,
          60,
          61,
          62,
          63,
          64,
          65,
          66,
          67,
          68,
          69,
          70,
          71,
          72,
          73,
          74,
          75,
          76,
          77,
          78,
          79,
          80,
          81,
          82,
          83,
          84,
          85,
          86,
          87,
          88,
          89,
          90,
          91,
          92,
          93,
          94,
          95,
          96,
          97,
          98,
          99,
          100,
          101,
          102,
          103,
          104,
          105,
          106,
          107,
          108,
          109,
          110,
          111,
          112,
          113,
          114,
          115,
          116,
          117,
          118,
          119,
          120,
          121,
          122,
          123,
          124,
          125,
          126,
          127,
          128,
          129,
          130,
          131,
          132,
          133,
          134,
          135,
          136,
          137,
          138,
          139,
          140,
          141,
          142,
          143,
          144,
          145,
          146,
          147,
          148,
          149,
          150,
          151,
          152,
          153,
          154,
          155,
          156,
          157,
          158
         ],
         "xaxis": "x",
         "y": [
          12.46,
          12.36,
          11.42,
          10.22,
          9.05,
          9.57,
          7.34,
          18.57,
          17.83,
          18.83,
          19.26,
          19.47,
          16.65,
          15.19,
          17.26,
          16.88,
          18.15,
          16.27,
          14.98,
          13.05,
          11.05,
          13.62,
          12.44,
          11.16,
          14.9,
          14.9,
          13.14,
          13.34,
          13.68,
          13.6,
          11.65,
          8.9,
          9.68,
          14.9,
          11.86,
          12.28,
          10.58,
          10.78,
          11.9,
          10.44,
          9.58,
          11.08,
          6.5,
          16.8,
          19.86,
          19.7,
          14.0,
          16.2,
          14.0,
          11.78,
          11.4,
          11.42,
          12.5,
          11.36,
          10.5,
          9.16,
          16.3,
          16.1,
          15.93,
          15.41,
          16.04,
          21.52,
          9.18,
          10.0,
          9.78,
          8.76,
          9.03,
          6.98,
          17.38,
          17.64,
          16.33,
          14.75,
          13.66,
          25.31,
          22.47,
          24.54,
          20.65,
          20.28,
          15.03,
          19.13,
          17.74,
          15.99,
          15.84,
          17.75,
          10.57,
          34.19,
          36.83,
          27.84,
          24.36,
          21.34,
          16.98,
          19.19,
          18.82,
          14.68,
          16.37,
          16.05,
          14.95,
          14.22,
          14.06,
          12.79,
          20.2,
          12.5,
          11.7,
          11.16,
          10.48,
          9.28,
          9.36,
          11.2,
          11.14,
          11.62,
          10.51,
          11.88,
          10.7,
          9.98,
          9.44,
          8.35,
          8.47,
          7.45,
          7.53,
          7.48,
          7.88,
          11.84,
          11.5,
          13.25,
          12.7,
          13.18,
          12.05,
          9.39,
          10.9,
          12.12,
          11.93,
          9.63,
          12.2,
          12.19,
          8.56,
          27.95,
          25.01,
          21.02,
          22.35,
          17.36,
          16.35,
          16.04,
          14.7,
          12.22,
          14.33,
          12.72,
          12.9,
          13.77,
          13.8,
          13.09,
          12.6,
          14.29,
          10.2,
          17.99,
          20.14,
          16.16,
          26.79,
          20.52,
          24.83
         ],
         "yaxis": "y",
         "type": "scatter",
         "uid": "e7cf3c2e-531c-43ef-8f0d-aa1c6d59b0c6"
        }
       ],
       "layout": {
        "legend": {
         "title": {
          "text": "variable"
         },
         "tracegroupgap": 0
        },
        "template": {
         "data": {
          "barpolar": [
           {
            "marker": {
             "line": {
              "color": "rgb(17,17,17)",
              "width": 0.5
             },
             "pattern": {
              "fillmode": "overlay",
              "size": 10,
              "solidity": 0.2
             }
            },
            "type": "barpolar"
           }
          ],
          "bar": [
           {
            "error_x": {
             "color": "#f2f5fa"
            },
            "error_y": {
             "color": "#f2f5fa"
            },
            "marker": {
             "line": {
              "color": "rgb(17,17,17)",
              "width": 0.5
             },
             "pattern": {
              "fillmode": "overlay",
              "size": 10,
              "solidity": 0.2
             }
            },
            "type": "bar"
           }
          ],
          "carpet": [
           {
            "aaxis": {
             "endlinecolor": "#A2B1C6",
             "gridcolor": "#506784",
             "linecolor": "#506784",
             "minorgridcolor": "#506784",
             "startlinecolor": "#A2B1C6"
            },
            "baxis": {
             "endlinecolor": "#A2B1C6",
             "gridcolor": "#506784",
             "linecolor": "#506784",
             "minorgridcolor": "#506784",
             "startlinecolor": "#A2B1C6"
            },
            "type": "carpet"
           }
          ],
          "choropleth": [
           {
            "colorbar": {
             "outlinewidth": 0,
             "ticks": ""
            },
            "type": "choropleth"
           }
          ],
          "contourcarpet": [
           {
            "colorbar": {
             "outlinewidth": 0,
             "ticks": ""
            },
            "type": "contourcarpet"
           }
          ],
          "contour": [
           {
            "colorbar": {
             "outlinewidth": 0,
             "ticks": ""
            },
            "colorscale": [
             [
              0.0,
              "#0d0887"
             ],
             [
              0.1111111111111111,
              "#46039f"
             ],
             [
              0.2222222222222222,
              "#7201a8"
             ],
             [
              0.3333333333333333,
              "#9c179e"
             ],
             [
              0.4444444444444444,
              "#bd3786"
             ],
             [
              0.5555555555555556,
              "#d8576b"
             ],
             [
              0.6666666666666666,
              "#ed7953"
             ],
             [
              0.7777777777777778,
              "#fb9f3a"
             ],
             [
              0.8888888888888888,
              "#fdca26"
             ],
             [
              1.0,
              "#f0f921"
             ]
            ],
            "type": "contour"
           }
          ],
          "heatmapgl": [
           {
            "colorbar": {
             "outlinewidth": 0,
             "ticks": ""
            },
            "colorscale": [
             [
              0.0,
              "#0d0887"
             ],
             [
              0.1111111111111111,
              "#46039f"
             ],
             [
              0.2222222222222222,
              "#7201a8"
             ],
             [
              0.3333333333333333,
              "#9c179e"
             ],
             [
              0.4444444444444444,
              "#bd3786"
             ],
             [
              0.5555555555555556,
              "#d8576b"
             ],
             [
              0.6666666666666666,
              "#ed7953"
             ],
             [
              0.7777777777777778,
              "#fb9f3a"
             ],
             [
              0.8888888888888888,
              "#fdca26"
             ],
             [
              1.0,
              "#f0f921"
             ]
            ],
            "type": "heatmapgl"
           }
          ],
          "heatmap": [
           {
            "colorbar": {
             "outlinewidth": 0,
             "ticks": ""
            },
            "colorscale": [
             [
              0.0,
              "#0d0887"
             ],
             [
              0.1111111111111111,
              "#46039f"
             ],
             [
              0.2222222222222222,
              "#7201a8"
             ],
             [
              0.3333333333333333,
              "#9c179e"
             ],
             [
              0.4444444444444444,
              "#bd3786"
             ],
             [
              0.5555555555555556,
              "#d8576b"
             ],
             [
              0.6666666666666666,
              "#ed7953"
             ],
             [
              0.7777777777777778,
              "#fb9f3a"
             ],
             [
              0.8888888888888888,
              "#fdca26"
             ],
             [
              1.0,
              "#f0f921"
             ]
            ],
            "type": "heatmap"
           }
          ],
          "histogram2dcontour": [
           {
            "colorbar": {
             "outlinewidth": 0,
             "ticks": ""
            },
            "colorscale": [
             [
              0.0,
              "#0d0887"
             ],
             [
              0.1111111111111111,
              "#46039f"
             ],
             [
              0.2222222222222222,
              "#7201a8"
             ],
             [
              0.3333333333333333,
              "#9c179e"
             ],
             [
              0.4444444444444444,
              "#bd3786"
             ],
             [
              0.5555555555555556,
              "#d8576b"
             ],
             [
              0.6666666666666666,
              "#ed7953"
             ],
             [
              0.7777777777777778,
              "#fb9f3a"
             ],
             [
              0.8888888888888888,
              "#fdca26"
             ],
             [
              1.0,
              "#f0f921"
             ]
            ],
            "type": "histogram2dcontour"
           }
          ],
          "histogram2d": [
           {
            "colorbar": {
             "outlinewidth": 0,
             "ticks": ""
            },
            "colorscale": [
             [
              0.0,
              "#0d0887"
             ],
             [
              0.1111111111111111,
              "#46039f"
             ],
             [
              0.2222222222222222,
              "#7201a8"
             ],
             [
              0.3333333333333333,
              "#9c179e"
             ],
             [
              0.4444444444444444,
              "#bd3786"
             ],
             [
              0.5555555555555556,
              "#d8576b"
             ],
             [
              0.6666666666666666,
              "#ed7953"
             ],
             [
              0.7777777777777778,
              "#fb9f3a"
             ],
             [
              0.8888888888888888,
              "#fdca26"
             ],
             [
              1.0,
              "#f0f921"
             ]
            ],
            "type": "histogram2d"
           }
          ],
          "histogram": [
           {
            "marker": {
             "pattern": {
              "fillmode": "overlay",
              "size": 10,
              "solidity": 0.2
             }
            },
            "type": "histogram"
           }
          ],
          "mesh3d": [
           {
            "colorbar": {
             "outlinewidth": 0,
             "ticks": ""
            },
            "type": "mesh3d"
           }
          ],
          "parcoords": [
           {
            "line": {
             "colorbar": {
              "outlinewidth": 0,
              "ticks": ""
             }
            },
            "type": "parcoords"
           }
          ],
          "pie": [
           {
            "automargin": true,
            "type": "pie"
           }
          ],
          "scatter3d": [
           {
            "line": {
             "colorbar": {
              "outlinewidth": 0,
              "ticks": ""
             }
            },
            "marker": {
             "colorbar": {
              "outlinewidth": 0,
              "ticks": ""
             }
            },
            "type": "scatter3d"
           }
          ],
          "scattercarpet": [
           {
            "marker": {
             "colorbar": {
              "outlinewidth": 0,
              "ticks": ""
             }
            },
            "type": "scattercarpet"
           }
          ],
          "scattergeo": [
           {
            "marker": {
             "colorbar": {
              "outlinewidth": 0,
              "ticks": ""
             }
            },
            "type": "scattergeo"
           }
          ],
          "scattergl": [
           {
            "marker": {
             "line": {
              "color": "#283442"
             }
            },
            "type": "scattergl"
           }
          ],
          "scattermapbox": [
           {
            "marker": {
             "colorbar": {
              "outlinewidth": 0,
              "ticks": ""
             }
            },
            "type": "scattermapbox"
           }
          ],
          "scatterpolargl": [
           {
            "marker": {
             "colorbar": {
              "outlinewidth": 0,
              "ticks": ""
             }
            },
            "type": "scatterpolargl"
           }
          ],
          "scatterpolar": [
           {
            "marker": {
             "colorbar": {
              "outlinewidth": 0,
              "ticks": ""
             }
            },
            "type": "scatterpolar"
           }
          ],
          "scatter": [
           {
            "marker": {
             "line": {
              "color": "#283442"
             }
            },
            "type": "scatter"
           }
          ],
          "scatterternary": [
           {
            "marker": {
             "colorbar": {
              "outlinewidth": 0,
              "ticks": ""
             }
            },
            "type": "scatterternary"
           }
          ],
          "surface": [
           {
            "colorbar": {
             "outlinewidth": 0,
             "ticks": ""
            },
            "colorscale": [
             [
              0.0,
              "#0d0887"
             ],
             [
              0.1111111111111111,
              "#46039f"
             ],
             [
              0.2222222222222222,
              "#7201a8"
             ],
             [
              0.3333333333333333,
              "#9c179e"
             ],
             [
              0.4444444444444444,
              "#bd3786"
             ],
             [
              0.5555555555555556,
              "#d8576b"
             ],
             [
              0.6666666666666666,
              "#ed7953"
             ],
             [
              0.7777777777777778,
              "#fb9f3a"
             ],
             [
              0.8888888888888888,
              "#fdca26"
             ],
             [
              1.0,
              "#f0f921"
             ]
            ],
            "type": "surface"
           }
          ],
          "table": [
           {
            "cells": {
             "fill": {
              "color": "#506784"
             },
             "line": {
              "color": "rgb(17,17,17)"
             }
            },
            "header": {
             "fill": {
              "color": "#2a3f5f"
             },
             "line": {
              "color": "rgb(17,17,17)"
             }
            },
            "type": "table"
           }
          ]
         },
         "layout": {
          "annotationdefaults": {
           "arrowcolor": "#f2f5fa",
           "arrowhead": 0,
           "arrowwidth": 1
          },
          "autotypenumbers": "strict",
          "coloraxis": {
           "colorbar": {
            "outlinewidth": 0,
            "ticks": ""
           }
          },
          "colorscale": {
           "diverging": [
            [
             0,
             "#8e0152"
            ],
            [
             0.1,
             "#c51b7d"
            ],
            [
             0.2,
             "#de77ae"
            ],
            [
             0.3,
             "#f1b6da"
            ],
            [
             0.4,
             "#fde0ef"
            ],
            [
             0.5,
             "#f7f7f7"
            ],
            [
             0.6,
             "#e6f5d0"
            ],
            [
             0.7,
             "#b8e186"
            ],
            [
             0.8,
             "#7fbc41"
            ],
            [
             0.9,
             "#4d9221"
            ],
            [
             1,
             "#276419"
            ]
           ],
           "sequential": [
            [
             0.0,
             "#0d0887"
            ],
            [
             0.1111111111111111,
             "#46039f"
            ],
            [
             0.2222222222222222,
             "#7201a8"
            ],
            [
             0.3333333333333333,
             "#9c179e"
            ],
            [
             0.4444444444444444,
             "#bd3786"
            ],
            [
             0.5555555555555556,
             "#d8576b"
            ],
            [
             0.6666666666666666,
             "#ed7953"
            ],
            [
             0.7777777777777778,
             "#fb9f3a"
            ],
            [
             0.8888888888888888,
             "#fdca26"
            ],
            [
             1.0,
             "#f0f921"
            ]
           ],
           "sequentialminus": [
            [
             0.0,
             "#0d0887"
            ],
            [
             0.1111111111111111,
             "#46039f"
            ],
            [
             0.2222222222222222,
             "#7201a8"
            ],
            [
             0.3333333333333333,
             "#9c179e"
            ],
            [
             0.4444444444444444,
             "#bd3786"
            ],
            [
             0.5555555555555556,
             "#d8576b"
            ],
            [
             0.6666666666666666,
             "#ed7953"
            ],
            [
             0.7777777777777778,
             "#fb9f3a"
            ],
            [
             0.8888888888888888,
             "#fdca26"
            ],
            [
             1.0,
             "#f0f921"
            ]
           ]
          },
          "colorway": [
           "#636efa",
           "#EF553B",
           "#00cc96",
           "#ab63fa",
           "#FFA15A",
           "#19d3f3",
           "#FF6692",
           "#B6E880",
           "#FF97FF",
           "#FECB52"
          ],
          "font": {
           "color": "#f2f5fa"
          },
          "geo": {
           "bgcolor": "rgb(17,17,17)",
           "lakecolor": "rgb(17,17,17)",
           "landcolor": "rgb(17,17,17)",
           "showlakes": true,
           "showland": true,
           "subunitcolor": "#506784"
          },
          "hoverlabel": {
           "align": "left"
          },
          "hovermode": "closest",
          "mapbox": {
           "style": "dark"
          },
          "paper_bgcolor": "rgb(17,17,17)",
          "plot_bgcolor": "rgb(17,17,17)",
          "polar": {
           "angularaxis": {
            "gridcolor": "#506784",
            "linecolor": "#506784",
            "ticks": ""
           },
           "bgcolor": "rgb(17,17,17)",
           "radialaxis": {
            "gridcolor": "#506784",
            "linecolor": "#506784",
            "ticks": ""
           }
          },
          "scene": {
           "xaxis": {
            "backgroundcolor": "rgb(17,17,17)",
            "gridcolor": "#506784",
            "gridwidth": 2,
            "linecolor": "#506784",
            "showbackground": true,
            "ticks": "",
            "zerolinecolor": "#C8D4E3"
           },
           "yaxis": {
            "backgroundcolor": "rgb(17,17,17)",
            "gridcolor": "#506784",
            "gridwidth": 2,
            "linecolor": "#506784",
            "showbackground": true,
            "ticks": "",
            "zerolinecolor": "#C8D4E3"
           },
           "zaxis": {
            "backgroundcolor": "rgb(17,17,17)",
            "gridcolor": "#506784",
            "gridwidth": 2,
            "linecolor": "#506784",
            "showbackground": true,
            "ticks": "",
            "zerolinecolor": "#C8D4E3"
           }
          },
          "shapedefaults": {
           "line": {
            "color": "#f2f5fa"
           }
          },
          "sliderdefaults": {
           "bgcolor": "#C8D4E3",
           "bordercolor": "rgb(17,17,17)",
           "borderwidth": 1,
           "tickwidth": 0
          },
          "ternary": {
           "aaxis": {
            "gridcolor": "#506784",
            "linecolor": "#506784",
            "ticks": ""
           },
           "baxis": {
            "gridcolor": "#506784",
            "linecolor": "#506784",
            "ticks": ""
           },
           "bgcolor": "rgb(17,17,17)",
           "caxis": {
            "gridcolor": "#506784",
            "linecolor": "#506784",
            "ticks": ""
           }
          },
          "title": {
           "x": 0.05
          },
          "updatemenudefaults": {
           "bgcolor": "#506784",
           "borderwidth": 0
          },
          "xaxis": {
           "automargin": true,
           "gridcolor": "#283442",
           "linecolor": "#506784",
           "ticks": "",
           "title": {
            "standoff": 15
           },
           "zerolinecolor": "#283442",
           "zerolinewidth": 2
          },
          "yaxis": {
           "automargin": true,
           "gridcolor": "#283442",
           "linecolor": "#506784",
           "ticks": "",
           "title": {
            "standoff": 15
           },
           "zerolinecolor": "#283442",
           "zerolinewidth": 2
          }
         }
        },
        "title": {
         "text": "Base Value for Gate City"
        },
        "xaxis": {
         "anchor": "y",
         "domain": [
          0.0,
          1.0
         ],
         "title": {
          "text": "index"
         }
        },
        "yaxis": {
         "anchor": "x",
         "domain": [
          0.0,
          1.0
         ],
         "title": {
          "text": "value"
         }
        }
       },
       "config": {
        "plotlyServerURL": "https://plot.ly"
       }
      },
      "text/html": "<div>                            <div id=\"64d8c4cf-30ee-4d57-95c7-940d4d43565e\" class=\"plotly-graph-div\" style=\"height:525px; width:100%;\"></div>            <script type=\"text/javascript\">                require([\"plotly\"], function(Plotly) {                    window.PLOTLYENV=window.PLOTLYENV || {};                                    if (document.getElementById(\"64d8c4cf-30ee-4d57-95c7-940d4d43565e\")) {                    Plotly.newPlot(                        \"64d8c4cf-30ee-4d57-95c7-940d4d43565e\",                        [{\"hovertemplate\":\"variable=top3<br>index=%{x}<br>value=%{y}<extra></extra>\",\"legendgroup\":\"top3\",\"line\":{\"color\":\"#636efa\",\"dash\":\"solid\"},\"marker\":{\"symbol\":\"circle\"},\"mode\":\"lines\",\"name\":\"top3\",\"orientation\":\"v\",\"showlegend\":true,\"x\":[0,1,2,3,4,5,6,7,8,9,10,11,12,13,14,15,16,17,18,19,20,21,22,23,24,25,26,27,28,29,30,31,32,33,34,35,36,37,38,39,40,41,42,43,44,45,46,47,48,49,50,51,52,53,54,55,56,57,58,59,60,61,62,63,64,65,66,67,68,69,70,71,72,73,74,75,76,77,78,79,80,81,82,83,84,85,86,87,88,89,90,91,92,93,94,95,96,97,98,99,100,101,102,103,104,105,106,107,108,109,110,111,112,113,114,115,116,117,118,119,120,121,122,123,124,125,126,127,128,129,130,131,132,133,134,135,136,137,138,139,140,141,142,143,144,145,146,147,148,149,150,151,152,153,154,155,156,157,158],\"xaxis\":\"x\",\"y\":[12.24,7.97,14.11,13.82,12.33,18.75,21.66,22.62,15.48,15.8,13.58,14.76,14.2,15.14,14.9,14.9,14.4,20.5,12.84,9.68,18.9,20.5,18.3,23.5,19.8,18.76,21.1,20.25,18.57,21.12,17.93,19.89,29.12,23.33,28.4,10.3,10.5,9.16,10.18,9.41,9.7,9.58,10.3,12.54,8.44,23.68,22.54,19.48,29.01,25.6,24.31,48.63,46.95,35.35,50.83,40.4,40.82,28.35,20.78,19.71,27.72,20.14,21.21,51.23,37.52,13.8,12.1,10.98,10.7,10.0,11.34,12.2,11.3,11.7,11.82,10.35,10.36,9.26,8.31,7.3,13.03,12.61,11.83,39.95,27.43,32.93,49.1,37.76,39.96,18.12,20.02,18.9,20.38,22.65,21.41,29.24,30.78,22.84,null,null,null,null,null,null,null,null,null,null,null,null,null,null,null,null,null,null,null,null,null,null,null,null,null,null,null,null,null,null,null,null,null,null,null,null,null,null,null,null,null,null,null,null,null,null,null,null,null,null,null,null,null,null,null,null,null,null,null,null,null],\"yaxis\":\"y\",\"type\":\"scatter\",\"uid\":\"13b5c4b8-0ece-4683-9973-33e311288d9a\"},{\"hovertemplate\":\"variable=rest_of_field<br>index=%{x}<br>value=%{y}<extra></extra>\",\"legendgroup\":\"rest_of_field\",\"line\":{\"color\":\"#EF553B\",\"dash\":\"solid\"},\"marker\":{\"symbol\":\"circle\"},\"mode\":\"lines\",\"name\":\"rest_of_field\",\"orientation\":\"v\",\"showlegend\":true,\"x\":[0,1,2,3,4,5,6,7,8,9,10,11,12,13,14,15,16,17,18,19,20,21,22,23,24,25,26,27,28,29,30,31,32,33,34,35,36,37,38,39,40,41,42,43,44,45,46,47,48,49,50,51,52,53,54,55,56,57,58,59,60,61,62,63,64,65,66,67,68,69,70,71,72,73,74,75,76,77,78,79,80,81,82,83,84,85,86,87,88,89,90,91,92,93,94,95,96,97,98,99,100,101,102,103,104,105,106,107,108,109,110,111,112,113,114,115,116,117,118,119,120,121,122,123,124,125,126,127,128,129,130,131,132,133,134,135,136,137,138,139,140,141,142,143,144,145,146,147,148,149,150,151,152,153,154,155,156,157,158],\"xaxis\":\"x\",\"y\":[12.46,12.36,11.42,10.22,9.05,9.57,7.34,18.57,17.83,18.83,19.26,19.47,16.65,15.19,17.26,16.88,18.15,16.27,14.98,13.05,11.05,13.62,12.44,11.16,14.9,14.9,13.14,13.34,13.68,13.6,11.65,8.9,9.68,14.9,11.86,12.28,10.58,10.78,11.9,10.44,9.58,11.08,6.5,16.8,19.86,19.7,14.0,16.2,14.0,11.78,11.4,11.42,12.5,11.36,10.5,9.16,16.3,16.1,15.93,15.41,16.04,21.52,9.18,10.0,9.78,8.76,9.03,6.98,17.38,17.64,16.33,14.75,13.66,25.31,22.47,24.54,20.65,20.28,15.03,19.13,17.74,15.99,15.84,17.75,10.57,34.19,36.83,27.84,24.36,21.34,16.98,19.19,18.82,14.68,16.37,16.05,14.95,14.22,14.06,12.79,20.2,12.5,11.7,11.16,10.48,9.28,9.36,11.2,11.14,11.62,10.51,11.88,10.7,9.98,9.44,8.35,8.47,7.45,7.53,7.48,7.88,11.84,11.5,13.25,12.7,13.18,12.05,9.39,10.9,12.12,11.93,9.63,12.2,12.19,8.56,27.95,25.01,21.02,22.35,17.36,16.35,16.04,14.7,12.22,14.33,12.72,12.9,13.77,13.8,13.09,12.6,14.29,10.2,17.99,20.14,16.16,26.79,20.52,24.83],\"yaxis\":\"y\",\"type\":\"scatter\",\"uid\":\"e7cf3c2e-531c-43ef-8f0d-aa1c6d59b0c6\"}],                        {\"legend\":{\"title\":{\"text\":\"variable\"},\"tracegroupgap\":0},\"template\":{\"data\":{\"barpolar\":[{\"marker\":{\"line\":{\"color\":\"rgb(17,17,17)\",\"width\":0.5},\"pattern\":{\"fillmode\":\"overlay\",\"size\":10,\"solidity\":0.2}},\"type\":\"barpolar\"}],\"bar\":[{\"error_x\":{\"color\":\"#f2f5fa\"},\"error_y\":{\"color\":\"#f2f5fa\"},\"marker\":{\"line\":{\"color\":\"rgb(17,17,17)\",\"width\":0.5},\"pattern\":{\"fillmode\":\"overlay\",\"size\":10,\"solidity\":0.2}},\"type\":\"bar\"}],\"carpet\":[{\"aaxis\":{\"endlinecolor\":\"#A2B1C6\",\"gridcolor\":\"#506784\",\"linecolor\":\"#506784\",\"minorgridcolor\":\"#506784\",\"startlinecolor\":\"#A2B1C6\"},\"baxis\":{\"endlinecolor\":\"#A2B1C6\",\"gridcolor\":\"#506784\",\"linecolor\":\"#506784\",\"minorgridcolor\":\"#506784\",\"startlinecolor\":\"#A2B1C6\"},\"type\":\"carpet\"}],\"choropleth\":[{\"colorbar\":{\"outlinewidth\":0,\"ticks\":\"\"},\"type\":\"choropleth\"}],\"contourcarpet\":[{\"colorbar\":{\"outlinewidth\":0,\"ticks\":\"\"},\"type\":\"contourcarpet\"}],\"contour\":[{\"colorbar\":{\"outlinewidth\":0,\"ticks\":\"\"},\"colorscale\":[[0.0,\"#0d0887\"],[0.1111111111111111,\"#46039f\"],[0.2222222222222222,\"#7201a8\"],[0.3333333333333333,\"#9c179e\"],[0.4444444444444444,\"#bd3786\"],[0.5555555555555556,\"#d8576b\"],[0.6666666666666666,\"#ed7953\"],[0.7777777777777778,\"#fb9f3a\"],[0.8888888888888888,\"#fdca26\"],[1.0,\"#f0f921\"]],\"type\":\"contour\"}],\"heatmapgl\":[{\"colorbar\":{\"outlinewidth\":0,\"ticks\":\"\"},\"colorscale\":[[0.0,\"#0d0887\"],[0.1111111111111111,\"#46039f\"],[0.2222222222222222,\"#7201a8\"],[0.3333333333333333,\"#9c179e\"],[0.4444444444444444,\"#bd3786\"],[0.5555555555555556,\"#d8576b\"],[0.6666666666666666,\"#ed7953\"],[0.7777777777777778,\"#fb9f3a\"],[0.8888888888888888,\"#fdca26\"],[1.0,\"#f0f921\"]],\"type\":\"heatmapgl\"}],\"heatmap\":[{\"colorbar\":{\"outlinewidth\":0,\"ticks\":\"\"},\"colorscale\":[[0.0,\"#0d0887\"],[0.1111111111111111,\"#46039f\"],[0.2222222222222222,\"#7201a8\"],[0.3333333333333333,\"#9c179e\"],[0.4444444444444444,\"#bd3786\"],[0.5555555555555556,\"#d8576b\"],[0.6666666666666666,\"#ed7953\"],[0.7777777777777778,\"#fb9f3a\"],[0.8888888888888888,\"#fdca26\"],[1.0,\"#f0f921\"]],\"type\":\"heatmap\"}],\"histogram2dcontour\":[{\"colorbar\":{\"outlinewidth\":0,\"ticks\":\"\"},\"colorscale\":[[0.0,\"#0d0887\"],[0.1111111111111111,\"#46039f\"],[0.2222222222222222,\"#7201a8\"],[0.3333333333333333,\"#9c179e\"],[0.4444444444444444,\"#bd3786\"],[0.5555555555555556,\"#d8576b\"],[0.6666666666666666,\"#ed7953\"],[0.7777777777777778,\"#fb9f3a\"],[0.8888888888888888,\"#fdca26\"],[1.0,\"#f0f921\"]],\"type\":\"histogram2dcontour\"}],\"histogram2d\":[{\"colorbar\":{\"outlinewidth\":0,\"ticks\":\"\"},\"colorscale\":[[0.0,\"#0d0887\"],[0.1111111111111111,\"#46039f\"],[0.2222222222222222,\"#7201a8\"],[0.3333333333333333,\"#9c179e\"],[0.4444444444444444,\"#bd3786\"],[0.5555555555555556,\"#d8576b\"],[0.6666666666666666,\"#ed7953\"],[0.7777777777777778,\"#fb9f3a\"],[0.8888888888888888,\"#fdca26\"],[1.0,\"#f0f921\"]],\"type\":\"histogram2d\"}],\"histogram\":[{\"marker\":{\"pattern\":{\"fillmode\":\"overlay\",\"size\":10,\"solidity\":0.2}},\"type\":\"histogram\"}],\"mesh3d\":[{\"colorbar\":{\"outlinewidth\":0,\"ticks\":\"\"},\"type\":\"mesh3d\"}],\"parcoords\":[{\"line\":{\"colorbar\":{\"outlinewidth\":0,\"ticks\":\"\"}},\"type\":\"parcoords\"}],\"pie\":[{\"automargin\":true,\"type\":\"pie\"}],\"scatter3d\":[{\"line\":{\"colorbar\":{\"outlinewidth\":0,\"ticks\":\"\"}},\"marker\":{\"colorbar\":{\"outlinewidth\":0,\"ticks\":\"\"}},\"type\":\"scatter3d\"}],\"scattercarpet\":[{\"marker\":{\"colorbar\":{\"outlinewidth\":0,\"ticks\":\"\"}},\"type\":\"scattercarpet\"}],\"scattergeo\":[{\"marker\":{\"colorbar\":{\"outlinewidth\":0,\"ticks\":\"\"}},\"type\":\"scattergeo\"}],\"scattergl\":[{\"marker\":{\"line\":{\"color\":\"#283442\"}},\"type\":\"scattergl\"}],\"scattermapbox\":[{\"marker\":{\"colorbar\":{\"outlinewidth\":0,\"ticks\":\"\"}},\"type\":\"scattermapbox\"}],\"scatterpolargl\":[{\"marker\":{\"colorbar\":{\"outlinewidth\":0,\"ticks\":\"\"}},\"type\":\"scatterpolargl\"}],\"scatterpolar\":[{\"marker\":{\"colorbar\":{\"outlinewidth\":0,\"ticks\":\"\"}},\"type\":\"scatterpolar\"}],\"scatter\":[{\"marker\":{\"line\":{\"color\":\"#283442\"}},\"type\":\"scatter\"}],\"scatterternary\":[{\"marker\":{\"colorbar\":{\"outlinewidth\":0,\"ticks\":\"\"}},\"type\":\"scatterternary\"}],\"surface\":[{\"colorbar\":{\"outlinewidth\":0,\"ticks\":\"\"},\"colorscale\":[[0.0,\"#0d0887\"],[0.1111111111111111,\"#46039f\"],[0.2222222222222222,\"#7201a8\"],[0.3333333333333333,\"#9c179e\"],[0.4444444444444444,\"#bd3786\"],[0.5555555555555556,\"#d8576b\"],[0.6666666666666666,\"#ed7953\"],[0.7777777777777778,\"#fb9f3a\"],[0.8888888888888888,\"#fdca26\"],[1.0,\"#f0f921\"]],\"type\":\"surface\"}],\"table\":[{\"cells\":{\"fill\":{\"color\":\"#506784\"},\"line\":{\"color\":\"rgb(17,17,17)\"}},\"header\":{\"fill\":{\"color\":\"#2a3f5f\"},\"line\":{\"color\":\"rgb(17,17,17)\"}},\"type\":\"table\"}]},\"layout\":{\"annotationdefaults\":{\"arrowcolor\":\"#f2f5fa\",\"arrowhead\":0,\"arrowwidth\":1},\"autotypenumbers\":\"strict\",\"coloraxis\":{\"colorbar\":{\"outlinewidth\":0,\"ticks\":\"\"}},\"colorscale\":{\"diverging\":[[0,\"#8e0152\"],[0.1,\"#c51b7d\"],[0.2,\"#de77ae\"],[0.3,\"#f1b6da\"],[0.4,\"#fde0ef\"],[0.5,\"#f7f7f7\"],[0.6,\"#e6f5d0\"],[0.7,\"#b8e186\"],[0.8,\"#7fbc41\"],[0.9,\"#4d9221\"],[1,\"#276419\"]],\"sequential\":[[0.0,\"#0d0887\"],[0.1111111111111111,\"#46039f\"],[0.2222222222222222,\"#7201a8\"],[0.3333333333333333,\"#9c179e\"],[0.4444444444444444,\"#bd3786\"],[0.5555555555555556,\"#d8576b\"],[0.6666666666666666,\"#ed7953\"],[0.7777777777777778,\"#fb9f3a\"],[0.8888888888888888,\"#fdca26\"],[1.0,\"#f0f921\"]],\"sequentialminus\":[[0.0,\"#0d0887\"],[0.1111111111111111,\"#46039f\"],[0.2222222222222222,\"#7201a8\"],[0.3333333333333333,\"#9c179e\"],[0.4444444444444444,\"#bd3786\"],[0.5555555555555556,\"#d8576b\"],[0.6666666666666666,\"#ed7953\"],[0.7777777777777778,\"#fb9f3a\"],[0.8888888888888888,\"#fdca26\"],[1.0,\"#f0f921\"]]},\"colorway\":[\"#636efa\",\"#EF553B\",\"#00cc96\",\"#ab63fa\",\"#FFA15A\",\"#19d3f3\",\"#FF6692\",\"#B6E880\",\"#FF97FF\",\"#FECB52\"],\"font\":{\"color\":\"#f2f5fa\"},\"geo\":{\"bgcolor\":\"rgb(17,17,17)\",\"lakecolor\":\"rgb(17,17,17)\",\"landcolor\":\"rgb(17,17,17)\",\"showlakes\":true,\"showland\":true,\"subunitcolor\":\"#506784\"},\"hoverlabel\":{\"align\":\"left\"},\"hovermode\":\"closest\",\"mapbox\":{\"style\":\"dark\"},\"paper_bgcolor\":\"rgb(17,17,17)\",\"plot_bgcolor\":\"rgb(17,17,17)\",\"polar\":{\"angularaxis\":{\"gridcolor\":\"#506784\",\"linecolor\":\"#506784\",\"ticks\":\"\"},\"bgcolor\":\"rgb(17,17,17)\",\"radialaxis\":{\"gridcolor\":\"#506784\",\"linecolor\":\"#506784\",\"ticks\":\"\"}},\"scene\":{\"xaxis\":{\"backgroundcolor\":\"rgb(17,17,17)\",\"gridcolor\":\"#506784\",\"gridwidth\":2,\"linecolor\":\"#506784\",\"showbackground\":true,\"ticks\":\"\",\"zerolinecolor\":\"#C8D4E3\"},\"yaxis\":{\"backgroundcolor\":\"rgb(17,17,17)\",\"gridcolor\":\"#506784\",\"gridwidth\":2,\"linecolor\":\"#506784\",\"showbackground\":true,\"ticks\":\"\",\"zerolinecolor\":\"#C8D4E3\"},\"zaxis\":{\"backgroundcolor\":\"rgb(17,17,17)\",\"gridcolor\":\"#506784\",\"gridwidth\":2,\"linecolor\":\"#506784\",\"showbackground\":true,\"ticks\":\"\",\"zerolinecolor\":\"#C8D4E3\"}},\"shapedefaults\":{\"line\":{\"color\":\"#f2f5fa\"}},\"sliderdefaults\":{\"bgcolor\":\"#C8D4E3\",\"bordercolor\":\"rgb(17,17,17)\",\"borderwidth\":1,\"tickwidth\":0},\"ternary\":{\"aaxis\":{\"gridcolor\":\"#506784\",\"linecolor\":\"#506784\",\"ticks\":\"\"},\"baxis\":{\"gridcolor\":\"#506784\",\"linecolor\":\"#506784\",\"ticks\":\"\"},\"bgcolor\":\"rgb(17,17,17)\",\"caxis\":{\"gridcolor\":\"#506784\",\"linecolor\":\"#506784\",\"ticks\":\"\"}},\"title\":{\"x\":0.05},\"updatemenudefaults\":{\"bgcolor\":\"#506784\",\"borderwidth\":0},\"xaxis\":{\"automargin\":true,\"gridcolor\":\"#283442\",\"linecolor\":\"#506784\",\"ticks\":\"\",\"title\":{\"standoff\":15},\"zerolinecolor\":\"#283442\",\"zerolinewidth\":2},\"yaxis\":{\"automargin\":true,\"gridcolor\":\"#283442\",\"linecolor\":\"#506784\",\"ticks\":\"\",\"title\":{\"standoff\":15},\"zerolinecolor\":\"#283442\",\"zerolinewidth\":2}}},\"title\":{\"text\":\"Base Value for Gate City\"},\"xaxis\":{\"anchor\":\"y\",\"domain\":[0.0,1.0],\"title\":{\"text\":\"index\"}},\"yaxis\":{\"anchor\":\"x\",\"domain\":[0.0,1.0],\"title\":{\"text\":\"value\"}}},                        {\"responsive\": true}                    ).then(function(){\n                            \nvar gd = document.getElementById('64d8c4cf-30ee-4d57-95c7-940d4d43565e');\nvar x = new MutationObserver(function (mutations, observer) {{\n        var display = window.getComputedStyle(gd).display;\n        if (!display || display === 'none') {{\n            console.log([gd, 'removed!']);\n            Plotly.purge(gd);\n            observer.disconnect();\n        }}\n}});\n\n// Listen for the removal of the full notebook cells\nvar notebookContainer = gd.closest('#notebook-container');\nif (notebookContainer) {{\n    x.observe(notebookContainer, {childList: true});\n}}\n\n// Listen for the clearing of the current output cell\nvar outputEl = gd.closest('.output');\nif (outputEl) {{\n    x.observe(outputEl, {childList: true});\n}}\n\n                        })                };                });            </script>        </div>"
     },
     "metadata": {},
     "output_type": "display_data"
    }
   ],
   "source": [
    "import plotly.express as px\n",
    "import plotly.graph_objects as go\n",
    "\n",
    "fig = px.line(plot_df,y=['top3','rest_of_field'],title='Base Value for Gate City')\n",
    "fig_widget = go.FigureWidget(fig)\n",
    "fig_widget.show()"
   ],
   "metadata": {
    "collapsed": false,
    "ExecuteTime": {
     "start_time": "2023-05-03T23:09:27.892000Z",
     "end_time": "2023-05-03T23:09:28.209892Z"
    }
   }
  },
  {
   "cell_type": "code",
   "execution_count": 46,
   "outputs": [
    {
     "data": {
      "text/plain": "                                         competition  \\\n1600                        2023 Denver Invitational   \n1601                        2023 Denver Invitational   \n1602                        2023 Denver Invitational   \n1603                        2023 Denver Invitational   \n1604                        2023 Denver Invitational   \n...                                              ...   \n439   2022 Crossroads FSC Spring-tacular Competition   \n440   2022 Crossroads FSC Spring-tacular Competition   \n441   2022 Crossroads FSC Spring-tacular Competition   \n442   2022 Crossroads FSC Spring-tacular Competition   \n443   2022 Crossroads FSC Spring-tacular Competition   \n\n                                               event  rank  \\\n1600  045 Preliminary Girls Excel Grp A / Free Skate     1   \n1601  045 Preliminary Girls Excel Grp A / Free Skate     2   \n1602  045 Preliminary Girls Excel Grp A / Free Skate     3   \n1603  045 Preliminary Girls Excel Grp A / Free Skate     4   \n1604  045 Preliminary Girls Excel Grp A / Free Skate     5   \n...                                              ...   ...   \n439             Preliminary Girls Excel / Free Skate     1   \n440             Preliminary Girls Excel / Free Skate     2   \n441             Preliminary Girls Excel / Free Skate     3   \n442             Preliminary Girls Excel / Free Skate     4   \n443             Preliminary Girls Excel / Free Skate     5   \n\n                                             name  total_base_value  \\\n1600           Fiorella Fernandes, FSC of Osceola              8.23   \n1601                     Flora Ventilla, Utah FSC              7.90   \n1602  Jordyn Andrie, Mountain Edge SC Of Colorado              8.14   \n1603                  Reese Gowen, FSC of Osceola              7.16   \n1604              Mona Smith, Denver Colorado FSC              8.14   \n...                                           ...               ...   \n439              Mia Hackerman, Atlantic City FSC              8.70   \n440                 Madeleine Johnson, Exton Edge              7.70   \n441               Keira McHutchison, Ice Line FSC              7.51   \n442               Emma Vanrell, Atlantic City FSC              7.18   \n443              Amelia Lytkowski, SC of Ice Land              5.28   \n\n      total_element_score  total_component_score  total_segment_score  \n1600                 8.43                   9.95                18.38  \n1601                 7.89                  10.42                17.81  \n1602                 7.58                   9.72                16.80  \n1603                 6.98                   9.79                16.77  \n1604                 7.19                   8.89                16.08  \n...                   ...                    ...                  ...  \n439                  8.51                   8.74                16.25  \n440                  7.21                   7.82                14.53  \n441                  6.24                   7.05                13.29  \n442                  6.36                   6.83                13.19  \n443                  4.73                   6.60                10.33  \n\n[63 rows x 8 columns]",
      "text/html": "<div>\n<style scoped>\n    .dataframe tbody tr th:only-of-type {\n        vertical-align: middle;\n    }\n\n    .dataframe tbody tr th {\n        vertical-align: top;\n    }\n\n    .dataframe thead th {\n        text-align: right;\n    }\n</style>\n<table border=\"1\" class=\"dataframe\">\n  <thead>\n    <tr style=\"text-align: right;\">\n      <th></th>\n      <th>competition</th>\n      <th>event</th>\n      <th>rank</th>\n      <th>name</th>\n      <th>total_base_value</th>\n      <th>total_element_score</th>\n      <th>total_component_score</th>\n      <th>total_segment_score</th>\n    </tr>\n  </thead>\n  <tbody>\n    <tr>\n      <th>1600</th>\n      <td>2023 Denver Invitational</td>\n      <td>045 Preliminary Girls Excel Grp A / Free Skate</td>\n      <td>1</td>\n      <td>Fiorella Fernandes, FSC of Osceola</td>\n      <td>8.23</td>\n      <td>8.43</td>\n      <td>9.95</td>\n      <td>18.38</td>\n    </tr>\n    <tr>\n      <th>1601</th>\n      <td>2023 Denver Invitational</td>\n      <td>045 Preliminary Girls Excel Grp A / Free Skate</td>\n      <td>2</td>\n      <td>Flora Ventilla, Utah FSC</td>\n      <td>7.90</td>\n      <td>7.89</td>\n      <td>10.42</td>\n      <td>17.81</td>\n    </tr>\n    <tr>\n      <th>1602</th>\n      <td>2023 Denver Invitational</td>\n      <td>045 Preliminary Girls Excel Grp A / Free Skate</td>\n      <td>3</td>\n      <td>Jordyn Andrie, Mountain Edge SC Of Colorado</td>\n      <td>8.14</td>\n      <td>7.58</td>\n      <td>9.72</td>\n      <td>16.80</td>\n    </tr>\n    <tr>\n      <th>1603</th>\n      <td>2023 Denver Invitational</td>\n      <td>045 Preliminary Girls Excel Grp A / Free Skate</td>\n      <td>4</td>\n      <td>Reese Gowen, FSC of Osceola</td>\n      <td>7.16</td>\n      <td>6.98</td>\n      <td>9.79</td>\n      <td>16.77</td>\n    </tr>\n    <tr>\n      <th>1604</th>\n      <td>2023 Denver Invitational</td>\n      <td>045 Preliminary Girls Excel Grp A / Free Skate</td>\n      <td>5</td>\n      <td>Mona Smith, Denver Colorado FSC</td>\n      <td>8.14</td>\n      <td>7.19</td>\n      <td>8.89</td>\n      <td>16.08</td>\n    </tr>\n    <tr>\n      <th>...</th>\n      <td>...</td>\n      <td>...</td>\n      <td>...</td>\n      <td>...</td>\n      <td>...</td>\n      <td>...</td>\n      <td>...</td>\n      <td>...</td>\n    </tr>\n    <tr>\n      <th>439</th>\n      <td>2022 Crossroads FSC Spring-tacular Competition</td>\n      <td>Preliminary Girls Excel / Free Skate</td>\n      <td>1</td>\n      <td>Mia Hackerman, Atlantic City FSC</td>\n      <td>8.70</td>\n      <td>8.51</td>\n      <td>8.74</td>\n      <td>16.25</td>\n    </tr>\n    <tr>\n      <th>440</th>\n      <td>2022 Crossroads FSC Spring-tacular Competition</td>\n      <td>Preliminary Girls Excel / Free Skate</td>\n      <td>2</td>\n      <td>Madeleine Johnson, Exton Edge</td>\n      <td>7.70</td>\n      <td>7.21</td>\n      <td>7.82</td>\n      <td>14.53</td>\n    </tr>\n    <tr>\n      <th>441</th>\n      <td>2022 Crossroads FSC Spring-tacular Competition</td>\n      <td>Preliminary Girls Excel / Free Skate</td>\n      <td>3</td>\n      <td>Keira McHutchison, Ice Line FSC</td>\n      <td>7.51</td>\n      <td>6.24</td>\n      <td>7.05</td>\n      <td>13.29</td>\n    </tr>\n    <tr>\n      <th>442</th>\n      <td>2022 Crossroads FSC Spring-tacular Competition</td>\n      <td>Preliminary Girls Excel / Free Skate</td>\n      <td>4</td>\n      <td>Emma Vanrell, Atlantic City FSC</td>\n      <td>7.18</td>\n      <td>6.36</td>\n      <td>6.83</td>\n      <td>13.19</td>\n    </tr>\n    <tr>\n      <th>443</th>\n      <td>2022 Crossroads FSC Spring-tacular Competition</td>\n      <td>Preliminary Girls Excel / Free Skate</td>\n      <td>5</td>\n      <td>Amelia Lytkowski, SC of Ice Land</td>\n      <td>5.28</td>\n      <td>4.73</td>\n      <td>6.60</td>\n      <td>10.33</td>\n    </tr>\n  </tbody>\n</table>\n<p>63 rows × 8 columns</p>\n</div>"
     },
     "execution_count": 46,
     "metadata": {},
     "output_type": "execute_result"
    }
   ],
   "source": [
    "event_watched = df_sorted[df_sorted['event'].str.contains('(?=.*Girls)(?=(?<!Pre-)Preliminary)(?=.*Excel)(?!.*Plus)')]\n",
    "event_watched"
   ],
   "metadata": {
    "collapsed": false,
    "ExecuteTime": {
     "start_time": "2023-05-03T23:09:28.011613Z",
     "end_time": "2023-05-03T23:09:28.210924Z"
    }
   }
  },
  {
   "cell_type": "code",
   "execution_count": 47,
   "outputs": [
    {
     "data": {
      "application/vnd.plotly.v1+json": {
       "data": [
        {
         "hovertemplate": "variable=top3<br>index=%{x}<br>value=%{y}<extra></extra>",
         "legendgroup": "top3",
         "line": {
          "color": "#636efa",
          "dash": "solid"
         },
         "marker": {
          "symbol": "circle"
         },
         "mode": "lines",
         "name": "top3",
         "orientation": "v",
         "showlegend": true,
         "x": [
          0,
          1,
          2,
          3,
          4,
          5,
          6,
          7,
          8,
          9,
          10,
          11,
          12,
          13,
          14,
          15,
          16,
          17,
          18,
          19,
          20,
          21,
          22,
          23,
          24,
          25,
          26,
          27,
          28,
          29,
          30,
          31
         ],
         "xaxis": "x",
         "y": [
          8.23,
          7.9,
          8.14,
          8.4,
          6.46,
          8.66,
          9.4,
          8.6,
          6.53,
          8.66,
          8.66,
          7.98,
          7.98,
          8.36,
          8.36,
          8.2,
          8.2,
          8.4,
          6.0,
          8.38,
          5.6,
          8.7,
          7.38,
          8.38,
          8.68,
          7.74,
          7.83,
          6.48,
          5.4,
          8.7,
          7.7,
          7.51
         ],
         "yaxis": "y",
         "type": "scatter",
         "uid": "95f33c8d-b919-4adc-859f-78a8bc545aff"
        },
        {
         "hovertemplate": "variable=rest_of_field<br>index=%{x}<br>value=%{y}<extra></extra>",
         "legendgroup": "rest_of_field",
         "line": {
          "color": "#EF553B",
          "dash": "solid"
         },
         "marker": {
          "symbol": "circle"
         },
         "mode": "lines",
         "name": "rest_of_field",
         "orientation": "v",
         "showlegend": true,
         "x": [
          0,
          1,
          2,
          3,
          4,
          5,
          6,
          7,
          8,
          9,
          10,
          11,
          12,
          13,
          14,
          15,
          16,
          17,
          18,
          19,
          20,
          21,
          22,
          23,
          24,
          25,
          26,
          27,
          28,
          29,
          30,
          31
         ],
         "xaxis": "x",
         "y": [
          7.16,
          8.14,
          7.03,
          3.2,
          7.98,
          5.8,
          7.1,
          6.3,
          5.9,
          8.5,
          8.5,
          8.14,
          8.14,
          8.33,
          8.33,
          8.7,
          8.7,
          6.1,
          6.1,
          4.78,
          4.78,
          5.5,
          5.5,
          8.2,
          7.1,
          8.24,
          6.26,
          7.78,
          7.16,
          7.18,
          5.28,
          null
         ],
         "yaxis": "y",
         "type": "scatter",
         "uid": "f71db5d0-9633-47b4-8e55-0c338a5ed63f"
        }
       ],
       "layout": {
        "legend": {
         "title": {
          "text": "variable"
         },
         "tracegroupgap": 0
        },
        "template": {
         "data": {
          "barpolar": [
           {
            "marker": {
             "line": {
              "color": "rgb(17,17,17)",
              "width": 0.5
             },
             "pattern": {
              "fillmode": "overlay",
              "size": 10,
              "solidity": 0.2
             }
            },
            "type": "barpolar"
           }
          ],
          "bar": [
           {
            "error_x": {
             "color": "#f2f5fa"
            },
            "error_y": {
             "color": "#f2f5fa"
            },
            "marker": {
             "line": {
              "color": "rgb(17,17,17)",
              "width": 0.5
             },
             "pattern": {
              "fillmode": "overlay",
              "size": 10,
              "solidity": 0.2
             }
            },
            "type": "bar"
           }
          ],
          "carpet": [
           {
            "aaxis": {
             "endlinecolor": "#A2B1C6",
             "gridcolor": "#506784",
             "linecolor": "#506784",
             "minorgridcolor": "#506784",
             "startlinecolor": "#A2B1C6"
            },
            "baxis": {
             "endlinecolor": "#A2B1C6",
             "gridcolor": "#506784",
             "linecolor": "#506784",
             "minorgridcolor": "#506784",
             "startlinecolor": "#A2B1C6"
            },
            "type": "carpet"
           }
          ],
          "choropleth": [
           {
            "colorbar": {
             "outlinewidth": 0,
             "ticks": ""
            },
            "type": "choropleth"
           }
          ],
          "contourcarpet": [
           {
            "colorbar": {
             "outlinewidth": 0,
             "ticks": ""
            },
            "type": "contourcarpet"
           }
          ],
          "contour": [
           {
            "colorbar": {
             "outlinewidth": 0,
             "ticks": ""
            },
            "colorscale": [
             [
              0.0,
              "#0d0887"
             ],
             [
              0.1111111111111111,
              "#46039f"
             ],
             [
              0.2222222222222222,
              "#7201a8"
             ],
             [
              0.3333333333333333,
              "#9c179e"
             ],
             [
              0.4444444444444444,
              "#bd3786"
             ],
             [
              0.5555555555555556,
              "#d8576b"
             ],
             [
              0.6666666666666666,
              "#ed7953"
             ],
             [
              0.7777777777777778,
              "#fb9f3a"
             ],
             [
              0.8888888888888888,
              "#fdca26"
             ],
             [
              1.0,
              "#f0f921"
             ]
            ],
            "type": "contour"
           }
          ],
          "heatmapgl": [
           {
            "colorbar": {
             "outlinewidth": 0,
             "ticks": ""
            },
            "colorscale": [
             [
              0.0,
              "#0d0887"
             ],
             [
              0.1111111111111111,
              "#46039f"
             ],
             [
              0.2222222222222222,
              "#7201a8"
             ],
             [
              0.3333333333333333,
              "#9c179e"
             ],
             [
              0.4444444444444444,
              "#bd3786"
             ],
             [
              0.5555555555555556,
              "#d8576b"
             ],
             [
              0.6666666666666666,
              "#ed7953"
             ],
             [
              0.7777777777777778,
              "#fb9f3a"
             ],
             [
              0.8888888888888888,
              "#fdca26"
             ],
             [
              1.0,
              "#f0f921"
             ]
            ],
            "type": "heatmapgl"
           }
          ],
          "heatmap": [
           {
            "colorbar": {
             "outlinewidth": 0,
             "ticks": ""
            },
            "colorscale": [
             [
              0.0,
              "#0d0887"
             ],
             [
              0.1111111111111111,
              "#46039f"
             ],
             [
              0.2222222222222222,
              "#7201a8"
             ],
             [
              0.3333333333333333,
              "#9c179e"
             ],
             [
              0.4444444444444444,
              "#bd3786"
             ],
             [
              0.5555555555555556,
              "#d8576b"
             ],
             [
              0.6666666666666666,
              "#ed7953"
             ],
             [
              0.7777777777777778,
              "#fb9f3a"
             ],
             [
              0.8888888888888888,
              "#fdca26"
             ],
             [
              1.0,
              "#f0f921"
             ]
            ],
            "type": "heatmap"
           }
          ],
          "histogram2dcontour": [
           {
            "colorbar": {
             "outlinewidth": 0,
             "ticks": ""
            },
            "colorscale": [
             [
              0.0,
              "#0d0887"
             ],
             [
              0.1111111111111111,
              "#46039f"
             ],
             [
              0.2222222222222222,
              "#7201a8"
             ],
             [
              0.3333333333333333,
              "#9c179e"
             ],
             [
              0.4444444444444444,
              "#bd3786"
             ],
             [
              0.5555555555555556,
              "#d8576b"
             ],
             [
              0.6666666666666666,
              "#ed7953"
             ],
             [
              0.7777777777777778,
              "#fb9f3a"
             ],
             [
              0.8888888888888888,
              "#fdca26"
             ],
             [
              1.0,
              "#f0f921"
             ]
            ],
            "type": "histogram2dcontour"
           }
          ],
          "histogram2d": [
           {
            "colorbar": {
             "outlinewidth": 0,
             "ticks": ""
            },
            "colorscale": [
             [
              0.0,
              "#0d0887"
             ],
             [
              0.1111111111111111,
              "#46039f"
             ],
             [
              0.2222222222222222,
              "#7201a8"
             ],
             [
              0.3333333333333333,
              "#9c179e"
             ],
             [
              0.4444444444444444,
              "#bd3786"
             ],
             [
              0.5555555555555556,
              "#d8576b"
             ],
             [
              0.6666666666666666,
              "#ed7953"
             ],
             [
              0.7777777777777778,
              "#fb9f3a"
             ],
             [
              0.8888888888888888,
              "#fdca26"
             ],
             [
              1.0,
              "#f0f921"
             ]
            ],
            "type": "histogram2d"
           }
          ],
          "histogram": [
           {
            "marker": {
             "pattern": {
              "fillmode": "overlay",
              "size": 10,
              "solidity": 0.2
             }
            },
            "type": "histogram"
           }
          ],
          "mesh3d": [
           {
            "colorbar": {
             "outlinewidth": 0,
             "ticks": ""
            },
            "type": "mesh3d"
           }
          ],
          "parcoords": [
           {
            "line": {
             "colorbar": {
              "outlinewidth": 0,
              "ticks": ""
             }
            },
            "type": "parcoords"
           }
          ],
          "pie": [
           {
            "automargin": true,
            "type": "pie"
           }
          ],
          "scatter3d": [
           {
            "line": {
             "colorbar": {
              "outlinewidth": 0,
              "ticks": ""
             }
            },
            "marker": {
             "colorbar": {
              "outlinewidth": 0,
              "ticks": ""
             }
            },
            "type": "scatter3d"
           }
          ],
          "scattercarpet": [
           {
            "marker": {
             "colorbar": {
              "outlinewidth": 0,
              "ticks": ""
             }
            },
            "type": "scattercarpet"
           }
          ],
          "scattergeo": [
           {
            "marker": {
             "colorbar": {
              "outlinewidth": 0,
              "ticks": ""
             }
            },
            "type": "scattergeo"
           }
          ],
          "scattergl": [
           {
            "marker": {
             "line": {
              "color": "#283442"
             }
            },
            "type": "scattergl"
           }
          ],
          "scattermapbox": [
           {
            "marker": {
             "colorbar": {
              "outlinewidth": 0,
              "ticks": ""
             }
            },
            "type": "scattermapbox"
           }
          ],
          "scatterpolargl": [
           {
            "marker": {
             "colorbar": {
              "outlinewidth": 0,
              "ticks": ""
             }
            },
            "type": "scatterpolargl"
           }
          ],
          "scatterpolar": [
           {
            "marker": {
             "colorbar": {
              "outlinewidth": 0,
              "ticks": ""
             }
            },
            "type": "scatterpolar"
           }
          ],
          "scatter": [
           {
            "marker": {
             "line": {
              "color": "#283442"
             }
            },
            "type": "scatter"
           }
          ],
          "scatterternary": [
           {
            "marker": {
             "colorbar": {
              "outlinewidth": 0,
              "ticks": ""
             }
            },
            "type": "scatterternary"
           }
          ],
          "surface": [
           {
            "colorbar": {
             "outlinewidth": 0,
             "ticks": ""
            },
            "colorscale": [
             [
              0.0,
              "#0d0887"
             ],
             [
              0.1111111111111111,
              "#46039f"
             ],
             [
              0.2222222222222222,
              "#7201a8"
             ],
             [
              0.3333333333333333,
              "#9c179e"
             ],
             [
              0.4444444444444444,
              "#bd3786"
             ],
             [
              0.5555555555555556,
              "#d8576b"
             ],
             [
              0.6666666666666666,
              "#ed7953"
             ],
             [
              0.7777777777777778,
              "#fb9f3a"
             ],
             [
              0.8888888888888888,
              "#fdca26"
             ],
             [
              1.0,
              "#f0f921"
             ]
            ],
            "type": "surface"
           }
          ],
          "table": [
           {
            "cells": {
             "fill": {
              "color": "#506784"
             },
             "line": {
              "color": "rgb(17,17,17)"
             }
            },
            "header": {
             "fill": {
              "color": "#2a3f5f"
             },
             "line": {
              "color": "rgb(17,17,17)"
             }
            },
            "type": "table"
           }
          ]
         },
         "layout": {
          "annotationdefaults": {
           "arrowcolor": "#f2f5fa",
           "arrowhead": 0,
           "arrowwidth": 1
          },
          "autotypenumbers": "strict",
          "coloraxis": {
           "colorbar": {
            "outlinewidth": 0,
            "ticks": ""
           }
          },
          "colorscale": {
           "diverging": [
            [
             0,
             "#8e0152"
            ],
            [
             0.1,
             "#c51b7d"
            ],
            [
             0.2,
             "#de77ae"
            ],
            [
             0.3,
             "#f1b6da"
            ],
            [
             0.4,
             "#fde0ef"
            ],
            [
             0.5,
             "#f7f7f7"
            ],
            [
             0.6,
             "#e6f5d0"
            ],
            [
             0.7,
             "#b8e186"
            ],
            [
             0.8,
             "#7fbc41"
            ],
            [
             0.9,
             "#4d9221"
            ],
            [
             1,
             "#276419"
            ]
           ],
           "sequential": [
            [
             0.0,
             "#0d0887"
            ],
            [
             0.1111111111111111,
             "#46039f"
            ],
            [
             0.2222222222222222,
             "#7201a8"
            ],
            [
             0.3333333333333333,
             "#9c179e"
            ],
            [
             0.4444444444444444,
             "#bd3786"
            ],
            [
             0.5555555555555556,
             "#d8576b"
            ],
            [
             0.6666666666666666,
             "#ed7953"
            ],
            [
             0.7777777777777778,
             "#fb9f3a"
            ],
            [
             0.8888888888888888,
             "#fdca26"
            ],
            [
             1.0,
             "#f0f921"
            ]
           ],
           "sequentialminus": [
            [
             0.0,
             "#0d0887"
            ],
            [
             0.1111111111111111,
             "#46039f"
            ],
            [
             0.2222222222222222,
             "#7201a8"
            ],
            [
             0.3333333333333333,
             "#9c179e"
            ],
            [
             0.4444444444444444,
             "#bd3786"
            ],
            [
             0.5555555555555556,
             "#d8576b"
            ],
            [
             0.6666666666666666,
             "#ed7953"
            ],
            [
             0.7777777777777778,
             "#fb9f3a"
            ],
            [
             0.8888888888888888,
             "#fdca26"
            ],
            [
             1.0,
             "#f0f921"
            ]
           ]
          },
          "colorway": [
           "#636efa",
           "#EF553B",
           "#00cc96",
           "#ab63fa",
           "#FFA15A",
           "#19d3f3",
           "#FF6692",
           "#B6E880",
           "#FF97FF",
           "#FECB52"
          ],
          "font": {
           "color": "#f2f5fa"
          },
          "geo": {
           "bgcolor": "rgb(17,17,17)",
           "lakecolor": "rgb(17,17,17)",
           "landcolor": "rgb(17,17,17)",
           "showlakes": true,
           "showland": true,
           "subunitcolor": "#506784"
          },
          "hoverlabel": {
           "align": "left"
          },
          "hovermode": "closest",
          "mapbox": {
           "style": "dark"
          },
          "paper_bgcolor": "rgb(17,17,17)",
          "plot_bgcolor": "rgb(17,17,17)",
          "polar": {
           "angularaxis": {
            "gridcolor": "#506784",
            "linecolor": "#506784",
            "ticks": ""
           },
           "bgcolor": "rgb(17,17,17)",
           "radialaxis": {
            "gridcolor": "#506784",
            "linecolor": "#506784",
            "ticks": ""
           }
          },
          "scene": {
           "xaxis": {
            "backgroundcolor": "rgb(17,17,17)",
            "gridcolor": "#506784",
            "gridwidth": 2,
            "linecolor": "#506784",
            "showbackground": true,
            "ticks": "",
            "zerolinecolor": "#C8D4E3"
           },
           "yaxis": {
            "backgroundcolor": "rgb(17,17,17)",
            "gridcolor": "#506784",
            "gridwidth": 2,
            "linecolor": "#506784",
            "showbackground": true,
            "ticks": "",
            "zerolinecolor": "#C8D4E3"
           },
           "zaxis": {
            "backgroundcolor": "rgb(17,17,17)",
            "gridcolor": "#506784",
            "gridwidth": 2,
            "linecolor": "#506784",
            "showbackground": true,
            "ticks": "",
            "zerolinecolor": "#C8D4E3"
           }
          },
          "shapedefaults": {
           "line": {
            "color": "#f2f5fa"
           }
          },
          "sliderdefaults": {
           "bgcolor": "#C8D4E3",
           "bordercolor": "rgb(17,17,17)",
           "borderwidth": 1,
           "tickwidth": 0
          },
          "ternary": {
           "aaxis": {
            "gridcolor": "#506784",
            "linecolor": "#506784",
            "ticks": ""
           },
           "baxis": {
            "gridcolor": "#506784",
            "linecolor": "#506784",
            "ticks": ""
           },
           "bgcolor": "rgb(17,17,17)",
           "caxis": {
            "gridcolor": "#506784",
            "linecolor": "#506784",
            "ticks": ""
           }
          },
          "title": {
           "x": 0.05
          },
          "updatemenudefaults": {
           "bgcolor": "#506784",
           "borderwidth": 0
          },
          "xaxis": {
           "automargin": true,
           "gridcolor": "#283442",
           "linecolor": "#506784",
           "ticks": "",
           "title": {
            "standoff": 15
           },
           "zerolinecolor": "#283442",
           "zerolinewidth": 2
          },
          "yaxis": {
           "automargin": true,
           "gridcolor": "#283442",
           "linecolor": "#506784",
           "ticks": "",
           "title": {
            "standoff": 15
           },
           "zerolinecolor": "#283442",
           "zerolinewidth": 2
          }
         }
        },
        "title": {
         "text": "Base Value for 1600    045 Preliminary Girls Excel Grp A / Free Skate\n1601    045 Preliminary Girls Excel Grp A / Free Skate\n1602    045 Preliminary Girls Excel Grp A / Free Skate\n1603    045 Preliminary Girls Excel Grp A / Free Skate\n1604    045 Preliminary Girls Excel Grp A / Free Skate\n                             ...                      \n439               Preliminary Girls Excel / Free Skate\n440               Preliminary Girls Excel / Free Skate\n441               Preliminary Girls Excel / Free Skate\n442               Preliminary Girls Excel / Free Skate\n443               Preliminary Girls Excel / Free Skate\nName: event, Length: 63, dtype: object"
        },
        "xaxis": {
         "anchor": "y",
         "domain": [
          0.0,
          1.0
         ],
         "title": {
          "text": "index"
         }
        },
        "yaxis": {
         "anchor": "x",
         "domain": [
          0.0,
          1.0
         ],
         "title": {
          "text": "value"
         }
        }
       },
       "config": {
        "plotlyServerURL": "https://plot.ly"
       }
      },
      "text/html": "<div>                            <div id=\"db4a2cf3-dd91-4e4c-bd00-849db9f6dbca\" class=\"plotly-graph-div\" style=\"height:525px; width:100%;\"></div>            <script type=\"text/javascript\">                require([\"plotly\"], function(Plotly) {                    window.PLOTLYENV=window.PLOTLYENV || {};                                    if (document.getElementById(\"db4a2cf3-dd91-4e4c-bd00-849db9f6dbca\")) {                    Plotly.newPlot(                        \"db4a2cf3-dd91-4e4c-bd00-849db9f6dbca\",                        [{\"hovertemplate\":\"variable=top3<br>index=%{x}<br>value=%{y}<extra></extra>\",\"legendgroup\":\"top3\",\"line\":{\"color\":\"#636efa\",\"dash\":\"solid\"},\"marker\":{\"symbol\":\"circle\"},\"mode\":\"lines\",\"name\":\"top3\",\"orientation\":\"v\",\"showlegend\":true,\"x\":[0,1,2,3,4,5,6,7,8,9,10,11,12,13,14,15,16,17,18,19,20,21,22,23,24,25,26,27,28,29,30,31],\"xaxis\":\"x\",\"y\":[8.23,7.9,8.14,8.4,6.46,8.66,9.4,8.6,6.53,8.66,8.66,7.98,7.98,8.36,8.36,8.2,8.2,8.4,6.0,8.38,5.6,8.7,7.38,8.38,8.68,7.74,7.83,6.48,5.4,8.7,7.7,7.51],\"yaxis\":\"y\",\"type\":\"scatter\",\"uid\":\"95f33c8d-b919-4adc-859f-78a8bc545aff\"},{\"hovertemplate\":\"variable=rest_of_field<br>index=%{x}<br>value=%{y}<extra></extra>\",\"legendgroup\":\"rest_of_field\",\"line\":{\"color\":\"#EF553B\",\"dash\":\"solid\"},\"marker\":{\"symbol\":\"circle\"},\"mode\":\"lines\",\"name\":\"rest_of_field\",\"orientation\":\"v\",\"showlegend\":true,\"x\":[0,1,2,3,4,5,6,7,8,9,10,11,12,13,14,15,16,17,18,19,20,21,22,23,24,25,26,27,28,29,30,31],\"xaxis\":\"x\",\"y\":[7.16,8.14,7.03,3.2,7.98,5.8,7.1,6.3,5.9,8.5,8.5,8.14,8.14,8.33,8.33,8.7,8.7,6.1,6.1,4.78,4.78,5.5,5.5,8.2,7.1,8.24,6.26,7.78,7.16,7.18,5.28,null],\"yaxis\":\"y\",\"type\":\"scatter\",\"uid\":\"f71db5d0-9633-47b4-8e55-0c338a5ed63f\"}],                        {\"legend\":{\"title\":{\"text\":\"variable\"},\"tracegroupgap\":0},\"template\":{\"data\":{\"barpolar\":[{\"marker\":{\"line\":{\"color\":\"rgb(17,17,17)\",\"width\":0.5},\"pattern\":{\"fillmode\":\"overlay\",\"size\":10,\"solidity\":0.2}},\"type\":\"barpolar\"}],\"bar\":[{\"error_x\":{\"color\":\"#f2f5fa\"},\"error_y\":{\"color\":\"#f2f5fa\"},\"marker\":{\"line\":{\"color\":\"rgb(17,17,17)\",\"width\":0.5},\"pattern\":{\"fillmode\":\"overlay\",\"size\":10,\"solidity\":0.2}},\"type\":\"bar\"}],\"carpet\":[{\"aaxis\":{\"endlinecolor\":\"#A2B1C6\",\"gridcolor\":\"#506784\",\"linecolor\":\"#506784\",\"minorgridcolor\":\"#506784\",\"startlinecolor\":\"#A2B1C6\"},\"baxis\":{\"endlinecolor\":\"#A2B1C6\",\"gridcolor\":\"#506784\",\"linecolor\":\"#506784\",\"minorgridcolor\":\"#506784\",\"startlinecolor\":\"#A2B1C6\"},\"type\":\"carpet\"}],\"choropleth\":[{\"colorbar\":{\"outlinewidth\":0,\"ticks\":\"\"},\"type\":\"choropleth\"}],\"contourcarpet\":[{\"colorbar\":{\"outlinewidth\":0,\"ticks\":\"\"},\"type\":\"contourcarpet\"}],\"contour\":[{\"colorbar\":{\"outlinewidth\":0,\"ticks\":\"\"},\"colorscale\":[[0.0,\"#0d0887\"],[0.1111111111111111,\"#46039f\"],[0.2222222222222222,\"#7201a8\"],[0.3333333333333333,\"#9c179e\"],[0.4444444444444444,\"#bd3786\"],[0.5555555555555556,\"#d8576b\"],[0.6666666666666666,\"#ed7953\"],[0.7777777777777778,\"#fb9f3a\"],[0.8888888888888888,\"#fdca26\"],[1.0,\"#f0f921\"]],\"type\":\"contour\"}],\"heatmapgl\":[{\"colorbar\":{\"outlinewidth\":0,\"ticks\":\"\"},\"colorscale\":[[0.0,\"#0d0887\"],[0.1111111111111111,\"#46039f\"],[0.2222222222222222,\"#7201a8\"],[0.3333333333333333,\"#9c179e\"],[0.4444444444444444,\"#bd3786\"],[0.5555555555555556,\"#d8576b\"],[0.6666666666666666,\"#ed7953\"],[0.7777777777777778,\"#fb9f3a\"],[0.8888888888888888,\"#fdca26\"],[1.0,\"#f0f921\"]],\"type\":\"heatmapgl\"}],\"heatmap\":[{\"colorbar\":{\"outlinewidth\":0,\"ticks\":\"\"},\"colorscale\":[[0.0,\"#0d0887\"],[0.1111111111111111,\"#46039f\"],[0.2222222222222222,\"#7201a8\"],[0.3333333333333333,\"#9c179e\"],[0.4444444444444444,\"#bd3786\"],[0.5555555555555556,\"#d8576b\"],[0.6666666666666666,\"#ed7953\"],[0.7777777777777778,\"#fb9f3a\"],[0.8888888888888888,\"#fdca26\"],[1.0,\"#f0f921\"]],\"type\":\"heatmap\"}],\"histogram2dcontour\":[{\"colorbar\":{\"outlinewidth\":0,\"ticks\":\"\"},\"colorscale\":[[0.0,\"#0d0887\"],[0.1111111111111111,\"#46039f\"],[0.2222222222222222,\"#7201a8\"],[0.3333333333333333,\"#9c179e\"],[0.4444444444444444,\"#bd3786\"],[0.5555555555555556,\"#d8576b\"],[0.6666666666666666,\"#ed7953\"],[0.7777777777777778,\"#fb9f3a\"],[0.8888888888888888,\"#fdca26\"],[1.0,\"#f0f921\"]],\"type\":\"histogram2dcontour\"}],\"histogram2d\":[{\"colorbar\":{\"outlinewidth\":0,\"ticks\":\"\"},\"colorscale\":[[0.0,\"#0d0887\"],[0.1111111111111111,\"#46039f\"],[0.2222222222222222,\"#7201a8\"],[0.3333333333333333,\"#9c179e\"],[0.4444444444444444,\"#bd3786\"],[0.5555555555555556,\"#d8576b\"],[0.6666666666666666,\"#ed7953\"],[0.7777777777777778,\"#fb9f3a\"],[0.8888888888888888,\"#fdca26\"],[1.0,\"#f0f921\"]],\"type\":\"histogram2d\"}],\"histogram\":[{\"marker\":{\"pattern\":{\"fillmode\":\"overlay\",\"size\":10,\"solidity\":0.2}},\"type\":\"histogram\"}],\"mesh3d\":[{\"colorbar\":{\"outlinewidth\":0,\"ticks\":\"\"},\"type\":\"mesh3d\"}],\"parcoords\":[{\"line\":{\"colorbar\":{\"outlinewidth\":0,\"ticks\":\"\"}},\"type\":\"parcoords\"}],\"pie\":[{\"automargin\":true,\"type\":\"pie\"}],\"scatter3d\":[{\"line\":{\"colorbar\":{\"outlinewidth\":0,\"ticks\":\"\"}},\"marker\":{\"colorbar\":{\"outlinewidth\":0,\"ticks\":\"\"}},\"type\":\"scatter3d\"}],\"scattercarpet\":[{\"marker\":{\"colorbar\":{\"outlinewidth\":0,\"ticks\":\"\"}},\"type\":\"scattercarpet\"}],\"scattergeo\":[{\"marker\":{\"colorbar\":{\"outlinewidth\":0,\"ticks\":\"\"}},\"type\":\"scattergeo\"}],\"scattergl\":[{\"marker\":{\"line\":{\"color\":\"#283442\"}},\"type\":\"scattergl\"}],\"scattermapbox\":[{\"marker\":{\"colorbar\":{\"outlinewidth\":0,\"ticks\":\"\"}},\"type\":\"scattermapbox\"}],\"scatterpolargl\":[{\"marker\":{\"colorbar\":{\"outlinewidth\":0,\"ticks\":\"\"}},\"type\":\"scatterpolargl\"}],\"scatterpolar\":[{\"marker\":{\"colorbar\":{\"outlinewidth\":0,\"ticks\":\"\"}},\"type\":\"scatterpolar\"}],\"scatter\":[{\"marker\":{\"line\":{\"color\":\"#283442\"}},\"type\":\"scatter\"}],\"scatterternary\":[{\"marker\":{\"colorbar\":{\"outlinewidth\":0,\"ticks\":\"\"}},\"type\":\"scatterternary\"}],\"surface\":[{\"colorbar\":{\"outlinewidth\":0,\"ticks\":\"\"},\"colorscale\":[[0.0,\"#0d0887\"],[0.1111111111111111,\"#46039f\"],[0.2222222222222222,\"#7201a8\"],[0.3333333333333333,\"#9c179e\"],[0.4444444444444444,\"#bd3786\"],[0.5555555555555556,\"#d8576b\"],[0.6666666666666666,\"#ed7953\"],[0.7777777777777778,\"#fb9f3a\"],[0.8888888888888888,\"#fdca26\"],[1.0,\"#f0f921\"]],\"type\":\"surface\"}],\"table\":[{\"cells\":{\"fill\":{\"color\":\"#506784\"},\"line\":{\"color\":\"rgb(17,17,17)\"}},\"header\":{\"fill\":{\"color\":\"#2a3f5f\"},\"line\":{\"color\":\"rgb(17,17,17)\"}},\"type\":\"table\"}]},\"layout\":{\"annotationdefaults\":{\"arrowcolor\":\"#f2f5fa\",\"arrowhead\":0,\"arrowwidth\":1},\"autotypenumbers\":\"strict\",\"coloraxis\":{\"colorbar\":{\"outlinewidth\":0,\"ticks\":\"\"}},\"colorscale\":{\"diverging\":[[0,\"#8e0152\"],[0.1,\"#c51b7d\"],[0.2,\"#de77ae\"],[0.3,\"#f1b6da\"],[0.4,\"#fde0ef\"],[0.5,\"#f7f7f7\"],[0.6,\"#e6f5d0\"],[0.7,\"#b8e186\"],[0.8,\"#7fbc41\"],[0.9,\"#4d9221\"],[1,\"#276419\"]],\"sequential\":[[0.0,\"#0d0887\"],[0.1111111111111111,\"#46039f\"],[0.2222222222222222,\"#7201a8\"],[0.3333333333333333,\"#9c179e\"],[0.4444444444444444,\"#bd3786\"],[0.5555555555555556,\"#d8576b\"],[0.6666666666666666,\"#ed7953\"],[0.7777777777777778,\"#fb9f3a\"],[0.8888888888888888,\"#fdca26\"],[1.0,\"#f0f921\"]],\"sequentialminus\":[[0.0,\"#0d0887\"],[0.1111111111111111,\"#46039f\"],[0.2222222222222222,\"#7201a8\"],[0.3333333333333333,\"#9c179e\"],[0.4444444444444444,\"#bd3786\"],[0.5555555555555556,\"#d8576b\"],[0.6666666666666666,\"#ed7953\"],[0.7777777777777778,\"#fb9f3a\"],[0.8888888888888888,\"#fdca26\"],[1.0,\"#f0f921\"]]},\"colorway\":[\"#636efa\",\"#EF553B\",\"#00cc96\",\"#ab63fa\",\"#FFA15A\",\"#19d3f3\",\"#FF6692\",\"#B6E880\",\"#FF97FF\",\"#FECB52\"],\"font\":{\"color\":\"#f2f5fa\"},\"geo\":{\"bgcolor\":\"rgb(17,17,17)\",\"lakecolor\":\"rgb(17,17,17)\",\"landcolor\":\"rgb(17,17,17)\",\"showlakes\":true,\"showland\":true,\"subunitcolor\":\"#506784\"},\"hoverlabel\":{\"align\":\"left\"},\"hovermode\":\"closest\",\"mapbox\":{\"style\":\"dark\"},\"paper_bgcolor\":\"rgb(17,17,17)\",\"plot_bgcolor\":\"rgb(17,17,17)\",\"polar\":{\"angularaxis\":{\"gridcolor\":\"#506784\",\"linecolor\":\"#506784\",\"ticks\":\"\"},\"bgcolor\":\"rgb(17,17,17)\",\"radialaxis\":{\"gridcolor\":\"#506784\",\"linecolor\":\"#506784\",\"ticks\":\"\"}},\"scene\":{\"xaxis\":{\"backgroundcolor\":\"rgb(17,17,17)\",\"gridcolor\":\"#506784\",\"gridwidth\":2,\"linecolor\":\"#506784\",\"showbackground\":true,\"ticks\":\"\",\"zerolinecolor\":\"#C8D4E3\"},\"yaxis\":{\"backgroundcolor\":\"rgb(17,17,17)\",\"gridcolor\":\"#506784\",\"gridwidth\":2,\"linecolor\":\"#506784\",\"showbackground\":true,\"ticks\":\"\",\"zerolinecolor\":\"#C8D4E3\"},\"zaxis\":{\"backgroundcolor\":\"rgb(17,17,17)\",\"gridcolor\":\"#506784\",\"gridwidth\":2,\"linecolor\":\"#506784\",\"showbackground\":true,\"ticks\":\"\",\"zerolinecolor\":\"#C8D4E3\"}},\"shapedefaults\":{\"line\":{\"color\":\"#f2f5fa\"}},\"sliderdefaults\":{\"bgcolor\":\"#C8D4E3\",\"bordercolor\":\"rgb(17,17,17)\",\"borderwidth\":1,\"tickwidth\":0},\"ternary\":{\"aaxis\":{\"gridcolor\":\"#506784\",\"linecolor\":\"#506784\",\"ticks\":\"\"},\"baxis\":{\"gridcolor\":\"#506784\",\"linecolor\":\"#506784\",\"ticks\":\"\"},\"bgcolor\":\"rgb(17,17,17)\",\"caxis\":{\"gridcolor\":\"#506784\",\"linecolor\":\"#506784\",\"ticks\":\"\"}},\"title\":{\"x\":0.05},\"updatemenudefaults\":{\"bgcolor\":\"#506784\",\"borderwidth\":0},\"xaxis\":{\"automargin\":true,\"gridcolor\":\"#283442\",\"linecolor\":\"#506784\",\"ticks\":\"\",\"title\":{\"standoff\":15},\"zerolinecolor\":\"#283442\",\"zerolinewidth\":2},\"yaxis\":{\"automargin\":true,\"gridcolor\":\"#283442\",\"linecolor\":\"#506784\",\"ticks\":\"\",\"title\":{\"standoff\":15},\"zerolinecolor\":\"#283442\",\"zerolinewidth\":2}}},\"title\":{\"text\":\"Base Value for 1600    045 Preliminary Girls Excel Grp A / Free Skate\\n1601    045 Preliminary Girls Excel Grp A / Free Skate\\n1602    045 Preliminary Girls Excel Grp A / Free Skate\\n1603    045 Preliminary Girls Excel Grp A / Free Skate\\n1604    045 Preliminary Girls Excel Grp A / Free Skate\\n                             ...                      \\n439               Preliminary Girls Excel / Free Skate\\n440               Preliminary Girls Excel / Free Skate\\n441               Preliminary Girls Excel / Free Skate\\n442               Preliminary Girls Excel / Free Skate\\n443               Preliminary Girls Excel / Free Skate\\nName: event, Length: 63, dtype: object\"},\"xaxis\":{\"anchor\":\"y\",\"domain\":[0.0,1.0],\"title\":{\"text\":\"index\"}},\"yaxis\":{\"anchor\":\"x\",\"domain\":[0.0,1.0],\"title\":{\"text\":\"value\"}}},                        {\"responsive\": true}                    ).then(function(){\n                            \nvar gd = document.getElementById('db4a2cf3-dd91-4e4c-bd00-849db9f6dbca');\nvar x = new MutationObserver(function (mutations, observer) {{\n        var display = window.getComputedStyle(gd).display;\n        if (!display || display === 'none') {{\n            console.log([gd, 'removed!']);\n            Plotly.purge(gd);\n            observer.disconnect();\n        }}\n}});\n\n// Listen for the removal of the full notebook cells\nvar notebookContainer = gd.closest('#notebook-container');\nif (notebookContainer) {{\n    x.observe(notebookContainer, {childList: true});\n}}\n\n// Listen for the clearing of the current output cell\nvar outputEl = gd.closest('.output');\nif (outputEl) {{\n    x.observe(outputEl, {childList: true});\n}}\n\n                        })                };                });            </script>        </div>"
     },
     "metadata": {},
     "output_type": "display_data"
    }
   ],
   "source": [
    "plot_df_lt3 = event_watched[event_watched['rank']<=3]\n",
    "plot_df_gt3 = event_watched[event_watched['rank']>3]\n",
    "list_lt3 = list(plot_df_lt3['total_base_value'])\n",
    "list_gt3 = list(plot_df_gt3['total_base_value'])\n",
    "\n",
    "# plot_df = pd.DataFrame((e for e in itertools.zip_longest(list_lt3,list_gt3)),columns=['top3','rest_of_field'])\n",
    "plot_df = pd.DataFrame((e for e in itertools.zip_longest(list_lt3,list_gt3)),columns=['top3','rest_of_field'])\n",
    "plot_df\n",
    "fig = px.line(plot_df,y=['top3','rest_of_field'],title=f\"Base Value for {event_watched['event']}\")\n",
    "fig_widget = go.FigureWidget(fig)\n",
    "fig_widget.show()"
   ],
   "metadata": {
    "collapsed": false,
    "ExecuteTime": {
     "start_time": "2023-05-03T23:09:28.074875Z",
     "end_time": "2023-05-03T23:09:28.617127Z"
    }
   }
  }
 ],
 "metadata": {
  "kernelspec": {
   "display_name": "Python 3",
   "language": "python",
   "name": "python3"
  },
  "language_info": {
   "codemirror_mode": {
    "name": "ipython",
    "version": 2
   },
   "file_extension": ".py",
   "mimetype": "text/x-python",
   "name": "python",
   "nbconvert_exporter": "python",
   "pygments_lexer": "ipython2",
   "version": "2.7.6"
  }
 },
 "nbformat": 4,
 "nbformat_minor": 0
}
